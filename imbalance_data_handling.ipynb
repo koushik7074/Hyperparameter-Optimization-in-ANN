{
  "cells": [
    {
      "cell_type": "markdown",
      "metadata": {
        "id": "view-in-github",
        "colab_type": "text"
      },
      "source": [
        "<a href=\"https://colab.research.google.com/github/koushik7074/Hyperparameter-Optimization-in-ANN/blob/main/imbalance_data_handling.ipynb\" target=\"_parent\"><img src=\"https://colab.research.google.com/assets/colab-badge.svg\" alt=\"Open In Colab\"/></a>"
      ]
    },
    {
      "cell_type": "code",
      "execution_count": 1,
      "id": "b106b336",
      "metadata": {
        "id": "b106b336"
      },
      "outputs": [],
      "source": [
        "import pandas as pd\n",
        "import numpy as np\n",
        "import matplotlib.pyplot as plt"
      ]
    },
    {
      "cell_type": "code",
      "execution_count": 2,
      "id": "b32e3c54",
      "metadata": {
        "colab": {
          "base_uri": "https://localhost:8080/",
          "height": 386
        },
        "id": "b32e3c54",
        "outputId": "ae29063d-c788-43fa-cea7-f8e2e392d5bc"
      },
      "outputs": [
        {
          "output_type": "execute_result",
          "data": {
            "text/plain": [
              "   customerID  gender  SeniorCitizen Partner Dependents  tenure PhoneService  \\\n",
              "0  7590-VHVEG  Female              0     Yes         No       1           No   \n",
              "1  5575-GNVDE    Male              0      No         No      34          Yes   \n",
              "2  3668-QPYBK    Male              0      No         No       2          Yes   \n",
              "3  7795-CFOCW    Male              0      No         No      45           No   \n",
              "4  9237-HQITU  Female              0      No         No       2          Yes   \n",
              "\n",
              "      MultipleLines InternetService OnlineSecurity  ... DeviceProtection  \\\n",
              "0  No phone service             DSL             No  ...               No   \n",
              "1                No             DSL            Yes  ...              Yes   \n",
              "2                No             DSL            Yes  ...               No   \n",
              "3  No phone service             DSL            Yes  ...              Yes   \n",
              "4                No     Fiber optic             No  ...               No   \n",
              "\n",
              "  TechSupport StreamingTV StreamingMovies        Contract PaperlessBilling  \\\n",
              "0          No          No              No  Month-to-month              Yes   \n",
              "1          No          No              No        One year               No   \n",
              "2          No          No              No  Month-to-month              Yes   \n",
              "3         Yes          No              No        One year               No   \n",
              "4          No          No              No  Month-to-month              Yes   \n",
              "\n",
              "               PaymentMethod MonthlyCharges  TotalCharges Churn  \n",
              "0           Electronic check          29.85         29.85    No  \n",
              "1               Mailed check          56.95        1889.5    No  \n",
              "2               Mailed check          53.85        108.15   Yes  \n",
              "3  Bank transfer (automatic)          42.30       1840.75    No  \n",
              "4           Electronic check          70.70        151.65   Yes  \n",
              "\n",
              "[5 rows x 21 columns]"
            ],
            "text/html": [
              "\n",
              "  <div id=\"df-dbfb8fbc-7739-4730-b642-3ae1cc03e990\">\n",
              "    <div class=\"colab-df-container\">\n",
              "      <div>\n",
              "<style scoped>\n",
              "    .dataframe tbody tr th:only-of-type {\n",
              "        vertical-align: middle;\n",
              "    }\n",
              "\n",
              "    .dataframe tbody tr th {\n",
              "        vertical-align: top;\n",
              "    }\n",
              "\n",
              "    .dataframe thead th {\n",
              "        text-align: right;\n",
              "    }\n",
              "</style>\n",
              "<table border=\"1\" class=\"dataframe\">\n",
              "  <thead>\n",
              "    <tr style=\"text-align: right;\">\n",
              "      <th></th>\n",
              "      <th>customerID</th>\n",
              "      <th>gender</th>\n",
              "      <th>SeniorCitizen</th>\n",
              "      <th>Partner</th>\n",
              "      <th>Dependents</th>\n",
              "      <th>tenure</th>\n",
              "      <th>PhoneService</th>\n",
              "      <th>MultipleLines</th>\n",
              "      <th>InternetService</th>\n",
              "      <th>OnlineSecurity</th>\n",
              "      <th>...</th>\n",
              "      <th>DeviceProtection</th>\n",
              "      <th>TechSupport</th>\n",
              "      <th>StreamingTV</th>\n",
              "      <th>StreamingMovies</th>\n",
              "      <th>Contract</th>\n",
              "      <th>PaperlessBilling</th>\n",
              "      <th>PaymentMethod</th>\n",
              "      <th>MonthlyCharges</th>\n",
              "      <th>TotalCharges</th>\n",
              "      <th>Churn</th>\n",
              "    </tr>\n",
              "  </thead>\n",
              "  <tbody>\n",
              "    <tr>\n",
              "      <th>0</th>\n",
              "      <td>7590-VHVEG</td>\n",
              "      <td>Female</td>\n",
              "      <td>0</td>\n",
              "      <td>Yes</td>\n",
              "      <td>No</td>\n",
              "      <td>1</td>\n",
              "      <td>No</td>\n",
              "      <td>No phone service</td>\n",
              "      <td>DSL</td>\n",
              "      <td>No</td>\n",
              "      <td>...</td>\n",
              "      <td>No</td>\n",
              "      <td>No</td>\n",
              "      <td>No</td>\n",
              "      <td>No</td>\n",
              "      <td>Month-to-month</td>\n",
              "      <td>Yes</td>\n",
              "      <td>Electronic check</td>\n",
              "      <td>29.85</td>\n",
              "      <td>29.85</td>\n",
              "      <td>No</td>\n",
              "    </tr>\n",
              "    <tr>\n",
              "      <th>1</th>\n",
              "      <td>5575-GNVDE</td>\n",
              "      <td>Male</td>\n",
              "      <td>0</td>\n",
              "      <td>No</td>\n",
              "      <td>No</td>\n",
              "      <td>34</td>\n",
              "      <td>Yes</td>\n",
              "      <td>No</td>\n",
              "      <td>DSL</td>\n",
              "      <td>Yes</td>\n",
              "      <td>...</td>\n",
              "      <td>Yes</td>\n",
              "      <td>No</td>\n",
              "      <td>No</td>\n",
              "      <td>No</td>\n",
              "      <td>One year</td>\n",
              "      <td>No</td>\n",
              "      <td>Mailed check</td>\n",
              "      <td>56.95</td>\n",
              "      <td>1889.5</td>\n",
              "      <td>No</td>\n",
              "    </tr>\n",
              "    <tr>\n",
              "      <th>2</th>\n",
              "      <td>3668-QPYBK</td>\n",
              "      <td>Male</td>\n",
              "      <td>0</td>\n",
              "      <td>No</td>\n",
              "      <td>No</td>\n",
              "      <td>2</td>\n",
              "      <td>Yes</td>\n",
              "      <td>No</td>\n",
              "      <td>DSL</td>\n",
              "      <td>Yes</td>\n",
              "      <td>...</td>\n",
              "      <td>No</td>\n",
              "      <td>No</td>\n",
              "      <td>No</td>\n",
              "      <td>No</td>\n",
              "      <td>Month-to-month</td>\n",
              "      <td>Yes</td>\n",
              "      <td>Mailed check</td>\n",
              "      <td>53.85</td>\n",
              "      <td>108.15</td>\n",
              "      <td>Yes</td>\n",
              "    </tr>\n",
              "    <tr>\n",
              "      <th>3</th>\n",
              "      <td>7795-CFOCW</td>\n",
              "      <td>Male</td>\n",
              "      <td>0</td>\n",
              "      <td>No</td>\n",
              "      <td>No</td>\n",
              "      <td>45</td>\n",
              "      <td>No</td>\n",
              "      <td>No phone service</td>\n",
              "      <td>DSL</td>\n",
              "      <td>Yes</td>\n",
              "      <td>...</td>\n",
              "      <td>Yes</td>\n",
              "      <td>Yes</td>\n",
              "      <td>No</td>\n",
              "      <td>No</td>\n",
              "      <td>One year</td>\n",
              "      <td>No</td>\n",
              "      <td>Bank transfer (automatic)</td>\n",
              "      <td>42.30</td>\n",
              "      <td>1840.75</td>\n",
              "      <td>No</td>\n",
              "    </tr>\n",
              "    <tr>\n",
              "      <th>4</th>\n",
              "      <td>9237-HQITU</td>\n",
              "      <td>Female</td>\n",
              "      <td>0</td>\n",
              "      <td>No</td>\n",
              "      <td>No</td>\n",
              "      <td>2</td>\n",
              "      <td>Yes</td>\n",
              "      <td>No</td>\n",
              "      <td>Fiber optic</td>\n",
              "      <td>No</td>\n",
              "      <td>...</td>\n",
              "      <td>No</td>\n",
              "      <td>No</td>\n",
              "      <td>No</td>\n",
              "      <td>No</td>\n",
              "      <td>Month-to-month</td>\n",
              "      <td>Yes</td>\n",
              "      <td>Electronic check</td>\n",
              "      <td>70.70</td>\n",
              "      <td>151.65</td>\n",
              "      <td>Yes</td>\n",
              "    </tr>\n",
              "  </tbody>\n",
              "</table>\n",
              "<p>5 rows × 21 columns</p>\n",
              "</div>\n",
              "      <button class=\"colab-df-convert\" onclick=\"convertToInteractive('df-dbfb8fbc-7739-4730-b642-3ae1cc03e990')\"\n",
              "              title=\"Convert this dataframe to an interactive table.\"\n",
              "              style=\"display:none;\">\n",
              "        \n",
              "  <svg xmlns=\"http://www.w3.org/2000/svg\" height=\"24px\"viewBox=\"0 0 24 24\"\n",
              "       width=\"24px\">\n",
              "    <path d=\"M0 0h24v24H0V0z\" fill=\"none\"/>\n",
              "    <path d=\"M18.56 5.44l.94 2.06.94-2.06 2.06-.94-2.06-.94-.94-2.06-.94 2.06-2.06.94zm-11 1L8.5 8.5l.94-2.06 2.06-.94-2.06-.94L8.5 2.5l-.94 2.06-2.06.94zm10 10l.94 2.06.94-2.06 2.06-.94-2.06-.94-.94-2.06-.94 2.06-2.06.94z\"/><path d=\"M17.41 7.96l-1.37-1.37c-.4-.4-.92-.59-1.43-.59-.52 0-1.04.2-1.43.59L10.3 9.45l-7.72 7.72c-.78.78-.78 2.05 0 2.83L4 21.41c.39.39.9.59 1.41.59.51 0 1.02-.2 1.41-.59l7.78-7.78 2.81-2.81c.8-.78.8-2.07 0-2.86zM5.41 20L4 18.59l7.72-7.72 1.47 1.35L5.41 20z\"/>\n",
              "  </svg>\n",
              "      </button>\n",
              "      \n",
              "  <style>\n",
              "    .colab-df-container {\n",
              "      display:flex;\n",
              "      flex-wrap:wrap;\n",
              "      gap: 12px;\n",
              "    }\n",
              "\n",
              "    .colab-df-convert {\n",
              "      background-color: #E8F0FE;\n",
              "      border: none;\n",
              "      border-radius: 50%;\n",
              "      cursor: pointer;\n",
              "      display: none;\n",
              "      fill: #1967D2;\n",
              "      height: 32px;\n",
              "      padding: 0 0 0 0;\n",
              "      width: 32px;\n",
              "    }\n",
              "\n",
              "    .colab-df-convert:hover {\n",
              "      background-color: #E2EBFA;\n",
              "      box-shadow: 0px 1px 2px rgba(60, 64, 67, 0.3), 0px 1px 3px 1px rgba(60, 64, 67, 0.15);\n",
              "      fill: #174EA6;\n",
              "    }\n",
              "\n",
              "    [theme=dark] .colab-df-convert {\n",
              "      background-color: #3B4455;\n",
              "      fill: #D2E3FC;\n",
              "    }\n",
              "\n",
              "    [theme=dark] .colab-df-convert:hover {\n",
              "      background-color: #434B5C;\n",
              "      box-shadow: 0px 1px 3px 1px rgba(0, 0, 0, 0.15);\n",
              "      filter: drop-shadow(0px 1px 2px rgba(0, 0, 0, 0.3));\n",
              "      fill: #FFFFFF;\n",
              "    }\n",
              "  </style>\n",
              "\n",
              "      <script>\n",
              "        const buttonEl =\n",
              "          document.querySelector('#df-dbfb8fbc-7739-4730-b642-3ae1cc03e990 button.colab-df-convert');\n",
              "        buttonEl.style.display =\n",
              "          google.colab.kernel.accessAllowed ? 'block' : 'none';\n",
              "\n",
              "        async function convertToInteractive(key) {\n",
              "          const element = document.querySelector('#df-dbfb8fbc-7739-4730-b642-3ae1cc03e990');\n",
              "          const dataTable =\n",
              "            await google.colab.kernel.invokeFunction('convertToInteractive',\n",
              "                                                     [key], {});\n",
              "          if (!dataTable) return;\n",
              "\n",
              "          const docLinkHtml = 'Like what you see? Visit the ' +\n",
              "            '<a target=\"_blank\" href=https://colab.research.google.com/notebooks/data_table.ipynb>data table notebook</a>'\n",
              "            + ' to learn more about interactive tables.';\n",
              "          element.innerHTML = '';\n",
              "          dataTable['output_type'] = 'display_data';\n",
              "          await google.colab.output.renderOutput(dataTable, element);\n",
              "          const docLink = document.createElement('div');\n",
              "          docLink.innerHTML = docLinkHtml;\n",
              "          element.appendChild(docLink);\n",
              "        }\n",
              "      </script>\n",
              "    </div>\n",
              "  </div>\n",
              "  "
            ]
          },
          "metadata": {},
          "execution_count": 2
        }
      ],
      "source": [
        "df = pd.read_csv('customer_churn.xls')\n",
        "df.head()"
      ]
    },
    {
      "cell_type": "code",
      "execution_count": 3,
      "id": "86567246",
      "metadata": {
        "colab": {
          "base_uri": "https://localhost:8080/"
        },
        "id": "86567246",
        "outputId": "581ca1ee-3a95-4c60-a005-9305fbe5afd2"
      },
      "outputs": [
        {
          "output_type": "execute_result",
          "data": {
            "text/plain": [
              "gender               object\n",
              "SeniorCitizen         int64\n",
              "Partner              object\n",
              "Dependents           object\n",
              "tenure                int64\n",
              "PhoneService         object\n",
              "MultipleLines        object\n",
              "InternetService      object\n",
              "OnlineSecurity       object\n",
              "OnlineBackup         object\n",
              "DeviceProtection     object\n",
              "TechSupport          object\n",
              "StreamingTV          object\n",
              "StreamingMovies      object\n",
              "Contract             object\n",
              "PaperlessBilling     object\n",
              "PaymentMethod        object\n",
              "MonthlyCharges      float64\n",
              "TotalCharges         object\n",
              "Churn                object\n",
              "dtype: object"
            ]
          },
          "metadata": {},
          "execution_count": 3
        }
      ],
      "source": [
        "df.drop('customerID',axis='columns', inplace=True)\n",
        "df.dtypes"
      ]
    },
    {
      "cell_type": "code",
      "execution_count": 4,
      "id": "5c10c664",
      "metadata": {
        "colab": {
          "base_uri": "https://localhost:8080/"
        },
        "id": "5c10c664",
        "outputId": "cdb02355-fbef-4415-8b57-7de7e0ef9975"
      },
      "outputs": [
        {
          "output_type": "execute_result",
          "data": {
            "text/plain": [
              "array(['29.85', '1889.5', '108.15', ..., '346.45', '306.6', '6844.5'],\n",
              "      dtype=object)"
            ]
          },
          "metadata": {},
          "execution_count": 4
        }
      ],
      "source": [
        "df.TotalCharges.values #these values are strings"
      ]
    },
    {
      "cell_type": "code",
      "execution_count": 5,
      "id": "397c9f53",
      "metadata": {
        "colab": {
          "base_uri": "https://localhost:8080/"
        },
        "id": "397c9f53",
        "outputId": "1ec6d139-13c9-484f-d200-e08898e0fde9"
      },
      "outputs": [
        {
          "output_type": "execute_result",
          "data": {
            "text/plain": [
              "array([ 29.85,  56.95,  53.85, ...,  29.6 ,  74.4 , 105.65])"
            ]
          },
          "metadata": {},
          "execution_count": 5
        }
      ],
      "source": [
        "df.MonthlyCharges.values # float"
      ]
    },
    {
      "cell_type": "code",
      "execution_count": 6,
      "id": "9933dd3c",
      "metadata": {
        "colab": {
          "base_uri": "https://localhost:8080/"
        },
        "id": "9933dd3c",
        "outputId": "d956e614-da3a-41f5-e768-f8fe2e73e5d2"
      },
      "outputs": [
        {
          "output_type": "execute_result",
          "data": {
            "text/plain": [
              "0         29.85\n",
              "1       1889.50\n",
              "2        108.15\n",
              "3       1840.75\n",
              "4        151.65\n",
              "         ...   \n",
              "7038    1990.50\n",
              "7039    7362.90\n",
              "7040     346.45\n",
              "7041     306.60\n",
              "7042    6844.50\n",
              "Name: TotalCharges, Length: 7043, dtype: float64"
            ]
          },
          "metadata": {},
          "execution_count": 6
        }
      ],
      "source": [
        "# convert string values to numeric\n",
        "pd.to_numeric(df.TotalCharges, errors='coerce')"
      ]
    },
    {
      "cell_type": "code",
      "execution_count": 7,
      "id": "326ab4ce",
      "metadata": {
        "colab": {
          "base_uri": "https://localhost:8080/",
          "height": 615
        },
        "id": "326ab4ce",
        "outputId": "e7a01090-2394-46e7-82c6-0402539e6cb4"
      },
      "outputs": [
        {
          "output_type": "execute_result",
          "data": {
            "text/plain": [
              "      gender  SeniorCitizen Partner Dependents  tenure PhoneService  \\\n",
              "488   Female              0     Yes        Yes       0           No   \n",
              "753     Male              0      No        Yes       0          Yes   \n",
              "936   Female              0     Yes        Yes       0          Yes   \n",
              "1082    Male              0     Yes        Yes       0          Yes   \n",
              "1340  Female              0     Yes        Yes       0           No   \n",
              "3331    Male              0     Yes        Yes       0          Yes   \n",
              "3826    Male              0     Yes        Yes       0          Yes   \n",
              "4380  Female              0     Yes        Yes       0          Yes   \n",
              "5218    Male              0     Yes        Yes       0          Yes   \n",
              "6670  Female              0     Yes        Yes       0          Yes   \n",
              "6754    Male              0      No        Yes       0          Yes   \n",
              "\n",
              "         MultipleLines InternetService       OnlineSecurity  \\\n",
              "488   No phone service             DSL                  Yes   \n",
              "753                 No              No  No internet service   \n",
              "936                 No             DSL                  Yes   \n",
              "1082               Yes              No  No internet service   \n",
              "1340  No phone service             DSL                  Yes   \n",
              "3331                No              No  No internet service   \n",
              "3826               Yes              No  No internet service   \n",
              "4380                No              No  No internet service   \n",
              "5218                No              No  No internet service   \n",
              "6670               Yes             DSL                   No   \n",
              "6754               Yes             DSL                  Yes   \n",
              "\n",
              "             OnlineBackup     DeviceProtection          TechSupport  \\\n",
              "488                    No                  Yes                  Yes   \n",
              "753   No internet service  No internet service  No internet service   \n",
              "936                   Yes                  Yes                   No   \n",
              "1082  No internet service  No internet service  No internet service   \n",
              "1340                  Yes                  Yes                  Yes   \n",
              "3331  No internet service  No internet service  No internet service   \n",
              "3826  No internet service  No internet service  No internet service   \n",
              "4380  No internet service  No internet service  No internet service   \n",
              "5218  No internet service  No internet service  No internet service   \n",
              "6670                  Yes                  Yes                  Yes   \n",
              "6754                  Yes                   No                  Yes   \n",
              "\n",
              "              StreamingTV      StreamingMovies  Contract PaperlessBilling  \\\n",
              "488                   Yes                   No  Two year              Yes   \n",
              "753   No internet service  No internet service  Two year               No   \n",
              "936                   Yes                  Yes  Two year               No   \n",
              "1082  No internet service  No internet service  Two year               No   \n",
              "1340                  Yes                   No  Two year               No   \n",
              "3331  No internet service  No internet service  Two year               No   \n",
              "3826  No internet service  No internet service  Two year               No   \n",
              "4380  No internet service  No internet service  Two year               No   \n",
              "5218  No internet service  No internet service  One year              Yes   \n",
              "6670                  Yes                   No  Two year               No   \n",
              "6754                   No                   No  Two year              Yes   \n",
              "\n",
              "                  PaymentMethod  MonthlyCharges TotalCharges Churn  \n",
              "488   Bank transfer (automatic)           52.55                 No  \n",
              "753                Mailed check           20.25                 No  \n",
              "936                Mailed check           80.85                 No  \n",
              "1082               Mailed check           25.75                 No  \n",
              "1340    Credit card (automatic)           56.05                 No  \n",
              "3331               Mailed check           19.85                 No  \n",
              "3826               Mailed check           25.35                 No  \n",
              "4380               Mailed check           20.00                 No  \n",
              "5218               Mailed check           19.70                 No  \n",
              "6670               Mailed check           73.35                 No  \n",
              "6754  Bank transfer (automatic)           61.90                 No  "
            ],
            "text/html": [
              "\n",
              "  <div id=\"df-fc9ea3f4-b8f9-4f02-9a07-575afb1b1255\">\n",
              "    <div class=\"colab-df-container\">\n",
              "      <div>\n",
              "<style scoped>\n",
              "    .dataframe tbody tr th:only-of-type {\n",
              "        vertical-align: middle;\n",
              "    }\n",
              "\n",
              "    .dataframe tbody tr th {\n",
              "        vertical-align: top;\n",
              "    }\n",
              "\n",
              "    .dataframe thead th {\n",
              "        text-align: right;\n",
              "    }\n",
              "</style>\n",
              "<table border=\"1\" class=\"dataframe\">\n",
              "  <thead>\n",
              "    <tr style=\"text-align: right;\">\n",
              "      <th></th>\n",
              "      <th>gender</th>\n",
              "      <th>SeniorCitizen</th>\n",
              "      <th>Partner</th>\n",
              "      <th>Dependents</th>\n",
              "      <th>tenure</th>\n",
              "      <th>PhoneService</th>\n",
              "      <th>MultipleLines</th>\n",
              "      <th>InternetService</th>\n",
              "      <th>OnlineSecurity</th>\n",
              "      <th>OnlineBackup</th>\n",
              "      <th>DeviceProtection</th>\n",
              "      <th>TechSupport</th>\n",
              "      <th>StreamingTV</th>\n",
              "      <th>StreamingMovies</th>\n",
              "      <th>Contract</th>\n",
              "      <th>PaperlessBilling</th>\n",
              "      <th>PaymentMethod</th>\n",
              "      <th>MonthlyCharges</th>\n",
              "      <th>TotalCharges</th>\n",
              "      <th>Churn</th>\n",
              "    </tr>\n",
              "  </thead>\n",
              "  <tbody>\n",
              "    <tr>\n",
              "      <th>488</th>\n",
              "      <td>Female</td>\n",
              "      <td>0</td>\n",
              "      <td>Yes</td>\n",
              "      <td>Yes</td>\n",
              "      <td>0</td>\n",
              "      <td>No</td>\n",
              "      <td>No phone service</td>\n",
              "      <td>DSL</td>\n",
              "      <td>Yes</td>\n",
              "      <td>No</td>\n",
              "      <td>Yes</td>\n",
              "      <td>Yes</td>\n",
              "      <td>Yes</td>\n",
              "      <td>No</td>\n",
              "      <td>Two year</td>\n",
              "      <td>Yes</td>\n",
              "      <td>Bank transfer (automatic)</td>\n",
              "      <td>52.55</td>\n",
              "      <td></td>\n",
              "      <td>No</td>\n",
              "    </tr>\n",
              "    <tr>\n",
              "      <th>753</th>\n",
              "      <td>Male</td>\n",
              "      <td>0</td>\n",
              "      <td>No</td>\n",
              "      <td>Yes</td>\n",
              "      <td>0</td>\n",
              "      <td>Yes</td>\n",
              "      <td>No</td>\n",
              "      <td>No</td>\n",
              "      <td>No internet service</td>\n",
              "      <td>No internet service</td>\n",
              "      <td>No internet service</td>\n",
              "      <td>No internet service</td>\n",
              "      <td>No internet service</td>\n",
              "      <td>No internet service</td>\n",
              "      <td>Two year</td>\n",
              "      <td>No</td>\n",
              "      <td>Mailed check</td>\n",
              "      <td>20.25</td>\n",
              "      <td></td>\n",
              "      <td>No</td>\n",
              "    </tr>\n",
              "    <tr>\n",
              "      <th>936</th>\n",
              "      <td>Female</td>\n",
              "      <td>0</td>\n",
              "      <td>Yes</td>\n",
              "      <td>Yes</td>\n",
              "      <td>0</td>\n",
              "      <td>Yes</td>\n",
              "      <td>No</td>\n",
              "      <td>DSL</td>\n",
              "      <td>Yes</td>\n",
              "      <td>Yes</td>\n",
              "      <td>Yes</td>\n",
              "      <td>No</td>\n",
              "      <td>Yes</td>\n",
              "      <td>Yes</td>\n",
              "      <td>Two year</td>\n",
              "      <td>No</td>\n",
              "      <td>Mailed check</td>\n",
              "      <td>80.85</td>\n",
              "      <td></td>\n",
              "      <td>No</td>\n",
              "    </tr>\n",
              "    <tr>\n",
              "      <th>1082</th>\n",
              "      <td>Male</td>\n",
              "      <td>0</td>\n",
              "      <td>Yes</td>\n",
              "      <td>Yes</td>\n",
              "      <td>0</td>\n",
              "      <td>Yes</td>\n",
              "      <td>Yes</td>\n",
              "      <td>No</td>\n",
              "      <td>No internet service</td>\n",
              "      <td>No internet service</td>\n",
              "      <td>No internet service</td>\n",
              "      <td>No internet service</td>\n",
              "      <td>No internet service</td>\n",
              "      <td>No internet service</td>\n",
              "      <td>Two year</td>\n",
              "      <td>No</td>\n",
              "      <td>Mailed check</td>\n",
              "      <td>25.75</td>\n",
              "      <td></td>\n",
              "      <td>No</td>\n",
              "    </tr>\n",
              "    <tr>\n",
              "      <th>1340</th>\n",
              "      <td>Female</td>\n",
              "      <td>0</td>\n",
              "      <td>Yes</td>\n",
              "      <td>Yes</td>\n",
              "      <td>0</td>\n",
              "      <td>No</td>\n",
              "      <td>No phone service</td>\n",
              "      <td>DSL</td>\n",
              "      <td>Yes</td>\n",
              "      <td>Yes</td>\n",
              "      <td>Yes</td>\n",
              "      <td>Yes</td>\n",
              "      <td>Yes</td>\n",
              "      <td>No</td>\n",
              "      <td>Two year</td>\n",
              "      <td>No</td>\n",
              "      <td>Credit card (automatic)</td>\n",
              "      <td>56.05</td>\n",
              "      <td></td>\n",
              "      <td>No</td>\n",
              "    </tr>\n",
              "    <tr>\n",
              "      <th>3331</th>\n",
              "      <td>Male</td>\n",
              "      <td>0</td>\n",
              "      <td>Yes</td>\n",
              "      <td>Yes</td>\n",
              "      <td>0</td>\n",
              "      <td>Yes</td>\n",
              "      <td>No</td>\n",
              "      <td>No</td>\n",
              "      <td>No internet service</td>\n",
              "      <td>No internet service</td>\n",
              "      <td>No internet service</td>\n",
              "      <td>No internet service</td>\n",
              "      <td>No internet service</td>\n",
              "      <td>No internet service</td>\n",
              "      <td>Two year</td>\n",
              "      <td>No</td>\n",
              "      <td>Mailed check</td>\n",
              "      <td>19.85</td>\n",
              "      <td></td>\n",
              "      <td>No</td>\n",
              "    </tr>\n",
              "    <tr>\n",
              "      <th>3826</th>\n",
              "      <td>Male</td>\n",
              "      <td>0</td>\n",
              "      <td>Yes</td>\n",
              "      <td>Yes</td>\n",
              "      <td>0</td>\n",
              "      <td>Yes</td>\n",
              "      <td>Yes</td>\n",
              "      <td>No</td>\n",
              "      <td>No internet service</td>\n",
              "      <td>No internet service</td>\n",
              "      <td>No internet service</td>\n",
              "      <td>No internet service</td>\n",
              "      <td>No internet service</td>\n",
              "      <td>No internet service</td>\n",
              "      <td>Two year</td>\n",
              "      <td>No</td>\n",
              "      <td>Mailed check</td>\n",
              "      <td>25.35</td>\n",
              "      <td></td>\n",
              "      <td>No</td>\n",
              "    </tr>\n",
              "    <tr>\n",
              "      <th>4380</th>\n",
              "      <td>Female</td>\n",
              "      <td>0</td>\n",
              "      <td>Yes</td>\n",
              "      <td>Yes</td>\n",
              "      <td>0</td>\n",
              "      <td>Yes</td>\n",
              "      <td>No</td>\n",
              "      <td>No</td>\n",
              "      <td>No internet service</td>\n",
              "      <td>No internet service</td>\n",
              "      <td>No internet service</td>\n",
              "      <td>No internet service</td>\n",
              "      <td>No internet service</td>\n",
              "      <td>No internet service</td>\n",
              "      <td>Two year</td>\n",
              "      <td>No</td>\n",
              "      <td>Mailed check</td>\n",
              "      <td>20.00</td>\n",
              "      <td></td>\n",
              "      <td>No</td>\n",
              "    </tr>\n",
              "    <tr>\n",
              "      <th>5218</th>\n",
              "      <td>Male</td>\n",
              "      <td>0</td>\n",
              "      <td>Yes</td>\n",
              "      <td>Yes</td>\n",
              "      <td>0</td>\n",
              "      <td>Yes</td>\n",
              "      <td>No</td>\n",
              "      <td>No</td>\n",
              "      <td>No internet service</td>\n",
              "      <td>No internet service</td>\n",
              "      <td>No internet service</td>\n",
              "      <td>No internet service</td>\n",
              "      <td>No internet service</td>\n",
              "      <td>No internet service</td>\n",
              "      <td>One year</td>\n",
              "      <td>Yes</td>\n",
              "      <td>Mailed check</td>\n",
              "      <td>19.70</td>\n",
              "      <td></td>\n",
              "      <td>No</td>\n",
              "    </tr>\n",
              "    <tr>\n",
              "      <th>6670</th>\n",
              "      <td>Female</td>\n",
              "      <td>0</td>\n",
              "      <td>Yes</td>\n",
              "      <td>Yes</td>\n",
              "      <td>0</td>\n",
              "      <td>Yes</td>\n",
              "      <td>Yes</td>\n",
              "      <td>DSL</td>\n",
              "      <td>No</td>\n",
              "      <td>Yes</td>\n",
              "      <td>Yes</td>\n",
              "      <td>Yes</td>\n",
              "      <td>Yes</td>\n",
              "      <td>No</td>\n",
              "      <td>Two year</td>\n",
              "      <td>No</td>\n",
              "      <td>Mailed check</td>\n",
              "      <td>73.35</td>\n",
              "      <td></td>\n",
              "      <td>No</td>\n",
              "    </tr>\n",
              "    <tr>\n",
              "      <th>6754</th>\n",
              "      <td>Male</td>\n",
              "      <td>0</td>\n",
              "      <td>No</td>\n",
              "      <td>Yes</td>\n",
              "      <td>0</td>\n",
              "      <td>Yes</td>\n",
              "      <td>Yes</td>\n",
              "      <td>DSL</td>\n",
              "      <td>Yes</td>\n",
              "      <td>Yes</td>\n",
              "      <td>No</td>\n",
              "      <td>Yes</td>\n",
              "      <td>No</td>\n",
              "      <td>No</td>\n",
              "      <td>Two year</td>\n",
              "      <td>Yes</td>\n",
              "      <td>Bank transfer (automatic)</td>\n",
              "      <td>61.90</td>\n",
              "      <td></td>\n",
              "      <td>No</td>\n",
              "    </tr>\n",
              "  </tbody>\n",
              "</table>\n",
              "</div>\n",
              "      <button class=\"colab-df-convert\" onclick=\"convertToInteractive('df-fc9ea3f4-b8f9-4f02-9a07-575afb1b1255')\"\n",
              "              title=\"Convert this dataframe to an interactive table.\"\n",
              "              style=\"display:none;\">\n",
              "        \n",
              "  <svg xmlns=\"http://www.w3.org/2000/svg\" height=\"24px\"viewBox=\"0 0 24 24\"\n",
              "       width=\"24px\">\n",
              "    <path d=\"M0 0h24v24H0V0z\" fill=\"none\"/>\n",
              "    <path d=\"M18.56 5.44l.94 2.06.94-2.06 2.06-.94-2.06-.94-.94-2.06-.94 2.06-2.06.94zm-11 1L8.5 8.5l.94-2.06 2.06-.94-2.06-.94L8.5 2.5l-.94 2.06-2.06.94zm10 10l.94 2.06.94-2.06 2.06-.94-2.06-.94-.94-2.06-.94 2.06-2.06.94z\"/><path d=\"M17.41 7.96l-1.37-1.37c-.4-.4-.92-.59-1.43-.59-.52 0-1.04.2-1.43.59L10.3 9.45l-7.72 7.72c-.78.78-.78 2.05 0 2.83L4 21.41c.39.39.9.59 1.41.59.51 0 1.02-.2 1.41-.59l7.78-7.78 2.81-2.81c.8-.78.8-2.07 0-2.86zM5.41 20L4 18.59l7.72-7.72 1.47 1.35L5.41 20z\"/>\n",
              "  </svg>\n",
              "      </button>\n",
              "      \n",
              "  <style>\n",
              "    .colab-df-container {\n",
              "      display:flex;\n",
              "      flex-wrap:wrap;\n",
              "      gap: 12px;\n",
              "    }\n",
              "\n",
              "    .colab-df-convert {\n",
              "      background-color: #E8F0FE;\n",
              "      border: none;\n",
              "      border-radius: 50%;\n",
              "      cursor: pointer;\n",
              "      display: none;\n",
              "      fill: #1967D2;\n",
              "      height: 32px;\n",
              "      padding: 0 0 0 0;\n",
              "      width: 32px;\n",
              "    }\n",
              "\n",
              "    .colab-df-convert:hover {\n",
              "      background-color: #E2EBFA;\n",
              "      box-shadow: 0px 1px 2px rgba(60, 64, 67, 0.3), 0px 1px 3px 1px rgba(60, 64, 67, 0.15);\n",
              "      fill: #174EA6;\n",
              "    }\n",
              "\n",
              "    [theme=dark] .colab-df-convert {\n",
              "      background-color: #3B4455;\n",
              "      fill: #D2E3FC;\n",
              "    }\n",
              "\n",
              "    [theme=dark] .colab-df-convert:hover {\n",
              "      background-color: #434B5C;\n",
              "      box-shadow: 0px 1px 3px 1px rgba(0, 0, 0, 0.15);\n",
              "      filter: drop-shadow(0px 1px 2px rgba(0, 0, 0, 0.3));\n",
              "      fill: #FFFFFF;\n",
              "    }\n",
              "  </style>\n",
              "\n",
              "      <script>\n",
              "        const buttonEl =\n",
              "          document.querySelector('#df-fc9ea3f4-b8f9-4f02-9a07-575afb1b1255 button.colab-df-convert');\n",
              "        buttonEl.style.display =\n",
              "          google.colab.kernel.accessAllowed ? 'block' : 'none';\n",
              "\n",
              "        async function convertToInteractive(key) {\n",
              "          const element = document.querySelector('#df-fc9ea3f4-b8f9-4f02-9a07-575afb1b1255');\n",
              "          const dataTable =\n",
              "            await google.colab.kernel.invokeFunction('convertToInteractive',\n",
              "                                                     [key], {});\n",
              "          if (!dataTable) return;\n",
              "\n",
              "          const docLinkHtml = 'Like what you see? Visit the ' +\n",
              "            '<a target=\"_blank\" href=https://colab.research.google.com/notebooks/data_table.ipynb>data table notebook</a>'\n",
              "            + ' to learn more about interactive tables.';\n",
              "          element.innerHTML = '';\n",
              "          dataTable['output_type'] = 'display_data';\n",
              "          await google.colab.output.renderOutput(dataTable, element);\n",
              "          const docLink = document.createElement('div');\n",
              "          docLink.innerHTML = docLinkHtml;\n",
              "          element.appendChild(docLink);\n",
              "        }\n",
              "      </script>\n",
              "    </div>\n",
              "  </div>\n",
              "  "
            ]
          },
          "metadata": {},
          "execution_count": 7
        }
      ],
      "source": [
        "df[pd.to_numeric(df.TotalCharges, errors='coerce').isnull()]"
      ]
    },
    {
      "cell_type": "code",
      "execution_count": 8,
      "id": "3d5a4202",
      "metadata": {
        "colab": {
          "base_uri": "https://localhost:8080/"
        },
        "id": "3d5a4202",
        "outputId": "fc4553ba-f61e-4a32-afd7-b468b8f51c4a"
      },
      "outputs": [
        {
          "output_type": "execute_result",
          "data": {
            "text/plain": [
              "(7032, 20)"
            ]
          },
          "metadata": {},
          "execution_count": 8
        }
      ],
      "source": [
        "# create new dataframe by removing these rows\n",
        "df1 = df[df.TotalCharges!=\" \"]\n",
        "df1.shape"
      ]
    },
    {
      "cell_type": "code",
      "execution_count": 9,
      "id": "0e74bbea",
      "metadata": {
        "colab": {
          "base_uri": "https://localhost:8080/"
        },
        "id": "0e74bbea",
        "outputId": "527a3957-d1b3-4e30-dd4c-566ff1016363"
      },
      "outputs": [
        {
          "output_type": "stream",
          "name": "stderr",
          "text": [
            "<ipython-input-9-b67e0c3d31a6>:1: SettingWithCopyWarning: \n",
            "A value is trying to be set on a copy of a slice from a DataFrame.\n",
            "Try using .loc[row_indexer,col_indexer] = value instead\n",
            "\n",
            "See the caveats in the documentation: https://pandas.pydata.org/pandas-docs/stable/user_guide/indexing.html#returning-a-view-versus-a-copy\n",
            "  df1.TotalCharges = pd.to_numeric(df1.TotalCharges)\n"
          ]
        }
      ],
      "source": [
        "df1.TotalCharges = pd.to_numeric(df1.TotalCharges)"
      ]
    },
    {
      "cell_type": "code",
      "execution_count": 10,
      "id": "1c35a4dd",
      "metadata": {
        "colab": {
          "base_uri": "https://localhost:8080/"
        },
        "id": "1c35a4dd",
        "outputId": "48bf31d0-256b-4c8f-d27a-674c90548af1"
      },
      "outputs": [
        {
          "output_type": "execute_result",
          "data": {
            "text/plain": [
              "dtype('float64')"
            ]
          },
          "metadata": {},
          "execution_count": 10
        }
      ],
      "source": [
        "df1.TotalCharges.dtypes"
      ]
    },
    {
      "cell_type": "code",
      "execution_count": 11,
      "id": "fa2f5082",
      "metadata": {
        "colab": {
          "base_uri": "https://localhost:8080/",
          "height": 489
        },
        "id": "fa2f5082",
        "outputId": "8f1bbe1f-97da-4b6f-d371-c98afd45e6aa"
      },
      "outputs": [
        {
          "output_type": "execute_result",
          "data": {
            "text/plain": [
              "Text(0.5, 1.0, 'Customer Churn Prediction Visualization')"
            ]
          },
          "metadata": {},
          "execution_count": 11
        },
        {
          "output_type": "display_data",
          "data": {
            "text/plain": [
              "<Figure size 640x480 with 1 Axes>"
            ],
            "image/png": "[encoded data removed]"
          },
          "metadata": {}
        }
      ],
      "source": [
        "tenure_churn_no = df1[df1.Churn=='No'].tenure\n",
        "tenure_churn_yes = df1[df1.Churn=='Yes'].tenure\n",
        "\n",
        "plt.hist([tenure_churn_yes, tenure_churn_no],\n",
        "         color=['green','red'],\n",
        "         label = ['Churn = Yes','Churn = No']);\n",
        "\n",
        "plt.legend()\n",
        "plt.xlabel('Tenure')\n",
        "plt.ylabel('Number of customers')\n",
        "plt.title('Customer Churn Prediction Visualization')"
      ]
    },
    {
      "cell_type": "code",
      "execution_count": 12,
      "id": "564ce444",
      "metadata": {
        "colab": {
          "base_uri": "https://localhost:8080/",
          "height": 489
        },
        "id": "564ce444",
        "outputId": "3a4ab70e-f40a-471c-cd5d-c9d2f3ac0af3"
      },
      "outputs": [
        {
          "output_type": "execute_result",
          "data": {
            "text/plain": [
              "Text(0.5, 1.0, 'Customer Churn Prediction Visualization')"
            ]
          },
          "metadata": {},
          "execution_count": 12
        },
        {
          "output_type": "display_data",
          "data": {
            "text/plain": [
              "<Figure size 640x480 with 1 Axes>"
            ],
            "image/png": "[encoded data removed]"
          },
          "metadata": {}
        }
      ],
      "source": [
        "tenure_churn_no = df1[df1.Churn=='No'].MonthlyCharges\n",
        "tenure_churn_yes = df1[df1.Churn=='Yes'].MonthlyCharges\n",
        "\n",
        "plt.hist([tenure_churn_yes, tenure_churn_no],\n",
        "         color=['green','red'],\n",
        "         label = ['Churn = Yes','Churn = No']);\n",
        "\n",
        "plt.legend()\n",
        "plt.xlabel('Monthly Charges')\n",
        "plt.ylabel('Number of customers')\n",
        "plt.title('Customer Churn Prediction Visualization')"
      ]
    },
    {
      "cell_type": "code",
      "execution_count": 13,
      "id": "aa6061c9",
      "metadata": {
        "id": "aa6061c9"
      },
      "outputs": [],
      "source": [
        "def print_unique_col_values(dataframe):\n",
        "    for columns in df:\n",
        "        if df[columns].dtypes == 'object':\n",
        "            print(f'{columns} : {df[columns].unique()}')"
      ]
    },
    {
      "cell_type": "code",
      "execution_count": 14,
      "id": "1f7e69ea",
      "metadata": {
        "colab": {
          "base_uri": "https://localhost:8080/"
        },
        "id": "1f7e69ea",
        "outputId": "42d39441-f201-4103-a17a-eba93687c0e5"
      },
      "outputs": [
        {
          "output_type": "stream",
          "name": "stdout",
          "text": [
            "gender : ['Female' 'Male']\n",
            "Partner : ['Yes' 'No']\n",
            "Dependents : ['No' 'Yes']\n",
            "PhoneService : ['No' 'Yes']\n",
            "MultipleLines : ['No phone service' 'No' 'Yes']\n",
            "InternetService : ['DSL' 'Fiber optic' 'No']\n",
            "OnlineSecurity : ['No' 'Yes' 'No internet service']\n",
            "OnlineBackup : ['Yes' 'No' 'No internet service']\n",
            "DeviceProtection : ['No' 'Yes' 'No internet service']\n",
            "TechSupport : ['No' 'Yes' 'No internet service']\n",
            "StreamingTV : ['No' 'Yes' 'No internet service']\n",
            "StreamingMovies : ['No' 'Yes' 'No internet service']\n",
            "Contract : ['Month-to-month' 'One year' 'Two year']\n",
            "PaperlessBilling : ['Yes' 'No']\n",
            "PaymentMethod : ['Electronic check' 'Mailed check' 'Bank transfer (automatic)'\n",
            " 'Credit card (automatic)']\n",
            "TotalCharges : ['29.85' '1889.5' '108.15' ... '346.45' '306.6' '6844.5']\n",
            "Churn : ['No' 'Yes']\n"
          ]
        }
      ],
      "source": [
        "print_unique_col_values(df1)"
      ]
    },
    {
      "cell_type": "code",
      "execution_count": 15,
      "id": "0608cad9",
      "metadata": {
        "colab": {
          "base_uri": "https://localhost:8080/"
        },
        "id": "0608cad9",
        "outputId": "8531892a-a65f-4180-af5e-1b43985a6831"
      },
      "outputs": [
        {
          "output_type": "stream",
          "name": "stderr",
          "text": [
            "<ipython-input-15-e77a2f32705f>:1: SettingWithCopyWarning: \n",
            "A value is trying to be set on a copy of a slice from a DataFrame\n",
            "\n",
            "See the caveats in the documentation: https://pandas.pydata.org/pandas-docs/stable/user_guide/indexing.html#returning-a-view-versus-a-copy\n",
            "  df1.replace('No internet service','No', inplace = True)\n",
            "<ipython-input-15-e77a2f32705f>:3: SettingWithCopyWarning: \n",
            "A value is trying to be set on a copy of a slice from a DataFrame\n",
            "\n",
            "See the caveats in the documentation: https://pandas.pydata.org/pandas-docs/stable/user_guide/indexing.html#returning-a-view-versus-a-copy\n",
            "  df1.replace('No phone service','No', inplace = True)\n"
          ]
        }
      ],
      "source": [
        "df1.replace('No internet service','No', inplace = True)\n",
        "\n",
        "df1.replace('No phone service','No', inplace = True)"
      ]
    },
    {
      "cell_type": "code",
      "execution_count": 16,
      "id": "89a8ec02",
      "metadata": {
        "colab": {
          "base_uri": "https://localhost:8080/"
        },
        "id": "89a8ec02",
        "outputId": "a9d6852c-5b39-4e6c-a019-cd2db42222c2"
      },
      "outputs": [
        {
          "output_type": "stream",
          "name": "stdout",
          "text": [
            "gender : ['Female' 'Male']\n",
            "Partner : ['Yes' 'No']\n",
            "Dependents : ['No' 'Yes']\n",
            "PhoneService : ['No' 'Yes']\n",
            "MultipleLines : ['No phone service' 'No' 'Yes']\n",
            "InternetService : ['DSL' 'Fiber optic' 'No']\n",
            "OnlineSecurity : ['No' 'Yes' 'No internet service']\n",
            "OnlineBackup : ['Yes' 'No' 'No internet service']\n",
            "DeviceProtection : ['No' 'Yes' 'No internet service']\n",
            "TechSupport : ['No' 'Yes' 'No internet service']\n",
            "StreamingTV : ['No' 'Yes' 'No internet service']\n",
            "StreamingMovies : ['No' 'Yes' 'No internet service']\n",
            "Contract : ['Month-to-month' 'One year' 'Two year']\n",
            "PaperlessBilling : ['Yes' 'No']\n",
            "PaymentMethod : ['Electronic check' 'Mailed check' 'Bank transfer (automatic)'\n",
            " 'Credit card (automatic)']\n",
            "TotalCharges : ['29.85' '1889.5' '108.15' ... '346.45' '306.6' '6844.5']\n",
            "Churn : ['No' 'Yes']\n"
          ]
        }
      ],
      "source": [
        "print_unique_col_values(df1)"
      ]
    },
    {
      "cell_type": "markdown",
      "id": "d11d8520",
      "metadata": {
        "id": "d11d8520"
      },
      "source": [
        "### Label Encoding (replace 'yes'/'no' with 1/0)"
      ]
    },
    {
      "cell_type": "code",
      "execution_count": 17,
      "id": "e3bbac91",
      "metadata": {
        "colab": {
          "base_uri": "https://localhost:8080/"
        },
        "id": "e3bbac91",
        "outputId": "7d563f27-a910-4757-9b4b-02e444781f65"
      },
      "outputs": [
        {
          "output_type": "stream",
          "name": "stderr",
          "text": [
            "<ipython-input-17-6c48bc695e27>:6: SettingWithCopyWarning: \n",
            "A value is trying to be set on a copy of a slice from a DataFrame\n",
            "\n",
            "See the caveats in the documentation: https://pandas.pydata.org/pandas-docs/stable/user_guide/indexing.html#returning-a-view-versus-a-copy\n",
            "  df1[col].replace({'Yes':1, 'No':0}, inplace=True)\n"
          ]
        }
      ],
      "source": [
        "yes_no_cols = ['Partner','Dependents','PhoneService','MultipleLines',\n",
        "              'OnlineSecurity','OnlineBackup','DeviceProtection','TechSupport',\n",
        "               'StreamingTV','StreamingMovies','PaperlessBilling','Churn']\n",
        "\n",
        "for col in yes_no_cols:\n",
        "    df1[col].replace({'Yes':1, 'No':0}, inplace=True)\n"
      ]
    },
    {
      "cell_type": "code",
      "execution_count": 18,
      "id": "239c5872",
      "metadata": {
        "colab": {
          "base_uri": "https://localhost:8080/"
        },
        "id": "239c5872",
        "outputId": "b0d82c62-14ca-4fcf-da18-9aa86f1f13a3"
      },
      "outputs": [
        {
          "output_type": "stream",
          "name": "stdout",
          "text": [
            "gender:['Female' 'Male']\n",
            "SeniorCitizen:[0 1]\n",
            "Partner:[1 0]\n",
            "Dependents:[0 1]\n",
            "tenure:[ 1 34  2 45  8 22 10 28 62 13 16 58 49 25 69 52 71 21 12 30 47 72 17 27\n",
            "  5 46 11 70 63 43 15 60 18 66  9  3 31 50 64 56  7 42 35 48 29 65 38 68\n",
            " 32 55 37 36 41  6  4 33 67 23 57 61 14 20 53 40 59 24 44 19 54 51 26 39]\n",
            "PhoneService:[0 1]\n",
            "MultipleLines:[0 1]\n",
            "InternetService:['DSL' 'Fiber optic' 'No']\n",
            "OnlineSecurity:[0 1]\n",
            "OnlineBackup:[1 0]\n",
            "DeviceProtection:[0 1]\n",
            "TechSupport:[0 1]\n",
            "StreamingTV:[0 1]\n",
            "StreamingMovies:[0 1]\n",
            "Contract:['Month-to-month' 'One year' 'Two year']\n",
            "PaperlessBilling:[1 0]\n",
            "PaymentMethod:['Electronic check' 'Mailed check' 'Bank transfer (automatic)'\n",
            " 'Credit card (automatic)']\n",
            "MonthlyCharges:[29.85 56.95 53.85 ... 63.1  44.2  78.7 ]\n",
            "TotalCharges:[  29.85 1889.5   108.15 ...  346.45  306.6  6844.5 ]\n",
            "Churn:[0 1]\n"
          ]
        }
      ],
      "source": [
        "for col in df1:\n",
        "    print(f'{col}:{df1[col].unique()}')"
      ]
    },
    {
      "cell_type": "code",
      "execution_count": 19,
      "id": "c0b168e1",
      "metadata": {
        "colab": {
          "base_uri": "https://localhost:8080/"
        },
        "id": "c0b168e1",
        "outputId": "25f269d4-ebbc-4ed2-bbd8-065ac9701dfb"
      },
      "outputs": [
        {
          "output_type": "stream",
          "name": "stderr",
          "text": [
            "<ipython-input-19-0d55a7e00b11>:1: SettingWithCopyWarning: \n",
            "A value is trying to be set on a copy of a slice from a DataFrame\n",
            "\n",
            "See the caveats in the documentation: https://pandas.pydata.org/pandas-docs/stable/user_guide/indexing.html#returning-a-view-versus-a-copy\n",
            "  df1['gender'].replace({'Female':1, 'Male':0}, inplace = True)\n"
          ]
        }
      ],
      "source": [
        "df1['gender'].replace({'Female':1, 'Male':0}, inplace = True)"
      ]
    },
    {
      "cell_type": "code",
      "execution_count": 20,
      "id": "132858cf",
      "metadata": {
        "colab": {
          "base_uri": "https://localhost:8080/"
        },
        "id": "132858cf",
        "outputId": "ce203584-9914-412c-b715-d933cca54442"
      },
      "outputs": [
        {
          "output_type": "execute_result",
          "data": {
            "text/plain": [
              "array([1, 0])"
            ]
          },
          "metadata": {},
          "execution_count": 20
        }
      ],
      "source": [
        "df1.gender.unique()"
      ]
    },
    {
      "cell_type": "markdown",
      "id": "833a7057",
      "metadata": {
        "id": "833a7057"
      },
      "source": [
        "### One hot encoding"
      ]
    },
    {
      "cell_type": "code",
      "execution_count": 21,
      "id": "aac182bf",
      "metadata": {
        "colab": {
          "base_uri": "https://localhost:8080/"
        },
        "id": "aac182bf",
        "outputId": "f8d93841-43fc-4a31-d8b1-0db5d7f92ac4"
      },
      "outputs": [
        {
          "output_type": "execute_result",
          "data": {
            "text/plain": [
              "Index(['gender', 'SeniorCitizen', 'Partner', 'Dependents', 'tenure',\n",
              "       'PhoneService', 'MultipleLines', 'OnlineSecurity', 'OnlineBackup',\n",
              "       'DeviceProtection', 'TechSupport', 'StreamingTV', 'StreamingMovies',\n",
              "       'PaperlessBilling', 'MonthlyCharges', 'TotalCharges', 'Churn',\n",
              "       'InternetService_DSL', 'InternetService_Fiber optic',\n",
              "       'InternetService_No', 'Contract_Month-to-month', 'Contract_One year',\n",
              "       'Contract_Two year', 'PaymentMethod_Bank transfer (automatic)',\n",
              "       'PaymentMethod_Credit card (automatic)',\n",
              "       'PaymentMethod_Electronic check', 'PaymentMethod_Mailed check'],\n",
              "      dtype='object')"
            ]
          },
          "metadata": {},
          "execution_count": 21
        }
      ],
      "source": [
        "df2 = pd.get_dummies(data = df1, columns = ['InternetService', 'Contract','PaymentMethod'])\n",
        "df2.columns"
      ]
    },
    {
      "cell_type": "code",
      "execution_count": 22,
      "id": "a828854d",
      "metadata": {
        "colab": {
          "base_uri": "https://localhost:8080/",
          "height": 334
        },
        "id": "a828854d",
        "outputId": "e1df7a7f-db6f-4025-9d72-2c5fe67c0f60"
      },
      "outputs": [
        {
          "output_type": "execute_result",
          "data": {
            "text/plain": [
              "   gender  SeniorCitizen  Partner  Dependents  tenure  PhoneService  \\\n",
              "0       1              0        1           0       1             0   \n",
              "1       0              0        0           0      34             1   \n",
              "2       0              0        0           0       2             1   \n",
              "3       0              0        0           0      45             0   \n",
              "4       1              0        0           0       2             1   \n",
              "\n",
              "   MultipleLines  OnlineSecurity  OnlineBackup  DeviceProtection  ...  \\\n",
              "0              0               0             1                 0  ...   \n",
              "1              0               1             0                 1  ...   \n",
              "2              0               1             1                 0  ...   \n",
              "3              0               1             0                 1  ...   \n",
              "4              0               0             0                 0  ...   \n",
              "\n",
              "   InternetService_DSL  InternetService_Fiber optic  InternetService_No  \\\n",
              "0                    1                            0                   0   \n",
              "1                    1                            0                   0   \n",
              "2                    1                            0                   0   \n",
              "3                    1                            0                   0   \n",
              "4                    0                            1                   0   \n",
              "\n",
              "   Contract_Month-to-month  Contract_One year  Contract_Two year  \\\n",
              "0                        1                  0                  0   \n",
              "1                        0                  1                  0   \n",
              "2                        1                  0                  0   \n",
              "3                        0                  1                  0   \n",
              "4                        1                  0                  0   \n",
              "\n",
              "   PaymentMethod_Bank transfer (automatic)  \\\n",
              "0                                        0   \n",
              "1                                        0   \n",
              "2                                        0   \n",
              "3                                        1   \n",
              "4                                        0   \n",
              "\n",
              "   PaymentMethod_Credit card (automatic)  PaymentMethod_Electronic check  \\\n",
              "0                                      0                               1   \n",
              "1                                      0                               0   \n",
              "2                                      0                               0   \n",
              "3                                      0                               0   \n",
              "4                                      0                               1   \n",
              "\n",
              "   PaymentMethod_Mailed check  \n",
              "0                           0  \n",
              "1                           1  \n",
              "2                           1  \n",
              "3                           0  \n",
              "4                           0  \n",
              "\n",
              "[5 rows x 27 columns]"
            ],
            "text/html": [
              "\n",
              "  <div id=\"df-02f1dae4-08f7-4d2a-8d37-de1115a08c5c\">\n",
              "    <div class=\"colab-df-container\">\n",
              "      <div>\n",
              "<style scoped>\n",
              "    .dataframe tbody tr th:only-of-type {\n",
              "        vertical-align: middle;\n",
              "    }\n",
              "\n",
              "    .dataframe tbody tr th {\n",
              "        vertical-align: top;\n",
              "    }\n",
              "\n",
              "    .dataframe thead th {\n",
              "        text-align: right;\n",
              "    }\n",
              "</style>\n",
              "<table border=\"1\" class=\"dataframe\">\n",
              "  <thead>\n",
              "    <tr style=\"text-align: right;\">\n",
              "      <th></th>\n",
              "      <th>gender</th>\n",
              "      <th>SeniorCitizen</th>\n",
              "      <th>Partner</th>\n",
              "      <th>Dependents</th>\n",
              "      <th>tenure</th>\n",
              "      <th>PhoneService</th>\n",
              "      <th>MultipleLines</th>\n",
              "      <th>OnlineSecurity</th>\n",
              "      <th>OnlineBackup</th>\n",
              "      <th>DeviceProtection</th>\n",
              "      <th>...</th>\n",
              "      <th>InternetService_DSL</th>\n",
              "      <th>InternetService_Fiber optic</th>\n",
              "      <th>InternetService_No</th>\n",
              "      <th>Contract_Month-to-month</th>\n",
              "      <th>Contract_One year</th>\n",
              "      <th>Contract_Two year</th>\n",
              "      <th>PaymentMethod_Bank transfer (automatic)</th>\n",
              "      <th>PaymentMethod_Credit card (automatic)</th>\n",
              "      <th>PaymentMethod_Electronic check</th>\n",
              "      <th>PaymentMethod_Mailed check</th>\n",
              "    </tr>\n",
              "  </thead>\n",
              "  <tbody>\n",
              "    <tr>\n",
              "      <th>0</th>\n",
              "      <td>1</td>\n",
              "      <td>0</td>\n",
              "      <td>1</td>\n",
              "      <td>0</td>\n",
              "      <td>1</td>\n",
              "      <td>0</td>\n",
              "      <td>0</td>\n",
              "      <td>0</td>\n",
              "      <td>1</td>\n",
              "      <td>0</td>\n",
              "      <td>...</td>\n",
              "      <td>1</td>\n",
              "      <td>0</td>\n",
              "      <td>0</td>\n",
              "      <td>1</td>\n",
              "      <td>0</td>\n",
              "      <td>0</td>\n",
              "      <td>0</td>\n",
              "      <td>0</td>\n",
              "      <td>1</td>\n",
              "      <td>0</td>\n",
              "    </tr>\n",
              "    <tr>\n",
              "      <th>1</th>\n",
              "      <td>0</td>\n",
              "      <td>0</td>\n",
              "      <td>0</td>\n",
              "      <td>0</td>\n",
              "      <td>34</td>\n",
              "      <td>1</td>\n",
              "      <td>0</td>\n",
              "      <td>1</td>\n",
              "      <td>0</td>\n",
              "      <td>1</td>\n",
              "      <td>...</td>\n",
              "      <td>1</td>\n",
              "      <td>0</td>\n",
              "      <td>0</td>\n",
              "      <td>0</td>\n",
              "      <td>1</td>\n",
              "      <td>0</td>\n",
              "      <td>0</td>\n",
              "      <td>0</td>\n",
              "      <td>0</td>\n",
              "      <td>1</td>\n",
              "    </tr>\n",
              "    <tr>\n",
              "      <th>2</th>\n",
              "      <td>0</td>\n",
              "      <td>0</td>\n",
              "      <td>0</td>\n",
              "      <td>0</td>\n",
              "      <td>2</td>\n",
              "      <td>1</td>\n",
              "      <td>0</td>\n",
              "      <td>1</td>\n",
              "      <td>1</td>\n",
              "      <td>0</td>\n",
              "      <td>...</td>\n",
              "      <td>1</td>\n",
              "      <td>0</td>\n",
              "      <td>0</td>\n",
              "      <td>1</td>\n",
              "      <td>0</td>\n",
              "      <td>0</td>\n",
              "      <td>0</td>\n",
              "      <td>0</td>\n",
              "      <td>0</td>\n",
              "      <td>1</td>\n",
              "    </tr>\n",
              "    <tr>\n",
              "      <th>3</th>\n",
              "      <td>0</td>\n",
              "      <td>0</td>\n",
              "      <td>0</td>\n",
              "      <td>0</td>\n",
              "      <td>45</td>\n",
              "      <td>0</td>\n",
              "      <td>0</td>\n",
              "      <td>1</td>\n",
              "      <td>0</td>\n",
              "      <td>1</td>\n",
              "      <td>...</td>\n",
              "      <td>1</td>\n",
              "      <td>0</td>\n",
              "      <td>0</td>\n",
              "      <td>0</td>\n",
              "      <td>1</td>\n",
              "      <td>0</td>\n",
              "      <td>1</td>\n",
              "      <td>0</td>\n",
              "      <td>0</td>\n",
              "      <td>0</td>\n",
              "    </tr>\n",
              "    <tr>\n",
              "      <th>4</th>\n",
              "      <td>1</td>\n",
              "      <td>0</td>\n",
              "      <td>0</td>\n",
              "      <td>0</td>\n",
              "      <td>2</td>\n",
              "      <td>1</td>\n",
              "      <td>0</td>\n",
              "      <td>0</td>\n",
              "      <td>0</td>\n",
              "      <td>0</td>\n",
              "      <td>...</td>\n",
              "      <td>0</td>\n",
              "      <td>1</td>\n",
              "      <td>0</td>\n",
              "      <td>1</td>\n",
              "      <td>0</td>\n",
              "      <td>0</td>\n",
              "      <td>0</td>\n",
              "      <td>0</td>\n",
              "      <td>1</td>\n",
              "      <td>0</td>\n",
              "    </tr>\n",
              "  </tbody>\n",
              "</table>\n",
              "<p>5 rows × 27 columns</p>\n",
              "</div>\n",
              "      <button class=\"colab-df-convert\" onclick=\"convertToInteractive('df-02f1dae4-08f7-4d2a-8d37-de1115a08c5c')\"\n",
              "              title=\"Convert this dataframe to an interactive table.\"\n",
              "              style=\"display:none;\">\n",
              "        \n",
              "  <svg xmlns=\"http://www.w3.org/2000/svg\" height=\"24px\"viewBox=\"0 0 24 24\"\n",
              "       width=\"24px\">\n",
              "    <path d=\"M0 0h24v24H0V0z\" fill=\"none\"/>\n",
              "    <path d=\"M18.56 5.44l.94 2.06.94-2.06 2.06-.94-2.06-.94-.94-2.06-.94 2.06-2.06.94zm-11 1L8.5 8.5l.94-2.06 2.06-.94-2.06-.94L8.5 2.5l-.94 2.06-2.06.94zm10 10l.94 2.06.94-2.06 2.06-.94-2.06-.94-.94-2.06-.94 2.06-2.06.94z\"/><path d=\"M17.41 7.96l-1.37-1.37c-.4-.4-.92-.59-1.43-.59-.52 0-1.04.2-1.43.59L10.3 9.45l-7.72 7.72c-.78.78-.78 2.05 0 2.83L4 21.41c.39.39.9.59 1.41.59.51 0 1.02-.2 1.41-.59l7.78-7.78 2.81-2.81c.8-.78.8-2.07 0-2.86zM5.41 20L4 18.59l7.72-7.72 1.47 1.35L5.41 20z\"/>\n",
              "  </svg>\n",
              "      </button>\n",
              "      \n",
              "  <style>\n",
              "    .colab-df-container {\n",
              "      display:flex;\n",
              "      flex-wrap:wrap;\n",
              "      gap: 12px;\n",
              "    }\n",
              "\n",
              "    .colab-df-convert {\n",
              "      background-color: #E8F0FE;\n",
              "      border: none;\n",
              "      border-radius: 50%;\n",
              "      cursor: pointer;\n",
              "      display: none;\n",
              "      fill: #1967D2;\n",
              "      height: 32px;\n",
              "      padding: 0 0 0 0;\n",
              "      width: 32px;\n",
              "    }\n",
              "\n",
              "    .colab-df-convert:hover {\n",
              "      background-color: #E2EBFA;\n",
              "      box-shadow: 0px 1px 2px rgba(60, 64, 67, 0.3), 0px 1px 3px 1px rgba(60, 64, 67, 0.15);\n",
              "      fill: #174EA6;\n",
              "    }\n",
              "\n",
              "    [theme=dark] .colab-df-convert {\n",
              "      background-color: #3B4455;\n",
              "      fill: #D2E3FC;\n",
              "    }\n",
              "\n",
              "    [theme=dark] .colab-df-convert:hover {\n",
              "      background-color: #434B5C;\n",
              "      box-shadow: 0px 1px 3px 1px rgba(0, 0, 0, 0.15);\n",
              "      filter: drop-shadow(0px 1px 2px rgba(0, 0, 0, 0.3));\n",
              "      fill: #FFFFFF;\n",
              "    }\n",
              "  </style>\n",
              "\n",
              "      <script>\n",
              "        const buttonEl =\n",
              "          document.querySelector('#df-02f1dae4-08f7-4d2a-8d37-de1115a08c5c button.colab-df-convert');\n",
              "        buttonEl.style.display =\n",
              "          google.colab.kernel.accessAllowed ? 'block' : 'none';\n",
              "\n",
              "        async function convertToInteractive(key) {\n",
              "          const element = document.querySelector('#df-02f1dae4-08f7-4d2a-8d37-de1115a08c5c');\n",
              "          const dataTable =\n",
              "            await google.colab.kernel.invokeFunction('convertToInteractive',\n",
              "                                                     [key], {});\n",
              "          if (!dataTable) return;\n",
              "\n",
              "          const docLinkHtml = 'Like what you see? Visit the ' +\n",
              "            '<a target=\"_blank\" href=https://colab.research.google.com/notebooks/data_table.ipynb>data table notebook</a>'\n",
              "            + ' to learn more about interactive tables.';\n",
              "          element.innerHTML = '';\n",
              "          dataTable['output_type'] = 'display_data';\n",
              "          await google.colab.output.renderOutput(dataTable, element);\n",
              "          const docLink = document.createElement('div');\n",
              "          docLink.innerHTML = docLinkHtml;\n",
              "          element.appendChild(docLink);\n",
              "        }\n",
              "      </script>\n",
              "    </div>\n",
              "  </div>\n",
              "  "
            ]
          },
          "metadata": {},
          "execution_count": 22
        }
      ],
      "source": [
        "df2.head()"
      ]
    },
    {
      "cell_type": "code",
      "execution_count": 23,
      "id": "8cc4abce",
      "metadata": {
        "colab": {
          "base_uri": "https://localhost:8080/"
        },
        "id": "8cc4abce",
        "outputId": "2132ae2d-2b22-46f6-c8e9-8726e8b64647"
      },
      "outputs": [
        {
          "output_type": "execute_result",
          "data": {
            "text/plain": [
              "gender                                       int64\n",
              "SeniorCitizen                                int64\n",
              "Partner                                      int64\n",
              "Dependents                                   int64\n",
              "tenure                                       int64\n",
              "PhoneService                                 int64\n",
              "MultipleLines                                int64\n",
              "OnlineSecurity                               int64\n",
              "OnlineBackup                                 int64\n",
              "DeviceProtection                             int64\n",
              "TechSupport                                  int64\n",
              "StreamingTV                                  int64\n",
              "StreamingMovies                              int64\n",
              "PaperlessBilling                             int64\n",
              "MonthlyCharges                             float64\n",
              "TotalCharges                               float64\n",
              "Churn                                        int64\n",
              "InternetService_DSL                          uint8\n",
              "InternetService_Fiber optic                  uint8\n",
              "InternetService_No                           uint8\n",
              "Contract_Month-to-month                      uint8\n",
              "Contract_One year                            uint8\n",
              "Contract_Two year                            uint8\n",
              "PaymentMethod_Bank transfer (automatic)      uint8\n",
              "PaymentMethod_Credit card (automatic)        uint8\n",
              "PaymentMethod_Electronic check               uint8\n",
              "PaymentMethod_Mailed check                   uint8\n",
              "dtype: object"
            ]
          },
          "metadata": {},
          "execution_count": 23
        }
      ],
      "source": [
        "df2.dtypes"
      ]
    },
    {
      "cell_type": "markdown",
      "id": "971ba112",
      "metadata": {
        "id": "971ba112"
      },
      "source": [
        "### Scale the data"
      ]
    },
    {
      "cell_type": "code",
      "execution_count": 24,
      "id": "6be0370d",
      "metadata": {
        "id": "6be0370d"
      },
      "outputs": [],
      "source": [
        "cols_to_scale = ['tenure', 'MonthlyCharges', 'TotalCharges']\n",
        "\n",
        "from sklearn.preprocessing import MinMaxScaler\n",
        "scaler = MinMaxScaler()\n",
        "\n",
        "df2[cols_to_scale] = scaler.fit_transform(df2[cols_to_scale])"
      ]
    },
    {
      "cell_type": "code",
      "execution_count": 25,
      "id": "ee768601",
      "metadata": {
        "colab": {
          "base_uri": "https://localhost:8080/",
          "height": 209
        },
        "id": "ee768601",
        "outputId": "3f7551ec-7106-4df6-9aeb-fc4350c08c88"
      },
      "outputs": [
        {
          "output_type": "execute_result",
          "data": {
            "text/plain": [
              "      gender  SeniorCitizen  Partner  Dependents    tenure  PhoneService  \\\n",
              "5737       0              0        1           1  0.239437             1   \n",
              "\n",
              "      MultipleLines  OnlineSecurity  OnlineBackup  DeviceProtection  ...  \\\n",
              "5737              0               1             0                 1  ...   \n",
              "\n",
              "      InternetService_DSL  InternetService_Fiber optic  InternetService_No  \\\n",
              "5737                    1                            0                   0   \n",
              "\n",
              "      Contract_Month-to-month  Contract_One year  Contract_Two year  \\\n",
              "5737                        1                  0                  0   \n",
              "\n",
              "      PaymentMethod_Bank transfer (automatic)  \\\n",
              "5737                                        0   \n",
              "\n",
              "      PaymentMethod_Credit card (automatic)  PaymentMethod_Electronic check  \\\n",
              "5737                                      0                               1   \n",
              "\n",
              "      PaymentMethod_Mailed check  \n",
              "5737                           0  \n",
              "\n",
              "[1 rows x 27 columns]"
            ],
            "text/html": [
              "\n",
              "  <div id=\"df-13cbfa98-261d-4e4d-8824-378713656cdc\">\n",
              "    <div class=\"colab-df-container\">\n",
              "      <div>\n",
              "<style scoped>\n",
              "    .dataframe tbody tr th:only-of-type {\n",
              "        vertical-align: middle;\n",
              "    }\n",
              "\n",
              "    .dataframe tbody tr th {\n",
              "        vertical-align: top;\n",
              "    }\n",
              "\n",
              "    .dataframe thead th {\n",
              "        text-align: right;\n",
              "    }\n",
              "</style>\n",
              "<table border=\"1\" class=\"dataframe\">\n",
              "  <thead>\n",
              "    <tr style=\"text-align: right;\">\n",
              "      <th></th>\n",
              "      <th>gender</th>\n",
              "      <th>SeniorCitizen</th>\n",
              "      <th>Partner</th>\n",
              "      <th>Dependents</th>\n",
              "      <th>tenure</th>\n",
              "      <th>PhoneService</th>\n",
              "      <th>MultipleLines</th>\n",
              "      <th>OnlineSecurity</th>\n",
              "      <th>OnlineBackup</th>\n",
              "      <th>DeviceProtection</th>\n",
              "      <th>...</th>\n",
              "      <th>InternetService_DSL</th>\n",
              "      <th>InternetService_Fiber optic</th>\n",
              "      <th>InternetService_No</th>\n",
              "      <th>Contract_Month-to-month</th>\n",
              "      <th>Contract_One year</th>\n",
              "      <th>Contract_Two year</th>\n",
              "      <th>PaymentMethod_Bank transfer (automatic)</th>\n",
              "      <th>PaymentMethod_Credit card (automatic)</th>\n",
              "      <th>PaymentMethod_Electronic check</th>\n",
              "      <th>PaymentMethod_Mailed check</th>\n",
              "    </tr>\n",
              "  </thead>\n",
              "  <tbody>\n",
              "    <tr>\n",
              "      <th>5737</th>\n",
              "      <td>0</td>\n",
              "      <td>0</td>\n",
              "      <td>1</td>\n",
              "      <td>1</td>\n",
              "      <td>0.239437</td>\n",
              "      <td>1</td>\n",
              "      <td>0</td>\n",
              "      <td>1</td>\n",
              "      <td>0</td>\n",
              "      <td>1</td>\n",
              "      <td>...</td>\n",
              "      <td>1</td>\n",
              "      <td>0</td>\n",
              "      <td>0</td>\n",
              "      <td>1</td>\n",
              "      <td>0</td>\n",
              "      <td>0</td>\n",
              "      <td>0</td>\n",
              "      <td>0</td>\n",
              "      <td>1</td>\n",
              "      <td>0</td>\n",
              "    </tr>\n",
              "  </tbody>\n",
              "</table>\n",
              "<p>1 rows × 27 columns</p>\n",
              "</div>\n",
              "      <button class=\"colab-df-convert\" onclick=\"convertToInteractive('df-13cbfa98-261d-4e4d-8824-378713656cdc')\"\n",
              "              title=\"Convert this dataframe to an interactive table.\"\n",
              "              style=\"display:none;\">\n",
              "        \n",
              "  <svg xmlns=\"http://www.w3.org/2000/svg\" height=\"24px\"viewBox=\"0 0 24 24\"\n",
              "       width=\"24px\">\n",
              "    <path d=\"M0 0h24v24H0V0z\" fill=\"none\"/>\n",
              "    <path d=\"M18.56 5.44l.94 2.06.94-2.06 2.06-.94-2.06-.94-.94-2.06-.94 2.06-2.06.94zm-11 1L8.5 8.5l.94-2.06 2.06-.94-2.06-.94L8.5 2.5l-.94 2.06-2.06.94zm10 10l.94 2.06.94-2.06 2.06-.94-2.06-.94-.94-2.06-.94 2.06-2.06.94z\"/><path d=\"M17.41 7.96l-1.37-1.37c-.4-.4-.92-.59-1.43-.59-.52 0-1.04.2-1.43.59L10.3 9.45l-7.72 7.72c-.78.78-.78 2.05 0 2.83L4 21.41c.39.39.9.59 1.41.59.51 0 1.02-.2 1.41-.59l7.78-7.78 2.81-2.81c.8-.78.8-2.07 0-2.86zM5.41 20L4 18.59l7.72-7.72 1.47 1.35L5.41 20z\"/>\n",
              "  </svg>\n",
              "      </button>\n",
              "      \n",
              "  <style>\n",
              "    .colab-df-container {\n",
              "      display:flex;\n",
              "      flex-wrap:wrap;\n",
              "      gap: 12px;\n",
              "    }\n",
              "\n",
              "    .colab-df-convert {\n",
              "      background-color: #E8F0FE;\n",
              "      border: none;\n",
              "      border-radius: 50%;\n",
              "      cursor: pointer;\n",
              "      display: none;\n",
              "      fill: #1967D2;\n",
              "      height: 32px;\n",
              "      padding: 0 0 0 0;\n",
              "      width: 32px;\n",
              "    }\n",
              "\n",
              "    .colab-df-convert:hover {\n",
              "      background-color: #E2EBFA;\n",
              "      box-shadow: 0px 1px 2px rgba(60, 64, 67, 0.3), 0px 1px 3px 1px rgba(60, 64, 67, 0.15);\n",
              "      fill: #174EA6;\n",
              "    }\n",
              "\n",
              "    [theme=dark] .colab-df-convert {\n",
              "      background-color: #3B4455;\n",
              "      fill: #D2E3FC;\n",
              "    }\n",
              "\n",
              "    [theme=dark] .colab-df-convert:hover {\n",
              "      background-color: #434B5C;\n",
              "      box-shadow: 0px 1px 3px 1px rgba(0, 0, 0, 0.15);\n",
              "      filter: drop-shadow(0px 1px 2px rgba(0, 0, 0, 0.3));\n",
              "      fill: #FFFFFF;\n",
              "    }\n",
              "  </style>\n",
              "\n",
              "      <script>\n",
              "        const buttonEl =\n",
              "          document.querySelector('#df-13cbfa98-261d-4e4d-8824-378713656cdc button.colab-df-convert');\n",
              "        buttonEl.style.display =\n",
              "          google.colab.kernel.accessAllowed ? 'block' : 'none';\n",
              "\n",
              "        async function convertToInteractive(key) {\n",
              "          const element = document.querySelector('#df-13cbfa98-261d-4e4d-8824-378713656cdc');\n",
              "          const dataTable =\n",
              "            await google.colab.kernel.invokeFunction('convertToInteractive',\n",
              "                                                     [key], {});\n",
              "          if (!dataTable) return;\n",
              "\n",
              "          const docLinkHtml = 'Like what you see? Visit the ' +\n",
              "            '<a target=\"_blank\" href=https://colab.research.google.com/notebooks/data_table.ipynb>data table notebook</a>'\n",
              "            + ' to learn more about interactive tables.';\n",
              "          element.innerHTML = '';\n",
              "          dataTable['output_type'] = 'display_data';\n",
              "          await google.colab.output.renderOutput(dataTable, element);\n",
              "          const docLink = document.createElement('div');\n",
              "          docLink.innerHTML = docLinkHtml;\n",
              "          element.appendChild(docLink);\n",
              "        }\n",
              "      </script>\n",
              "    </div>\n",
              "  </div>\n",
              "  "
            ]
          },
          "metadata": {},
          "execution_count": 25
        }
      ],
      "source": [
        "df2.sample(1)"
      ]
    },
    {
      "cell_type": "markdown",
      "id": "76fcea78",
      "metadata": {
        "id": "76fcea78"
      },
      "source": [
        "## Split the data"
      ]
    },
    {
      "cell_type": "code",
      "execution_count": 26,
      "id": "c91d9324",
      "metadata": {
        "id": "c91d9324"
      },
      "outputs": [],
      "source": [
        "X = df2.drop('Churn', axis = 'columns')\n",
        "y=df2['Churn']"
      ]
    },
    {
      "cell_type": "code",
      "execution_count": 27,
      "id": "1cab0d28",
      "metadata": {
        "id": "1cab0d28"
      },
      "outputs": [],
      "source": [
        "from sklearn.model_selection import train_test_split\n",
        "\n",
        "X_train, X_test, y_train, y_test = train_test_split(X, y, test_size=0.2, random_state=5)"
      ]
    },
    {
      "cell_type": "code",
      "execution_count": 28,
      "id": "6a1ca40a",
      "metadata": {
        "colab": {
          "base_uri": "https://localhost:8080/"
        },
        "id": "6a1ca40a",
        "outputId": "1baea4b5-d739-4fd0-a01d-b8d77cc84ac0"
      },
      "outputs": [
        {
          "output_type": "execute_result",
          "data": {
            "text/plain": [
              "((5625, 26), (1407, 26))"
            ]
          },
          "metadata": {},
          "execution_count": 28
        }
      ],
      "source": [
        "X_train.shape, X_test.shape"
      ]
    },
    {
      "cell_type": "code",
      "source": [
        "import tensorflow as tf\n",
        "from tensorflow import keras\n",
        "from sklearn.metrics import classification_report,confusion_matrix\n",
        "\n",
        "def ANN(X_train, y_train, X_test, y_test, loss, weights):\n",
        "  model = keras.Sequential([\n",
        "        keras.layers.Dense(20, input_shape = (26,), activation = 'relu'),\n",
        "        keras.layers.Dense(15, activation = 'relu'),\n",
        "        keras.layers.Dense(1, activation = 'sigmoid')\n",
        "  ])\n",
        "\n",
        "  model.compile(\n",
        "        optimizer = 'adam',\n",
        "        loss = 'binary_crossentropy',\n",
        "        metrics = ['accuracy']\n",
        "  )\n",
        "  if weights==-1:\n",
        "    model.fit(X_train, y_train, epochs=100)\n",
        "  else:\n",
        "    model.fit(X_train, y_train, epochs=100, class_weights=weights)\n",
        "\n",
        "  print(model.evaluate(X_test, y_test))\n",
        "\n",
        "  y_pred=model.predict(X_test)\n",
        "  y_pred=np.round(y_pred)\n",
        "\n",
        "  print('Classification report:\\n', classification_report(y_test, y_pred))\n",
        "\n",
        "  return y_pred"
      ],
      "metadata": {
        "id": "D6_UCCHgC1xK"
      },
      "id": "D6_UCCHgC1xK",
      "execution_count": 29,
      "outputs": []
    },
    {
      "cell_type": "code",
      "source": [
        "y_pred = ANN(X_train, y_train, X_test, y_test, 'binary_crossentropy', -1)"
      ],
      "metadata": {
        "colab": {
          "base_uri": "https://localhost:8080/"
        },
        "id": "Pdi7Ncq4EyRm",
        "outputId": "e2990f02-a280-4fbc-bce5-4bd64396c35b"
      },
      "id": "Pdi7Ncq4EyRm",
      "execution_count": 30,
      "outputs": [
        {
          "output_type": "stream",
          "name": "stdout",
          "text": [
            "Epoch 1/100\n",
            "176/176 [==============================] - 5s 7ms/step - loss: 0.5644 - accuracy: 0.6978\n",
            "Epoch 2/100\n",
            "176/176 [==============================] - 1s 8ms/step - loss: 0.4335 - accuracy: 0.7877\n",
            "Epoch 3/100\n",
            "176/176 [==============================] - 1s 7ms/step - loss: 0.4205 - accuracy: 0.7956\n",
            "Epoch 4/100\n",
            "176/176 [==============================] - 2s 9ms/step - loss: 0.4151 - accuracy: 0.8023\n",
            "Epoch 5/100\n",
            "176/176 [==============================] - 1s 7ms/step - loss: 0.4121 - accuracy: 0.8053\n",
            "Epoch 6/100\n",
            "176/176 [==============================] - 1s 8ms/step - loss: 0.4100 - accuracy: 0.8025\n",
            "Epoch 7/100\n",
            "176/176 [==============================] - 2s 9ms/step - loss: 0.4075 - accuracy: 0.8066\n",
            "Epoch 8/100\n",
            "176/176 [==============================] - 2s 9ms/step - loss: 0.4068 - accuracy: 0.8089\n",
            "Epoch 9/100\n",
            "176/176 [==============================] - 1s 6ms/step - loss: 0.4049 - accuracy: 0.8116\n",
            "Epoch 10/100\n",
            "176/176 [==============================] - 1s 7ms/step - loss: 0.4039 - accuracy: 0.8092\n",
            "Epoch 11/100\n",
            "176/176 [==============================] - 1s 6ms/step - loss: 0.4027 - accuracy: 0.8096\n",
            "Epoch 12/100\n",
            "176/176 [==============================] - 1s 6ms/step - loss: 0.4028 - accuracy: 0.8114\n",
            "Epoch 13/100\n",
            "176/176 [==============================] - 1s 7ms/step - loss: 0.4008 - accuracy: 0.8108\n",
            "Epoch 14/100\n",
            "176/176 [==============================] - 1s 8ms/step - loss: 0.4006 - accuracy: 0.8139\n",
            "Epoch 15/100\n",
            "176/176 [==============================] - 1s 7ms/step - loss: 0.4006 - accuracy: 0.8117\n",
            "Epoch 16/100\n",
            "176/176 [==============================] - 1s 8ms/step - loss: 0.3983 - accuracy: 0.8128\n",
            "Epoch 17/100\n",
            "176/176 [==============================] - 2s 9ms/step - loss: 0.3982 - accuracy: 0.8139\n",
            "Epoch 18/100\n",
            "176/176 [==============================] - 2s 9ms/step - loss: 0.3979 - accuracy: 0.8133\n",
            "Epoch 19/100\n",
            "176/176 [==============================] - 1s 4ms/step - loss: 0.3968 - accuracy: 0.8153\n",
            "Epoch 20/100\n",
            "176/176 [==============================] - 1s 4ms/step - loss: 0.3968 - accuracy: 0.8132\n",
            "Epoch 21/100\n",
            "176/176 [==============================] - 1s 4ms/step - loss: 0.3963 - accuracy: 0.8155\n",
            "Epoch 22/100\n",
            "176/176 [==============================] - 1s 3ms/step - loss: 0.3941 - accuracy: 0.8171\n",
            "Epoch 23/100\n",
            "176/176 [==============================] - 1s 4ms/step - loss: 0.3952 - accuracy: 0.8153\n",
            "Epoch 24/100\n",
            "176/176 [==============================] - 1s 4ms/step - loss: 0.3935 - accuracy: 0.8158\n",
            "Epoch 25/100\n",
            "176/176 [==============================] - 1s 3ms/step - loss: 0.3929 - accuracy: 0.8181\n",
            "Epoch 26/100\n",
            "176/176 [==============================] - 1s 4ms/step - loss: 0.3939 - accuracy: 0.8178\n",
            "Epoch 27/100\n",
            "176/176 [==============================] - 1s 3ms/step - loss: 0.3919 - accuracy: 0.8181\n",
            "Epoch 28/100\n",
            "176/176 [==============================] - 1s 4ms/step - loss: 0.3918 - accuracy: 0.8183\n",
            "Epoch 29/100\n",
            "176/176 [==============================] - 1s 3ms/step - loss: 0.3913 - accuracy: 0.8180\n",
            "Epoch 30/100\n",
            "176/176 [==============================] - 1s 4ms/step - loss: 0.3905 - accuracy: 0.8201\n",
            "Epoch 31/100\n",
            "176/176 [==============================] - 1s 4ms/step - loss: 0.3900 - accuracy: 0.8197\n",
            "Epoch 32/100\n",
            "176/176 [==============================] - 1s 4ms/step - loss: 0.3893 - accuracy: 0.8188\n",
            "Epoch 33/100\n",
            "176/176 [==============================] - 1s 4ms/step - loss: 0.3894 - accuracy: 0.8176\n",
            "Epoch 34/100\n",
            "176/176 [==============================] - 1s 6ms/step - loss: 0.3885 - accuracy: 0.8185\n",
            "Epoch 35/100\n",
            "176/176 [==============================] - 1s 5ms/step - loss: 0.3879 - accuracy: 0.8192\n",
            "Epoch 36/100\n",
            "176/176 [==============================] - 1s 4ms/step - loss: 0.3870 - accuracy: 0.8190\n",
            "Epoch 37/100\n",
            "176/176 [==============================] - 1s 4ms/step - loss: 0.3876 - accuracy: 0.8210\n",
            "Epoch 38/100\n",
            "176/176 [==============================] - 1s 4ms/step - loss: 0.3868 - accuracy: 0.8206\n",
            "Epoch 39/100\n",
            "176/176 [==============================] - 1s 4ms/step - loss: 0.3859 - accuracy: 0.8196\n",
            "Epoch 40/100\n",
            "176/176 [==============================] - 1s 4ms/step - loss: 0.3857 - accuracy: 0.8176\n",
            "Epoch 41/100\n",
            "176/176 [==============================] - 1s 4ms/step - loss: 0.3856 - accuracy: 0.8242\n",
            "Epoch 42/100\n",
            "176/176 [==============================] - 1s 4ms/step - loss: 0.3851 - accuracy: 0.8210\n",
            "Epoch 43/100\n",
            "176/176 [==============================] - 1s 4ms/step - loss: 0.3857 - accuracy: 0.8194\n",
            "Epoch 44/100\n",
            "176/176 [==============================] - 1s 4ms/step - loss: 0.3829 - accuracy: 0.8212\n",
            "Epoch 45/100\n",
            "176/176 [==============================] - 1s 4ms/step - loss: 0.3844 - accuracy: 0.8208\n",
            "Epoch 46/100\n",
            "176/176 [==============================] - 1s 3ms/step - loss: 0.3831 - accuracy: 0.8213\n",
            "Epoch 47/100\n",
            "176/176 [==============================] - 1s 4ms/step - loss: 0.3836 - accuracy: 0.8217\n",
            "Epoch 48/100\n",
            "176/176 [==============================] - 1s 4ms/step - loss: 0.3827 - accuracy: 0.8208\n",
            "Epoch 49/100\n",
            "176/176 [==============================] - 1s 4ms/step - loss: 0.3814 - accuracy: 0.8219\n",
            "Epoch 50/100\n",
            "176/176 [==============================] - 1s 4ms/step - loss: 0.3815 - accuracy: 0.8210\n",
            "Epoch 51/100\n",
            "176/176 [==============================] - 1s 4ms/step - loss: 0.3800 - accuracy: 0.8222\n",
            "Epoch 52/100\n",
            "176/176 [==============================] - 1s 6ms/step - loss: 0.3810 - accuracy: 0.8265\n",
            "Epoch 53/100\n",
            "176/176 [==============================] - 1s 6ms/step - loss: 0.3806 - accuracy: 0.8226\n",
            "Epoch 54/100\n",
            "176/176 [==============================] - 1s 5ms/step - loss: 0.3799 - accuracy: 0.8226\n",
            "Epoch 55/100\n",
            "176/176 [==============================] - 1s 4ms/step - loss: 0.3802 - accuracy: 0.8256\n",
            "Epoch 56/100\n",
            "176/176 [==============================] - 1s 3ms/step - loss: 0.3788 - accuracy: 0.8208\n",
            "Epoch 57/100\n",
            "176/176 [==============================] - 1s 4ms/step - loss: 0.3787 - accuracy: 0.8235\n",
            "Epoch 58/100\n",
            "176/176 [==============================] - 1s 4ms/step - loss: 0.3778 - accuracy: 0.8245\n",
            "Epoch 59/100\n",
            "176/176 [==============================] - 1s 4ms/step - loss: 0.3789 - accuracy: 0.8228\n",
            "Epoch 60/100\n",
            "176/176 [==============================] - 1s 4ms/step - loss: 0.3779 - accuracy: 0.8233\n",
            "Epoch 61/100\n",
            "176/176 [==============================] - 1s 4ms/step - loss: 0.3780 - accuracy: 0.8244\n",
            "Epoch 62/100\n",
            "176/176 [==============================] - 1s 4ms/step - loss: 0.3772 - accuracy: 0.8247\n",
            "Epoch 63/100\n",
            "176/176 [==============================] - 1s 4ms/step - loss: 0.3767 - accuracy: 0.8226\n",
            "Epoch 64/100\n",
            "176/176 [==============================] - 1s 4ms/step - loss: 0.3761 - accuracy: 0.8251\n",
            "Epoch 65/100\n",
            "176/176 [==============================] - 1s 4ms/step - loss: 0.3755 - accuracy: 0.8252\n",
            "Epoch 66/100\n",
            "176/176 [==============================] - 1s 3ms/step - loss: 0.3750 - accuracy: 0.8233\n",
            "Epoch 67/100\n",
            "176/176 [==============================] - 1s 3ms/step - loss: 0.3756 - accuracy: 0.8252\n",
            "Epoch 68/100\n",
            "176/176 [==============================] - 1s 3ms/step - loss: 0.3751 - accuracy: 0.8217\n",
            "Epoch 69/100\n",
            "176/176 [==============================] - 1s 4ms/step - loss: 0.3744 - accuracy: 0.8251\n",
            "Epoch 70/100\n",
            "176/176 [==============================] - 1s 5ms/step - loss: 0.3749 - accuracy: 0.8249\n",
            "Epoch 71/100\n",
            "176/176 [==============================] - 1s 5ms/step - loss: 0.3745 - accuracy: 0.8252\n",
            "Epoch 72/100\n",
            "176/176 [==============================] - 1s 5ms/step - loss: 0.3743 - accuracy: 0.8252\n",
            "Epoch 73/100\n",
            "176/176 [==============================] - 1s 4ms/step - loss: 0.3733 - accuracy: 0.8270\n",
            "Epoch 74/100\n",
            "176/176 [==============================] - 1s 4ms/step - loss: 0.3731 - accuracy: 0.8265\n",
            "Epoch 75/100\n",
            "176/176 [==============================] - 1s 4ms/step - loss: 0.3733 - accuracy: 0.8279\n",
            "Epoch 76/100\n",
            "176/176 [==============================] - 1s 4ms/step - loss: 0.3725 - accuracy: 0.8247\n",
            "Epoch 77/100\n",
            "176/176 [==============================] - 1s 4ms/step - loss: 0.3734 - accuracy: 0.8281\n",
            "Epoch 78/100\n",
            "176/176 [==============================] - 1s 4ms/step - loss: 0.3718 - accuracy: 0.8272\n",
            "Epoch 79/100\n",
            "176/176 [==============================] - 1s 4ms/step - loss: 0.3716 - accuracy: 0.8267\n",
            "Epoch 80/100\n",
            "176/176 [==============================] - 1s 4ms/step - loss: 0.3717 - accuracy: 0.8270\n",
            "Epoch 81/100\n",
            "176/176 [==============================] - 1s 4ms/step - loss: 0.3707 - accuracy: 0.8277\n",
            "Epoch 82/100\n",
            "176/176 [==============================] - 1s 4ms/step - loss: 0.3715 - accuracy: 0.8272\n",
            "Epoch 83/100\n",
            "176/176 [==============================] - 1s 4ms/step - loss: 0.3705 - accuracy: 0.8295\n",
            "Epoch 84/100\n",
            "176/176 [==============================] - 1s 4ms/step - loss: 0.3715 - accuracy: 0.8238\n",
            "Epoch 85/100\n",
            "176/176 [==============================] - 1s 4ms/step - loss: 0.3696 - accuracy: 0.8256\n",
            "Epoch 86/100\n",
            "176/176 [==============================] - 1s 3ms/step - loss: 0.3699 - accuracy: 0.8254\n",
            "Epoch 87/100\n",
            "176/176 [==============================] - 1s 4ms/step - loss: 0.3696 - accuracy: 0.8274\n",
            "Epoch 88/100\n",
            "176/176 [==============================] - 1s 4ms/step - loss: 0.3691 - accuracy: 0.8283\n",
            "Epoch 89/100\n",
            "176/176 [==============================] - 1s 5ms/step - loss: 0.3683 - accuracy: 0.8304\n",
            "Epoch 90/100\n",
            "176/176 [==============================] - 1s 5ms/step - loss: 0.3688 - accuracy: 0.8240\n",
            "Epoch 91/100\n",
            "176/176 [==============================] - 1s 5ms/step - loss: 0.3696 - accuracy: 0.8279\n",
            "Epoch 92/100\n",
            "176/176 [==============================] - 1s 4ms/step - loss: 0.3686 - accuracy: 0.8284\n",
            "Epoch 93/100\n",
            "176/176 [==============================] - 1s 4ms/step - loss: 0.3685 - accuracy: 0.8297\n",
            "Epoch 94/100\n",
            "176/176 [==============================] - 1s 4ms/step - loss: 0.3690 - accuracy: 0.8274\n",
            "Epoch 95/100\n",
            "176/176 [==============================] - 1s 4ms/step - loss: 0.3670 - accuracy: 0.8295\n",
            "Epoch 96/100\n",
            "176/176 [==============================] - 1s 4ms/step - loss: 0.3673 - accuracy: 0.8293\n",
            "Epoch 97/100\n",
            "176/176 [==============================] - 1s 4ms/step - loss: 0.3663 - accuracy: 0.8281\n",
            "Epoch 98/100\n",
            "176/176 [==============================] - 1s 4ms/step - loss: 0.3662 - accuracy: 0.8268\n",
            "Epoch 99/100\n",
            "176/176 [==============================] - 1s 3ms/step - loss: 0.3667 - accuracy: 0.8295\n",
            "Epoch 100/100\n",
            "176/176 [==============================] - 1s 4ms/step - loss: 0.3660 - accuracy: 0.8283\n",
            "44/44 [==============================] - 0s 2ms/step - loss: 0.4763 - accuracy: 0.7790\n",
            "[0.4763033092021942, 0.7789623141288757]\n",
            "44/44 [==============================] - 0s 2ms/step\n",
            "Classification report:\n",
            "               precision    recall  f1-score   support\n",
            "\n",
            "           0       0.80      0.91      0.85       999\n",
            "           1       0.68      0.45      0.54       408\n",
            "\n",
            "    accuracy                           0.78      1407\n",
            "   macro avg       0.74      0.68      0.70      1407\n",
            "weighted avg       0.77      0.78      0.76      1407\n",
            "\n"
          ]
        }
      ]
    },
    {
      "cell_type": "code",
      "execution_count": 31,
      "id": "eca3ba52",
      "metadata": {
        "id": "eca3ba52"
      },
      "outputs": [],
      "source": [
        "# # Model building using tensorflow\n",
        "# import tensorflow as tf\n",
        "# from tensorflow import keras\n",
        "\n",
        "# model = keras.Sequential([\n",
        "#         keras.layers.Dense(20, input_shape = (26,), activation = 'relu'),\n",
        "#         keras.layers.Dense(15, activation = 'relu'),\n",
        "#         keras.layers.Dense(1, activation = 'sigmoid')\n",
        "# ])\n",
        "\n",
        "# model.compile(\n",
        "#         optimizer = 'adam',\n",
        "#         loss = 'binary_crossentropy',\n",
        "#         metrics = ['accuracy']\n",
        "# )\n",
        "\n",
        "# model.fit(X_train, y_train, epochs = 100)"
      ]
    },
    {
      "cell_type": "code",
      "execution_count": 32,
      "id": "acb21612",
      "metadata": {
        "id": "acb21612"
      },
      "outputs": [],
      "source": [
        "# model.evaluate(X_test, y_test)"
      ]
    },
    {
      "cell_type": "code",
      "source": [
        "# y_predict = model.predict(X_test)\n"
      ],
      "metadata": {
        "id": "YdcR9RaYMKkJ"
      },
      "id": "YdcR9RaYMKkJ",
      "execution_count": 33,
      "outputs": []
    },
    {
      "cell_type": "code",
      "source": [
        "# y_predict"
      ],
      "metadata": {
        "id": "84x4LV1mMcRE"
      },
      "id": "84x4LV1mMcRE",
      "execution_count": 34,
      "outputs": []
    },
    {
      "cell_type": "code",
      "source": [
        "# y_pred = []\n",
        "\n",
        "# for element in y_predict:\n",
        "#   if element > 0.5:\n",
        "#     y_pred.append(1)\n",
        "#   else:\n",
        "#     y_pred.append(0)"
      ],
      "metadata": {
        "id": "jc7LJPEpMjb2"
      },
      "id": "jc7LJPEpMjb2",
      "execution_count": 35,
      "outputs": []
    },
    {
      "cell_type": "code",
      "source": [
        "# y_pred[:5]"
      ],
      "metadata": {
        "id": "A-XsJxBSNFTn"
      },
      "id": "A-XsJxBSNFTn",
      "execution_count": 36,
      "outputs": []
    },
    {
      "cell_type": "code",
      "source": [
        "# y_test[:5]"
      ],
      "metadata": {
        "id": "j24LYBe8NNIG"
      },
      "id": "j24LYBe8NNIG",
      "execution_count": 37,
      "outputs": []
    },
    {
      "cell_type": "code",
      "source": [
        "# from sklearn.metrics import classification_report,confusion_matrix\n",
        "\n",
        "# print(confusion_matrix(y_test, y_pred))\n",
        "\n",
        "# print(classification_report(y_test, y_pred))"
      ],
      "metadata": {
        "id": "r1M5p8ofNZFC"
      },
      "id": "r1M5p8ofNZFC",
      "execution_count": 38,
      "outputs": []
    },
    {
      "cell_type": "code",
      "source": [
        "import seaborn as sns\n",
        "cm= confusion_matrix(y_test, y_pred)\n",
        "\n",
        "sns.heatmap(cm, annot=True, fmt='d');\n",
        "plt.xlabel('Actual')\n",
        "plt.ylabel('Prediction')"
      ],
      "metadata": {
        "colab": {
          "base_uri": "https://localhost:8080/",
          "height": 467
        },
        "id": "88LOJ78cNwxW",
        "outputId": "533aa8ec-4405-4a90-d3a7-99dcf08a2ca4"
      },
      "id": "88LOJ78cNwxW",
      "execution_count": 39,
      "outputs": [
        {
          "output_type": "execute_result",
          "data": {
            "text/plain": [
              "Text(50.722222222222214, 0.5, 'Prediction')"
            ]
          },
          "metadata": {},
          "execution_count": 39
        },
        {
          "output_type": "display_data",
          "data": {
            "text/plain": [
              "<Figure size 640x480 with 2 Axes>"
            ],
            "image/png": "[encoded data removed]"
          },
          "metadata": {}
        }
      ]
    },
    {
      "cell_type": "markdown",
      "source": [
        "# Undersampling"
      ],
      "metadata": {
        "id": "f-JM0Qm09xEy"
      },
      "id": "f-JM0Qm09xEy"
    },
    {
      "cell_type": "code",
      "source": [
        "# class count\n",
        "count_class_0, count_class_1 = df1.Churn.value_counts()\n",
        "\n",
        "# Divide by class\n",
        "df_class_0 = df2[df2['Churn']==0]\n",
        "df_class_1 = df2[df2['Churn']==1]"
      ],
      "metadata": {
        "id": "ka87CT7GOwtQ"
      },
      "id": "ka87CT7GOwtQ",
      "execution_count": 40,
      "outputs": []
    },
    {
      "cell_type": "code",
      "source": [
        "df_class_0.shape"
      ],
      "metadata": {
        "colab": {
          "base_uri": "https://localhost:8080/"
        },
        "id": "t1_jlV8M-8vG",
        "outputId": "1a56aa56-9ab6-4980-e4ee-7c0a490f6bac"
      },
      "id": "t1_jlV8M-8vG",
      "execution_count": 41,
      "outputs": [
        {
          "output_type": "execute_result",
          "data": {
            "text/plain": [
              "(5163, 27)"
            ]
          },
          "metadata": {},
          "execution_count": 41
        }
      ]
    },
    {
      "cell_type": "code",
      "source": [
        "df_class_1.shape"
      ],
      "metadata": {
        "colab": {
          "base_uri": "https://localhost:8080/"
        },
        "id": "YevaANeM-_-a",
        "outputId": "0621226d-be07-49ae-d47d-0547d8cd4c46"
      },
      "id": "YevaANeM-_-a",
      "execution_count": 42,
      "outputs": [
        {
          "output_type": "execute_result",
          "data": {
            "text/plain": [
              "(1869, 27)"
            ]
          },
          "metadata": {},
          "execution_count": 42
        }
      ]
    },
    {
      "cell_type": "code",
      "source": [
        "df_class_0.sample(count_class_1).shape"
      ],
      "metadata": {
        "colab": {
          "base_uri": "https://localhost:8080/"
        },
        "id": "74Fq8VCY_DFP",
        "outputId": "9ab5c815-a6dd-4c9c-f6a1-7f92878463d4"
      },
      "id": "74Fq8VCY_DFP",
      "execution_count": 43,
      "outputs": [
        {
          "output_type": "execute_result",
          "data": {
            "text/plain": [
              "(1869, 27)"
            ]
          },
          "metadata": {},
          "execution_count": 43
        }
      ]
    },
    {
      "cell_type": "code",
      "source": [
        "df_class_0_under = df_class_0.sample(count_class_1)"
      ],
      "metadata": {
        "id": "3WPNUp-A_fEo"
      },
      "id": "3WPNUp-A_fEo",
      "execution_count": 44,
      "outputs": []
    },
    {
      "cell_type": "code",
      "source": [
        "df_test_under = pd.concat([df_class_0_under, df_class_1], axis=0)\n",
        "df_test_under.shape"
      ],
      "metadata": {
        "colab": {
          "base_uri": "https://localhost:8080/"
        },
        "id": "lEKwubaE_6mr",
        "outputId": "31497abc-de4b-4a7b-b6b4-9b4dc78d69ef"
      },
      "id": "lEKwubaE_6mr",
      "execution_count": 45,
      "outputs": [
        {
          "output_type": "execute_result",
          "data": {
            "text/plain": [
              "(3738, 27)"
            ]
          },
          "metadata": {},
          "execution_count": 45
        }
      ]
    },
    {
      "cell_type": "code",
      "source": [
        "df_test_under.Churn.value_counts()"
      ],
      "metadata": {
        "colab": {
          "base_uri": "https://localhost:8080/"
        },
        "id": "IfgDaoHIAPYq",
        "outputId": "a1b588f0-9275-453e-a0e3-91b4c4f42d4a"
      },
      "id": "IfgDaoHIAPYq",
      "execution_count": 46,
      "outputs": [
        {
          "output_type": "execute_result",
          "data": {
            "text/plain": [
              "0    1869\n",
              "1    1869\n",
              "Name: Churn, dtype: int64"
            ]
          },
          "metadata": {},
          "execution_count": 46
        }
      ]
    },
    {
      "cell_type": "code",
      "source": [
        "X = df_test_under.drop('Churn', axis ='columns')\n",
        "y = df_test_under['Churn']\n",
        "\n",
        "from sklearn.model_selection import train_test_split\n",
        "X_train, X_test, y_train, y_test = train_test_split(X,y,test_size=0.2,\n",
        "                                                    random_state=99,\n",
        "                                                    stratify=y)"
      ],
      "metadata": {
        "id": "XGKk0Dv-AdUB"
      },
      "id": "XGKk0Dv-AdUB",
      "execution_count": 47,
      "outputs": []
    },
    {
      "cell_type": "code",
      "source": [
        "y_train.value_counts() #because of stratified sampling"
      ],
      "metadata": {
        "colab": {
          "base_uri": "https://localhost:8080/"
        },
        "id": "WNFi7wj6BvE2",
        "outputId": "0d487809-2d55-422e-8a2d-38a777425d88"
      },
      "id": "WNFi7wj6BvE2",
      "execution_count": 48,
      "outputs": [
        {
          "output_type": "execute_result",
          "data": {
            "text/plain": [
              "0    1495\n",
              "1    1495\n",
              "Name: Churn, dtype: int64"
            ]
          },
          "metadata": {},
          "execution_count": 48
        }
      ]
    },
    {
      "cell_type": "code",
      "source": [
        "# # Model building using tensorflow\n",
        "# import tensorflow as tf\n",
        "# from tensorflow import keras\n",
        "\n",
        "# model = keras.Sequential([\n",
        "#         keras.layers.Dense(20, input_shape = (26,), activation = 'relu'),\n",
        "#         keras.layers.Dense(15, activation = 'relu'),\n",
        "#         keras.layers.Dense(1, activation = 'sigmoid')\n",
        "# ])\n",
        "\n",
        "# model.compile(\n",
        "#         optimizer = 'adam',\n",
        "#         loss = 'binary_crossentropy',\n",
        "#         metrics = ['accuracy']\n",
        "# )\n",
        "\n",
        "# model.fit(X_train, y_train, epochs = 100)"
      ],
      "metadata": {
        "id": "MhcJSNBSCGy2"
      },
      "id": "MhcJSNBSCGy2",
      "execution_count": 49,
      "outputs": []
    },
    {
      "cell_type": "code",
      "source": [
        "y_pred = ANN(X_train, y_train, X_test, y_test, 'binary_crossentropy', -1)"
      ],
      "metadata": {
        "colab": {
          "base_uri": "https://localhost:8080/"
        },
        "id": "VDTfM3L0Cnmu",
        "outputId": "391f4882-6b97-4a56-d0c8-3509266eeb72"
      },
      "id": "VDTfM3L0Cnmu",
      "execution_count": 50,
      "outputs": [
        {
          "output_type": "stream",
          "name": "stdout",
          "text": [
            "Epoch 1/100\n",
            "94/94 [==============================] - 2s 4ms/step - loss: 0.6401 - accuracy: 0.6174\n",
            "Epoch 2/100\n",
            "94/94 [==============================] - 0s 4ms/step - loss: 0.5292 - accuracy: 0.7435\n",
            "Epoch 3/100\n",
            "94/94 [==============================] - 0s 3ms/step - loss: 0.5008 - accuracy: 0.7572\n",
            "Epoch 4/100\n",
            "94/94 [==============================] - 0s 4ms/step - loss: 0.4905 - accuracy: 0.7605\n",
            "Epoch 5/100\n",
            "94/94 [==============================] - 0s 5ms/step - loss: 0.4830 - accuracy: 0.7632\n",
            "Epoch 6/100\n",
            "94/94 [==============================] - 0s 5ms/step - loss: 0.4784 - accuracy: 0.7719\n",
            "Epoch 7/100\n",
            "94/94 [==============================] - 0s 5ms/step - loss: 0.4757 - accuracy: 0.7729\n",
            "Epoch 8/100\n",
            "94/94 [==============================] - 0s 5ms/step - loss: 0.4750 - accuracy: 0.7722\n",
            "Epoch 9/100\n",
            "94/94 [==============================] - 0s 5ms/step - loss: 0.4715 - accuracy: 0.7742\n",
            "Epoch 10/100\n",
            "94/94 [==============================] - 0s 5ms/step - loss: 0.4684 - accuracy: 0.7742\n",
            "Epoch 11/100\n",
            "94/94 [==============================] - 0s 4ms/step - loss: 0.4669 - accuracy: 0.7759\n",
            "Epoch 12/100\n",
            "94/94 [==============================] - 0s 4ms/step - loss: 0.4652 - accuracy: 0.7749\n",
            "Epoch 13/100\n",
            "94/94 [==============================] - 0s 4ms/step - loss: 0.4628 - accuracy: 0.7786\n",
            "Epoch 14/100\n",
            "94/94 [==============================] - 0s 4ms/step - loss: 0.4611 - accuracy: 0.7766\n",
            "Epoch 15/100\n",
            "94/94 [==============================] - 0s 4ms/step - loss: 0.4604 - accuracy: 0.7839\n",
            "Epoch 16/100\n",
            "94/94 [==============================] - 0s 3ms/step - loss: 0.4587 - accuracy: 0.7826\n",
            "Epoch 17/100\n",
            "94/94 [==============================] - 0s 4ms/step - loss: 0.4579 - accuracy: 0.7843\n",
            "Epoch 18/100\n",
            "94/94 [==============================] - 0s 3ms/step - loss: 0.4565 - accuracy: 0.7816\n",
            "Epoch 19/100\n",
            "94/94 [==============================] - 0s 3ms/step - loss: 0.4536 - accuracy: 0.7833\n",
            "Epoch 20/100\n",
            "94/94 [==============================] - 0s 4ms/step - loss: 0.4533 - accuracy: 0.7823\n",
            "Epoch 21/100\n",
            "94/94 [==============================] - 0s 3ms/step - loss: 0.4508 - accuracy: 0.7863\n",
            "Epoch 22/100\n",
            "94/94 [==============================] - 0s 4ms/step - loss: 0.4508 - accuracy: 0.7910\n",
            "Epoch 23/100\n",
            "94/94 [==============================] - 0s 3ms/step - loss: 0.4490 - accuracy: 0.7880\n",
            "Epoch 24/100\n",
            "94/94 [==============================] - 0s 4ms/step - loss: 0.4480 - accuracy: 0.7866\n",
            "Epoch 25/100\n",
            "94/94 [==============================] - 0s 4ms/step - loss: 0.4482 - accuracy: 0.7849\n",
            "Epoch 26/100\n",
            "94/94 [==============================] - 1s 6ms/step - loss: 0.4466 - accuracy: 0.7900\n",
            "Epoch 27/100\n",
            "94/94 [==============================] - 0s 4ms/step - loss: 0.4440 - accuracy: 0.7883\n",
            "Epoch 28/100\n",
            "94/94 [==============================] - 0s 4ms/step - loss: 0.4440 - accuracy: 0.7903\n",
            "Epoch 29/100\n",
            "94/94 [==============================] - 0s 4ms/step - loss: 0.4429 - accuracy: 0.7957\n",
            "Epoch 30/100\n",
            "94/94 [==============================] - 0s 4ms/step - loss: 0.4436 - accuracy: 0.7940\n",
            "Epoch 31/100\n",
            "94/94 [==============================] - 0s 4ms/step - loss: 0.4416 - accuracy: 0.7923\n",
            "Epoch 32/100\n",
            "94/94 [==============================] - 0s 4ms/step - loss: 0.4405 - accuracy: 0.7920\n",
            "Epoch 33/100\n",
            "94/94 [==============================] - 0s 3ms/step - loss: 0.4396 - accuracy: 0.7933\n",
            "Epoch 34/100\n",
            "94/94 [==============================] - 0s 4ms/step - loss: 0.4397 - accuracy: 0.7933\n",
            "Epoch 35/100\n",
            "94/94 [==============================] - 0s 4ms/step - loss: 0.4371 - accuracy: 0.7990\n",
            "Epoch 36/100\n",
            "94/94 [==============================] - 0s 4ms/step - loss: 0.4367 - accuracy: 0.7950\n",
            "Epoch 37/100\n",
            "94/94 [==============================] - 0s 3ms/step - loss: 0.4351 - accuracy: 0.7977\n",
            "Epoch 38/100\n",
            "94/94 [==============================] - 0s 4ms/step - loss: 0.4333 - accuracy: 0.8000\n",
            "Epoch 39/100\n",
            "94/94 [==============================] - 0s 5ms/step - loss: 0.4325 - accuracy: 0.8020\n",
            "Epoch 40/100\n",
            "94/94 [==============================] - 0s 5ms/step - loss: 0.4335 - accuracy: 0.7957\n",
            "Epoch 41/100\n",
            "94/94 [==============================] - 0s 5ms/step - loss: 0.4311 - accuracy: 0.8020\n",
            "Epoch 42/100\n",
            "94/94 [==============================] - 0s 5ms/step - loss: 0.4308 - accuracy: 0.7967\n",
            "Epoch 43/100\n",
            "94/94 [==============================] - 1s 5ms/step - loss: 0.4294 - accuracy: 0.7983\n",
            "Epoch 44/100\n",
            "94/94 [==============================] - 0s 5ms/step - loss: 0.4298 - accuracy: 0.8057\n",
            "Epoch 45/100\n",
            "94/94 [==============================] - 0s 4ms/step - loss: 0.4274 - accuracy: 0.8040\n",
            "Epoch 46/100\n",
            "94/94 [==============================] - 0s 4ms/step - loss: 0.4261 - accuracy: 0.8003\n",
            "Epoch 47/100\n",
            "94/94 [==============================] - 0s 4ms/step - loss: 0.4272 - accuracy: 0.8043\n",
            "Epoch 48/100\n",
            "94/94 [==============================] - 0s 4ms/step - loss: 0.4245 - accuracy: 0.8040\n",
            "Epoch 49/100\n",
            "94/94 [==============================] - 0s 4ms/step - loss: 0.4242 - accuracy: 0.8010\n",
            "Epoch 50/100\n",
            "94/94 [==============================] - 0s 4ms/step - loss: 0.4232 - accuracy: 0.8067\n",
            "Epoch 51/100\n",
            "94/94 [==============================] - 0s 4ms/step - loss: 0.4219 - accuracy: 0.8097\n",
            "Epoch 52/100\n",
            "94/94 [==============================] - 0s 4ms/step - loss: 0.4229 - accuracy: 0.8040\n",
            "Epoch 53/100\n",
            "94/94 [==============================] - 0s 4ms/step - loss: 0.4206 - accuracy: 0.8110\n",
            "Epoch 54/100\n",
            "94/94 [==============================] - 0s 3ms/step - loss: 0.4182 - accuracy: 0.8107\n",
            "Epoch 55/100\n",
            "94/94 [==============================] - 0s 4ms/step - loss: 0.4195 - accuracy: 0.8067\n",
            "Epoch 56/100\n",
            "94/94 [==============================] - 0s 4ms/step - loss: 0.4198 - accuracy: 0.8033\n",
            "Epoch 57/100\n",
            "94/94 [==============================] - 0s 4ms/step - loss: 0.4157 - accuracy: 0.8140\n",
            "Epoch 58/100\n",
            "94/94 [==============================] - 0s 4ms/step - loss: 0.4164 - accuracy: 0.8074\n",
            "Epoch 59/100\n",
            "94/94 [==============================] - 0s 4ms/step - loss: 0.4151 - accuracy: 0.8100\n",
            "Epoch 60/100\n",
            "94/94 [==============================] - 0s 4ms/step - loss: 0.4140 - accuracy: 0.8100\n",
            "Epoch 61/100\n",
            "94/94 [==============================] - 0s 4ms/step - loss: 0.4147 - accuracy: 0.8130\n",
            "Epoch 62/100\n",
            "94/94 [==============================] - 0s 4ms/step - loss: 0.4126 - accuracy: 0.8137\n",
            "Epoch 63/100\n",
            "94/94 [==============================] - 0s 4ms/step - loss: 0.4119 - accuracy: 0.8147\n",
            "Epoch 64/100\n",
            "94/94 [==============================] - 0s 4ms/step - loss: 0.4110 - accuracy: 0.8140\n",
            "Epoch 65/100\n",
            "94/94 [==============================] - 0s 4ms/step - loss: 0.4099 - accuracy: 0.8104\n",
            "Epoch 66/100\n",
            "94/94 [==============================] - 0s 3ms/step - loss: 0.4080 - accuracy: 0.8167\n",
            "Epoch 67/100\n",
            "94/94 [==============================] - 0s 4ms/step - loss: 0.4082 - accuracy: 0.8164\n",
            "Epoch 68/100\n",
            "94/94 [==============================] - 0s 4ms/step - loss: 0.4076 - accuracy: 0.8077\n",
            "Epoch 69/100\n",
            "94/94 [==============================] - 0s 4ms/step - loss: 0.4074 - accuracy: 0.8140\n",
            "Epoch 70/100\n",
            "94/94 [==============================] - 0s 4ms/step - loss: 0.4047 - accuracy: 0.8171\n",
            "Epoch 71/100\n",
            "94/94 [==============================] - 0s 4ms/step - loss: 0.4049 - accuracy: 0.8161\n",
            "Epoch 72/100\n",
            "94/94 [==============================] - 0s 4ms/step - loss: 0.4034 - accuracy: 0.8187\n",
            "Epoch 73/100\n",
            "94/94 [==============================] - 0s 5ms/step - loss: 0.4038 - accuracy: 0.8164\n",
            "Epoch 74/100\n",
            "94/94 [==============================] - 0s 5ms/step - loss: 0.4039 - accuracy: 0.8117\n",
            "Epoch 75/100\n",
            "94/94 [==============================] - 0s 5ms/step - loss: 0.4016 - accuracy: 0.8151\n",
            "Epoch 76/100\n",
            "94/94 [==============================] - 0s 5ms/step - loss: 0.4008 - accuracy: 0.8187\n",
            "Epoch 77/100\n",
            "94/94 [==============================] - 0s 5ms/step - loss: 0.3995 - accuracy: 0.8231\n",
            "Epoch 78/100\n",
            "94/94 [==============================] - 0s 5ms/step - loss: 0.3993 - accuracy: 0.8217\n",
            "Epoch 79/100\n",
            "94/94 [==============================] - 0s 3ms/step - loss: 0.3998 - accuracy: 0.8207\n",
            "Epoch 80/100\n",
            "94/94 [==============================] - 0s 4ms/step - loss: 0.3982 - accuracy: 0.8167\n",
            "Epoch 81/100\n",
            "94/94 [==============================] - 0s 4ms/step - loss: 0.3964 - accuracy: 0.8217\n",
            "Epoch 82/100\n",
            "94/94 [==============================] - 0s 4ms/step - loss: 0.3962 - accuracy: 0.8231\n",
            "Epoch 83/100\n",
            "94/94 [==============================] - 0s 4ms/step - loss: 0.3960 - accuracy: 0.8211\n",
            "Epoch 84/100\n",
            "94/94 [==============================] - 0s 4ms/step - loss: 0.3964 - accuracy: 0.8184\n",
            "Epoch 85/100\n",
            "94/94 [==============================] - 0s 4ms/step - loss: 0.3956 - accuracy: 0.8224\n",
            "Epoch 86/100\n",
            "94/94 [==============================] - 0s 4ms/step - loss: 0.3941 - accuracy: 0.8241\n",
            "Epoch 87/100\n",
            "94/94 [==============================] - 0s 3ms/step - loss: 0.3946 - accuracy: 0.8197\n",
            "Epoch 88/100\n",
            "94/94 [==============================] - 0s 4ms/step - loss: 0.3930 - accuracy: 0.8227\n",
            "Epoch 89/100\n",
            "94/94 [==============================] - 0s 4ms/step - loss: 0.3936 - accuracy: 0.8221\n",
            "Epoch 90/100\n",
            "94/94 [==============================] - 0s 4ms/step - loss: 0.3930 - accuracy: 0.8184\n",
            "Epoch 91/100\n",
            "94/94 [==============================] - 0s 3ms/step - loss: 0.3927 - accuracy: 0.8261\n",
            "Epoch 92/100\n",
            "94/94 [==============================] - 0s 4ms/step - loss: 0.3904 - accuracy: 0.8201\n",
            "Epoch 93/100\n",
            "94/94 [==============================] - 0s 4ms/step - loss: 0.3912 - accuracy: 0.8191\n",
            "Epoch 94/100\n",
            "94/94 [==============================] - 0s 4ms/step - loss: 0.3881 - accuracy: 0.8284\n",
            "Epoch 95/100\n",
            "94/94 [==============================] - 0s 4ms/step - loss: 0.3906 - accuracy: 0.8221\n",
            "Epoch 96/100\n",
            "94/94 [==============================] - 0s 4ms/step - loss: 0.3894 - accuracy: 0.8244\n",
            "Epoch 97/100\n",
            "94/94 [==============================] - 0s 4ms/step - loss: 0.3881 - accuracy: 0.8237\n",
            "Epoch 98/100\n",
            "94/94 [==============================] - 0s 4ms/step - loss: 0.3860 - accuracy: 0.8258\n",
            "Epoch 99/100\n",
            "94/94 [==============================] - 0s 3ms/step - loss: 0.3868 - accuracy: 0.8261\n",
            "Epoch 100/100\n",
            "94/94 [==============================] - 0s 3ms/step - loss: 0.3859 - accuracy: 0.8254\n",
            "24/24 [==============================] - 0s 3ms/step - loss: 0.5548 - accuracy: 0.7406\n",
            "[0.5548207759857178, 0.740641713142395]\n",
            "24/24 [==============================] - 0s 2ms/step\n",
            "Classification report:\n",
            "               precision    recall  f1-score   support\n",
            "\n",
            "           0       0.73      0.76      0.74       374\n",
            "           1       0.75      0.72      0.74       374\n",
            "\n",
            "    accuracy                           0.74       748\n",
            "   macro avg       0.74      0.74      0.74       748\n",
            "weighted avg       0.74      0.74      0.74       748\n",
            "\n"
          ]
        }
      ]
    },
    {
      "cell_type": "code",
      "source": [
        "import seaborn as sns\n",
        "cm= confusion_matrix(y_test, y_pred)\n",
        "\n",
        "sns.heatmap(cm, annot=True, fmt='d');\n",
        "plt.xlabel('Actual')\n",
        "plt.ylabel('Prediction')"
      ],
      "metadata": {
        "colab": {
          "base_uri": "https://localhost:8080/",
          "height": 466
        },
        "id": "gBgN7h5cGzwR",
        "outputId": "7aeeba3c-5389-460e-824b-a301d65deb2a"
      },
      "id": "gBgN7h5cGzwR",
      "execution_count": 51,
      "outputs": [
        {
          "output_type": "execute_result",
          "data": {
            "text/plain": [
              "Text(50.722222222222214, 0.5, 'Prediction')"
            ]
          },
          "metadata": {},
          "execution_count": 51
        },
        {
          "output_type": "display_data",
          "data": {
            "text/plain": [
              "<Figure size 640x480 with 2 Axes>"
            ],
            "image/png": "[encoded data removed]"
          },
          "metadata": {}
        }
      ]
    },
    {
      "cell_type": "markdown",
      "source": [
        "# Oversampling"
      ],
      "metadata": {
        "id": "3iTOziWJIowy"
      },
      "id": "3iTOziWJIowy"
    },
    {
      "cell_type": "code",
      "source": [
        "count_class_0, count_class_1"
      ],
      "metadata": {
        "colab": {
          "base_uri": "https://localhost:8080/"
        },
        "id": "WaM4yTu_H-Lk",
        "outputId": "02939c86-1919-4634-d9af-3a9eb2b34f8e"
      },
      "id": "WaM4yTu_H-Lk",
      "execution_count": 52,
      "outputs": [
        {
          "output_type": "execute_result",
          "data": {
            "text/plain": [
              "(5163, 1869)"
            ]
          },
          "metadata": {},
          "execution_count": 52
        }
      ]
    },
    {
      "cell_type": "code",
      "source": [
        "df_class_1_over = df_class_1.sample(count_class_0, replace=True)\n",
        "df_class_1_over.shape"
      ],
      "metadata": {
        "colab": {
          "base_uri": "https://localhost:8080/"
        },
        "id": "AdWU_-BmJLJG",
        "outputId": "54a0e933-fc44-4f47-e274-89da9f62a31d"
      },
      "id": "AdWU_-BmJLJG",
      "execution_count": 53,
      "outputs": [
        {
          "output_type": "execute_result",
          "data": {
            "text/plain": [
              "(5163, 27)"
            ]
          },
          "metadata": {},
          "execution_count": 53
        }
      ]
    },
    {
      "cell_type": "code",
      "source": [
        "df_test_over = pd.concat([df_class_0, df_class_1_over], axis=0)\n",
        "df_test_over.shape"
      ],
      "metadata": {
        "colab": {
          "base_uri": "https://localhost:8080/"
        },
        "id": "eEhGCq_ZJzvv",
        "outputId": "fdac13ab-735a-4124-dbba-0970804efb3a"
      },
      "id": "eEhGCq_ZJzvv",
      "execution_count": 54,
      "outputs": [
        {
          "output_type": "execute_result",
          "data": {
            "text/plain": [
              "(10326, 27)"
            ]
          },
          "metadata": {},
          "execution_count": 54
        }
      ]
    },
    {
      "cell_type": "code",
      "source": [
        "df_test_over.Churn.value_counts()"
      ],
      "metadata": {
        "colab": {
          "base_uri": "https://localhost:8080/"
        },
        "id": "khgdnWAKKQWv",
        "outputId": "f2a7211c-e26a-4035-ba56-8aaf93dc2e4f"
      },
      "id": "khgdnWAKKQWv",
      "execution_count": 55,
      "outputs": [
        {
          "output_type": "execute_result",
          "data": {
            "text/plain": [
              "0    5163\n",
              "1    5163\n",
              "Name: Churn, dtype: int64"
            ]
          },
          "metadata": {},
          "execution_count": 55
        }
      ]
    },
    {
      "cell_type": "code",
      "source": [
        "X = df_test_over.drop('Churn', axis ='columns')\n",
        "y = df_test_over['Churn']\n",
        "\n",
        "from sklearn.model_selection import train_test_split\n",
        "X_train, X_test, y_train, y_test = train_test_split(X,y,test_size=0.2,\n",
        "                                                    random_state=99,\n",
        "                                                    stratify=y)"
      ],
      "metadata": {
        "id": "CFfh3rrEKaEu"
      },
      "id": "CFfh3rrEKaEu",
      "execution_count": 56,
      "outputs": []
    },
    {
      "cell_type": "code",
      "source": [
        "y_train.value_counts() #because of stratified sampling"
      ],
      "metadata": {
        "colab": {
          "base_uri": "https://localhost:8080/"
        },
        "id": "5Mg6ayVHKwww",
        "outputId": "99765cbd-723a-4693-d273-a28150bcab4d"
      },
      "id": "5Mg6ayVHKwww",
      "execution_count": 57,
      "outputs": [
        {
          "output_type": "execute_result",
          "data": {
            "text/plain": [
              "1    4130\n",
              "0    4130\n",
              "Name: Churn, dtype: int64"
            ]
          },
          "metadata": {},
          "execution_count": 57
        }
      ]
    },
    {
      "cell_type": "code",
      "source": [
        "y_test.value_counts()"
      ],
      "metadata": {
        "colab": {
          "base_uri": "https://localhost:8080/"
        },
        "id": "PGwqjONiK2wF",
        "outputId": "4d96fd64-6281-49bb-a2c5-26e67581986c"
      },
      "id": "PGwqjONiK2wF",
      "execution_count": 58,
      "outputs": [
        {
          "output_type": "execute_result",
          "data": {
            "text/plain": [
              "1    1033\n",
              "0    1033\n",
              "Name: Churn, dtype: int64"
            ]
          },
          "metadata": {},
          "execution_count": 58
        }
      ]
    },
    {
      "cell_type": "code",
      "source": [
        "y_pred = ANN(X_train, y_train, X_test, y_test, 'binary_crossentropy', -1)"
      ],
      "metadata": {
        "colab": {
          "base_uri": "https://localhost:8080/"
        },
        "id": "3CeazwtYLH5U",
        "outputId": "6ee19da9-a165-4660-cd60-0fccbbbf01dc"
      },
      "id": "3CeazwtYLH5U",
      "execution_count": 59,
      "outputs": [
        {
          "output_type": "stream",
          "name": "stdout",
          "text": [
            "Epoch 1/100\n",
            "259/259 [==============================] - 2s 4ms/step - loss: 0.5510 - accuracy: 0.7308\n",
            "Epoch 2/100\n",
            "259/259 [==============================] - 1s 4ms/step - loss: 0.4992 - accuracy: 0.7561\n",
            "Epoch 3/100\n",
            "259/259 [==============================] - 1s 5ms/step - loss: 0.4913 - accuracy: 0.7590\n",
            "Epoch 4/100\n",
            "259/259 [==============================] - 1s 5ms/step - loss: 0.4875 - accuracy: 0.7614\n",
            "Epoch 5/100\n",
            "259/259 [==============================] - 1s 4ms/step - loss: 0.4843 - accuracy: 0.7636\n",
            "Epoch 6/100\n",
            "259/259 [==============================] - 1s 4ms/step - loss: 0.4816 - accuracy: 0.7662\n",
            "Epoch 7/100\n",
            "259/259 [==============================] - 1s 4ms/step - loss: 0.4798 - accuracy: 0.7668\n",
            "Epoch 8/100\n",
            "259/259 [==============================] - 1s 3ms/step - loss: 0.4778 - accuracy: 0.7684\n",
            "Epoch 9/100\n",
            "259/259 [==============================] - 1s 4ms/step - loss: 0.4752 - accuracy: 0.7715\n",
            "Epoch 10/100\n",
            "259/259 [==============================] - 1s 3ms/step - loss: 0.4736 - accuracy: 0.7701\n",
            "Epoch 11/100\n",
            "259/259 [==============================] - 1s 3ms/step - loss: 0.4718 - accuracy: 0.7734\n",
            "Epoch 12/100\n",
            "259/259 [==============================] - 1s 3ms/step - loss: 0.4696 - accuracy: 0.7736\n",
            "Epoch 13/100\n",
            "259/259 [==============================] - 1s 3ms/step - loss: 0.4681 - accuracy: 0.7753\n",
            "Epoch 14/100\n",
            "259/259 [==============================] - 1s 4ms/step - loss: 0.4667 - accuracy: 0.7783\n",
            "Epoch 15/100\n",
            "259/259 [==============================] - 1s 3ms/step - loss: 0.4642 - accuracy: 0.7783\n",
            "Epoch 16/100\n",
            "259/259 [==============================] - 1s 5ms/step - loss: 0.4635 - accuracy: 0.7800\n",
            "Epoch 17/100\n",
            "259/259 [==============================] - 1s 5ms/step - loss: 0.4621 - accuracy: 0.7795\n",
            "Epoch 18/100\n",
            "259/259 [==============================] - 1s 3ms/step - loss: 0.4608 - accuracy: 0.7806\n",
            "Epoch 19/100\n",
            "259/259 [==============================] - 1s 4ms/step - loss: 0.4584 - accuracy: 0.7829\n",
            "Epoch 20/100\n",
            "259/259 [==============================] - 1s 4ms/step - loss: 0.4585 - accuracy: 0.7841\n",
            "Epoch 21/100\n",
            "259/259 [==============================] - 1s 4ms/step - loss: 0.4560 - accuracy: 0.7860\n",
            "Epoch 22/100\n",
            "259/259 [==============================] - 1s 4ms/step - loss: 0.4547 - accuracy: 0.7870\n",
            "Epoch 23/100\n",
            "259/259 [==============================] - 1s 3ms/step - loss: 0.4542 - accuracy: 0.7861\n",
            "Epoch 24/100\n",
            "259/259 [==============================] - 1s 4ms/step - loss: 0.4524 - accuracy: 0.7898\n",
            "Epoch 25/100\n",
            "259/259 [==============================] - 1s 4ms/step - loss: 0.4524 - accuracy: 0.7873\n",
            "Epoch 26/100\n",
            "259/259 [==============================] - 1s 4ms/step - loss: 0.4511 - accuracy: 0.7892\n",
            "Epoch 27/100\n",
            "259/259 [==============================] - 1s 3ms/step - loss: 0.4489 - accuracy: 0.7939\n",
            "Epoch 28/100\n",
            "259/259 [==============================] - 1s 4ms/step - loss: 0.4464 - accuracy: 0.7916\n",
            "Epoch 29/100\n",
            "259/259 [==============================] - 1s 5ms/step - loss: 0.4459 - accuracy: 0.7923\n",
            "Epoch 30/100\n",
            "259/259 [==============================] - 1s 5ms/step - loss: 0.4449 - accuracy: 0.7956\n",
            "Epoch 31/100\n",
            "259/259 [==============================] - 1s 3ms/step - loss: 0.4440 - accuracy: 0.7937\n",
            "Epoch 32/100\n",
            "259/259 [==============================] - 1s 3ms/step - loss: 0.4418 - accuracy: 0.7964\n",
            "Epoch 33/100\n",
            "259/259 [==============================] - 1s 3ms/step - loss: 0.4403 - accuracy: 0.7970\n",
            "Epoch 34/100\n",
            "259/259 [==============================] - 1s 3ms/step - loss: 0.4394 - accuracy: 0.7988\n",
            "Epoch 35/100\n",
            "259/259 [==============================] - 1s 3ms/step - loss: 0.4394 - accuracy: 0.7972\n",
            "Epoch 36/100\n",
            "259/259 [==============================] - 1s 3ms/step - loss: 0.4382 - accuracy: 0.7983\n",
            "Epoch 37/100\n",
            "259/259 [==============================] - 1s 4ms/step - loss: 0.4365 - accuracy: 0.7993\n",
            "Epoch 38/100\n",
            "259/259 [==============================] - 1s 4ms/step - loss: 0.4348 - accuracy: 0.8018\n",
            "Epoch 39/100\n",
            "259/259 [==============================] - 1s 4ms/step - loss: 0.4343 - accuracy: 0.8027\n",
            "Epoch 40/100\n",
            "259/259 [==============================] - 1s 4ms/step - loss: 0.4329 - accuracy: 0.8018\n",
            "Epoch 41/100\n",
            "259/259 [==============================] - 1s 4ms/step - loss: 0.4325 - accuracy: 0.8006\n",
            "Epoch 42/100\n",
            "259/259 [==============================] - 1s 5ms/step - loss: 0.4318 - accuracy: 0.8023\n",
            "Epoch 43/100\n",
            "259/259 [==============================] - 1s 4ms/step - loss: 0.4307 - accuracy: 0.8038\n",
            "Epoch 44/100\n",
            "259/259 [==============================] - 1s 3ms/step - loss: 0.4295 - accuracy: 0.8033\n",
            "Epoch 45/100\n",
            "259/259 [==============================] - 1s 4ms/step - loss: 0.4277 - accuracy: 0.8017\n",
            "Epoch 46/100\n",
            "259/259 [==============================] - 1s 5ms/step - loss: 0.4259 - accuracy: 0.8039\n",
            "Epoch 47/100\n",
            "259/259 [==============================] - 1s 4ms/step - loss: 0.4269 - accuracy: 0.8048\n",
            "Epoch 48/100\n",
            "259/259 [==============================] - 1s 4ms/step - loss: 0.4252 - accuracy: 0.8047\n",
            "Epoch 49/100\n",
            "259/259 [==============================] - 1s 4ms/step - loss: 0.4237 - accuracy: 0.8068\n",
            "Epoch 50/100\n",
            "259/259 [==============================] - 1s 3ms/step - loss: 0.4241 - accuracy: 0.8053\n",
            "Epoch 51/100\n",
            "259/259 [==============================] - 1s 3ms/step - loss: 0.4225 - accuracy: 0.8059\n",
            "Epoch 52/100\n",
            "259/259 [==============================] - 1s 4ms/step - loss: 0.4207 - accuracy: 0.8074\n",
            "Epoch 53/100\n",
            "259/259 [==============================] - 1s 4ms/step - loss: 0.4210 - accuracy: 0.8076\n",
            "Epoch 54/100\n",
            "259/259 [==============================] - 1s 5ms/step - loss: 0.4194 - accuracy: 0.8074\n",
            "Epoch 55/100\n",
            "259/259 [==============================] - 1s 5ms/step - loss: 0.4198 - accuracy: 0.8041\n",
            "Epoch 56/100\n",
            "259/259 [==============================] - 1s 4ms/step - loss: 0.4183 - accuracy: 0.8085\n",
            "Epoch 57/100\n",
            "259/259 [==============================] - 1s 4ms/step - loss: 0.4172 - accuracy: 0.8098\n",
            "Epoch 58/100\n",
            "259/259 [==============================] - 1s 5ms/step - loss: 0.4167 - accuracy: 0.8110\n",
            "Epoch 59/100\n",
            "259/259 [==============================] - 1s 4ms/step - loss: 0.4151 - accuracy: 0.8096\n",
            "Epoch 60/100\n",
            "259/259 [==============================] - 1s 3ms/step - loss: 0.4168 - accuracy: 0.8080\n",
            "Epoch 61/100\n",
            "259/259 [==============================] - 1s 4ms/step - loss: 0.4137 - accuracy: 0.8105\n",
            "Epoch 62/100\n",
            "259/259 [==============================] - 1s 4ms/step - loss: 0.4143 - accuracy: 0.8120\n",
            "Epoch 63/100\n",
            "259/259 [==============================] - 1s 4ms/step - loss: 0.4136 - accuracy: 0.8107\n",
            "Epoch 64/100\n",
            "259/259 [==============================] - 1s 4ms/step - loss: 0.4120 - accuracy: 0.8085\n",
            "Epoch 65/100\n",
            "259/259 [==============================] - 1s 3ms/step - loss: 0.4131 - accuracy: 0.8077\n",
            "Epoch 66/100\n",
            "259/259 [==============================] - 1s 5ms/step - loss: 0.4112 - accuracy: 0.8119\n",
            "Epoch 67/100\n",
            "259/259 [==============================] - 1s 5ms/step - loss: 0.4112 - accuracy: 0.8107\n",
            "Epoch 68/100\n",
            "259/259 [==============================] - 1s 4ms/step - loss: 0.4101 - accuracy: 0.8103\n",
            "Epoch 69/100\n",
            "259/259 [==============================] - 1s 4ms/step - loss: 0.4093 - accuracy: 0.8136\n",
            "Epoch 70/100\n",
            "259/259 [==============================] - 1s 4ms/step - loss: 0.4103 - accuracy: 0.8119\n",
            "Epoch 71/100\n",
            "259/259 [==============================] - 1s 3ms/step - loss: 0.4094 - accuracy: 0.8120\n",
            "Epoch 72/100\n",
            "259/259 [==============================] - 1s 4ms/step - loss: 0.4090 - accuracy: 0.8110\n",
            "Epoch 73/100\n",
            "259/259 [==============================] - 1s 4ms/step - loss: 0.4071 - accuracy: 0.8126\n",
            "Epoch 74/100\n",
            "259/259 [==============================] - 1s 4ms/step - loss: 0.4069 - accuracy: 0.8136\n",
            "Epoch 75/100\n",
            "259/259 [==============================] - 1s 4ms/step - loss: 0.4061 - accuracy: 0.8150\n",
            "Epoch 76/100\n",
            "259/259 [==============================] - 1s 4ms/step - loss: 0.4065 - accuracy: 0.8145\n",
            "Epoch 77/100\n",
            "259/259 [==============================] - 1s 4ms/step - loss: 0.4056 - accuracy: 0.8157\n",
            "Epoch 78/100\n",
            "259/259 [==============================] - 1s 4ms/step - loss: 0.4056 - accuracy: 0.8133\n",
            "Epoch 79/100\n",
            "259/259 [==============================] - 1s 5ms/step - loss: 0.4056 - accuracy: 0.8125\n",
            "Epoch 80/100\n",
            "259/259 [==============================] - 1s 5ms/step - loss: 0.4056 - accuracy: 0.8138\n",
            "Epoch 81/100\n",
            "259/259 [==============================] - 1s 3ms/step - loss: 0.4042 - accuracy: 0.8166\n",
            "Epoch 82/100\n",
            "259/259 [==============================] - 1s 4ms/step - loss: 0.4038 - accuracy: 0.8144\n",
            "Epoch 83/100\n",
            "259/259 [==============================] - 1s 4ms/step - loss: 0.4030 - accuracy: 0.8139\n",
            "Epoch 84/100\n",
            "259/259 [==============================] - 1s 4ms/step - loss: 0.4031 - accuracy: 0.8150\n",
            "Epoch 85/100\n",
            "259/259 [==============================] - 1s 4ms/step - loss: 0.4037 - accuracy: 0.8149\n",
            "Epoch 86/100\n",
            "259/259 [==============================] - 1s 4ms/step - loss: 0.4028 - accuracy: 0.8159\n",
            "Epoch 87/100\n",
            "259/259 [==============================] - 1s 4ms/step - loss: 0.4023 - accuracy: 0.8169\n",
            "Epoch 88/100\n",
            "259/259 [==============================] - 1s 3ms/step - loss: 0.4022 - accuracy: 0.8176\n",
            "Epoch 89/100\n",
            "259/259 [==============================] - 1s 3ms/step - loss: 0.4015 - accuracy: 0.8155\n",
            "Epoch 90/100\n",
            "259/259 [==============================] - 1s 4ms/step - loss: 0.4022 - accuracy: 0.8156\n",
            "Epoch 91/100\n",
            "259/259 [==============================] - 1s 4ms/step - loss: 0.4016 - accuracy: 0.8165\n",
            "Epoch 92/100\n",
            "259/259 [==============================] - 1s 5ms/step - loss: 0.4007 - accuracy: 0.8182\n",
            "Epoch 93/100\n",
            "259/259 [==============================] - 1s 4ms/step - loss: 0.4007 - accuracy: 0.8174\n",
            "Epoch 94/100\n",
            "259/259 [==============================] - 1s 4ms/step - loss: 0.4001 - accuracy: 0.8160\n",
            "Epoch 95/100\n",
            "259/259 [==============================] - 1s 4ms/step - loss: 0.4000 - accuracy: 0.8172\n",
            "Epoch 96/100\n",
            "259/259 [==============================] - 1s 4ms/step - loss: 0.3982 - accuracy: 0.8176\n",
            "Epoch 97/100\n",
            "259/259 [==============================] - 1s 4ms/step - loss: 0.3977 - accuracy: 0.8194\n",
            "Epoch 98/100\n",
            "259/259 [==============================] - 1s 4ms/step - loss: 0.3979 - accuracy: 0.8196\n",
            "Epoch 99/100\n",
            "259/259 [==============================] - 1s 4ms/step - loss: 0.3971 - accuracy: 0.8202\n",
            "Epoch 100/100\n",
            "259/259 [==============================] - 1s 4ms/step - loss: 0.3983 - accuracy: 0.8185\n",
            "65/65 [==============================] - 0s 3ms/step - loss: 0.4427 - accuracy: 0.7991\n",
            "[0.44274646043777466, 0.7991287708282471]\n",
            "65/65 [==============================] - 0s 2ms/step\n",
            "Classification report:\n",
            "               precision    recall  f1-score   support\n",
            "\n",
            "           0       0.85      0.73      0.78      1033\n",
            "           1       0.76      0.87      0.81      1033\n",
            "\n",
            "    accuracy                           0.80      2066\n",
            "   macro avg       0.81      0.80      0.80      2066\n",
            "weighted avg       0.81      0.80      0.80      2066\n",
            "\n"
          ]
        }
      ]
    },
    {
      "cell_type": "code",
      "source": [
        "import seaborn as sns\n",
        "cm= confusion_matrix(y_test, y_pred)\n",
        "\n",
        "sns.heatmap(cm, annot=True, fmt='d');\n",
        "plt.xlabel('Actual')\n",
        "plt.ylabel('Prediction')"
      ],
      "metadata": {
        "colab": {
          "base_uri": "https://localhost:8080/",
          "height": 466
        },
        "id": "X0RrsKS2LRpO",
        "outputId": "c9e860d3-8a14-4da6-a5fb-7aeecc5743cc"
      },
      "id": "X0RrsKS2LRpO",
      "execution_count": 60,
      "outputs": [
        {
          "output_type": "execute_result",
          "data": {
            "text/plain": [
              "Text(50.722222222222214, 0.5, 'Prediction')"
            ]
          },
          "metadata": {},
          "execution_count": 60
        },
        {
          "output_type": "display_data",
          "data": {
            "text/plain": [
              "<Figure size 640x480 with 2 Axes>"
            ],
            "image/png": "[encoded data removed]"
          },
          "metadata": {}
        }
      ]
    },
    {
      "cell_type": "markdown",
      "source": [
        "# '**SMOTE**' method"
      ],
      "metadata": {
        "id": "MOpn5qNGLz3F"
      },
      "id": "MOpn5qNGLz3F"
    },
    {
      "cell_type": "code",
      "source": [
        "X = df2.drop('Churn',axis='columns')\n",
        "y = df2['Churn']"
      ],
      "metadata": {
        "id": "oZuxsbdoLy1w"
      },
      "id": "oZuxsbdoLy1w",
      "execution_count": 61,
      "outputs": []
    },
    {
      "cell_type": "code",
      "source": [
        "y.value_counts()"
      ],
      "metadata": {
        "colab": {
          "base_uri": "https://localhost:8080/"
        },
        "id": "tyo1MWIsNQUD",
        "outputId": "cf6f1c0e-dc18-4858-eb01-71ba675a5893"
      },
      "id": "tyo1MWIsNQUD",
      "execution_count": 63,
      "outputs": [
        {
          "output_type": "execute_result",
          "data": {
            "text/plain": [
              "0    5163\n",
              "1    1869\n",
              "Name: Churn, dtype: int64"
            ]
          },
          "metadata": {},
          "execution_count": 63
        }
      ]
    },
    {
      "cell_type": "code",
      "source": [
        "#!pip install imbalanced-learn\n",
        "from imblearn.over_sampling import SMOTE\n",
        "\n",
        "smote = SMOTE(sampling_strategy='minority')\n",
        "X_sm, y_sm = smote.fit_resample(X, y)\n",
        "\n",
        "y_sm.value_counts() #now y has equal samples"
      ],
      "metadata": {
        "colab": {
          "base_uri": "https://localhost:8080/"
        },
        "id": "TiOG6YMQMfCW",
        "outputId": "f9fdf85a-8dec-4cf3-bc7f-3647ac1bfc1e"
      },
      "id": "TiOG6YMQMfCW",
      "execution_count": 66,
      "outputs": [
        {
          "output_type": "execute_result",
          "data": {
            "text/plain": [
              "0    5163\n",
              "1    5163\n",
              "Name: Churn, dtype: int64"
            ]
          },
          "metadata": {},
          "execution_count": 66
        }
      ]
    },
    {
      "cell_type": "code",
      "source": [
        "X_train, X_test, y_train, y_test = train_test_split(X_sm,y_sm,test_size=0.2,\n",
        "                                                    random_state=99,\n",
        "                                                    stratify=y_sm)"
      ],
      "metadata": {
        "id": "oXqRmAhtNtxq"
      },
      "id": "oXqRmAhtNtxq",
      "execution_count": 67,
      "outputs": []
    },
    {
      "cell_type": "code",
      "source": [
        "y_train.value_counts()"
      ],
      "metadata": {
        "colab": {
          "base_uri": "https://localhost:8080/"
        },
        "id": "yyng8ow9OTgl",
        "outputId": "563a1e28-0336-405b-da1d-a3bef6dcf4d8"
      },
      "id": "yyng8ow9OTgl",
      "execution_count": 68,
      "outputs": [
        {
          "output_type": "execute_result",
          "data": {
            "text/plain": [
              "1    4130\n",
              "0    4130\n",
              "Name: Churn, dtype: int64"
            ]
          },
          "metadata": {},
          "execution_count": 68
        }
      ]
    },
    {
      "cell_type": "code",
      "source": [
        "y_test.value_counts()"
      ],
      "metadata": {
        "colab": {
          "base_uri": "https://localhost:8080/"
        },
        "id": "u0t9aRKCOXEK",
        "outputId": "2d5a44ad-3c96-42b7-f97c-11cf7ff58302"
      },
      "id": "u0t9aRKCOXEK",
      "execution_count": 69,
      "outputs": [
        {
          "output_type": "execute_result",
          "data": {
            "text/plain": [
              "1    1033\n",
              "0    1033\n",
              "Name: Churn, dtype: int64"
            ]
          },
          "metadata": {},
          "execution_count": 69
        }
      ]
    },
    {
      "cell_type": "code",
      "source": [
        "y_pred = ANN(X_train, y_train, X_test, y_test, 'binary_crossentropy', -1)"
      ],
      "metadata": {
        "colab": {
          "base_uri": "https://localhost:8080/"
        },
        "id": "EXRwTWjmOZ77",
        "outputId": "82b37f1d-9fe6-4114-d760-7f428481f18b"
      },
      "id": "EXRwTWjmOZ77",
      "execution_count": 70,
      "outputs": [
        {
          "output_type": "stream",
          "name": "stdout",
          "text": [
            "Epoch 1/100\n",
            "259/259 [==============================] - 2s 3ms/step - loss: 0.5412 - accuracy: 0.7354\n",
            "Epoch 2/100\n",
            "259/259 [==============================] - 1s 4ms/step - loss: 0.4752 - accuracy: 0.7749\n",
            "Epoch 3/100\n",
            "259/259 [==============================] - 1s 4ms/step - loss: 0.4650 - accuracy: 0.7778\n",
            "Epoch 4/100\n",
            "259/259 [==============================] - 1s 3ms/step - loss: 0.4599 - accuracy: 0.7806\n",
            "Epoch 5/100\n",
            "259/259 [==============================] - 1s 4ms/step - loss: 0.4552 - accuracy: 0.7834\n",
            "Epoch 6/100\n",
            "259/259 [==============================] - 1s 5ms/step - loss: 0.4535 - accuracy: 0.7840\n",
            "Epoch 7/100\n",
            "259/259 [==============================] - 1s 4ms/step - loss: 0.4497 - accuracy: 0.7858\n",
            "Epoch 8/100\n",
            "259/259 [==============================] - 1s 3ms/step - loss: 0.4471 - accuracy: 0.7890\n",
            "Epoch 9/100\n",
            "259/259 [==============================] - 1s 3ms/step - loss: 0.4441 - accuracy: 0.7903\n",
            "Epoch 10/100\n",
            "259/259 [==============================] - 1s 4ms/step - loss: 0.4424 - accuracy: 0.7919\n",
            "Epoch 11/100\n",
            "259/259 [==============================] - 1s 3ms/step - loss: 0.4402 - accuracy: 0.7907\n",
            "Epoch 12/100\n",
            "259/259 [==============================] - 1s 3ms/step - loss: 0.4373 - accuracy: 0.7970\n",
            "Epoch 13/100\n",
            "259/259 [==============================] - 1s 3ms/step - loss: 0.4355 - accuracy: 0.7988\n",
            "Epoch 14/100\n",
            "259/259 [==============================] - 1s 4ms/step - loss: 0.4326 - accuracy: 0.8005\n",
            "Epoch 15/100\n",
            "259/259 [==============================] - 1s 4ms/step - loss: 0.4293 - accuracy: 0.7990\n",
            "Epoch 16/100\n",
            "259/259 [==============================] - 1s 4ms/step - loss: 0.4278 - accuracy: 0.8011\n",
            "Epoch 17/100\n",
            "259/259 [==============================] - 1s 3ms/step - loss: 0.4247 - accuracy: 0.8039\n",
            "Epoch 18/100\n",
            "259/259 [==============================] - 1s 5ms/step - loss: 0.4228 - accuracy: 0.8022\n",
            "Epoch 19/100\n",
            "259/259 [==============================] - 1s 5ms/step - loss: 0.4210 - accuracy: 0.8029\n",
            "Epoch 20/100\n",
            "259/259 [==============================] - 1s 4ms/step - loss: 0.4187 - accuracy: 0.8048\n",
            "Epoch 21/100\n",
            "259/259 [==============================] - 1s 3ms/step - loss: 0.4171 - accuracy: 0.8082\n",
            "Epoch 22/100\n",
            "259/259 [==============================] - 1s 4ms/step - loss: 0.4151 - accuracy: 0.8088\n",
            "Epoch 23/100\n",
            "259/259 [==============================] - 1s 3ms/step - loss: 0.4132 - accuracy: 0.8111\n",
            "Epoch 24/100\n",
            "259/259 [==============================] - 1s 4ms/step - loss: 0.4114 - accuracy: 0.8096\n",
            "Epoch 25/100\n",
            "259/259 [==============================] - 1s 4ms/step - loss: 0.4094 - accuracy: 0.8153\n",
            "Epoch 26/100\n",
            "259/259 [==============================] - 1s 3ms/step - loss: 0.4068 - accuracy: 0.8123\n",
            "Epoch 27/100\n",
            "259/259 [==============================] - 1s 3ms/step - loss: 0.4064 - accuracy: 0.8142\n",
            "Epoch 28/100\n",
            "259/259 [==============================] - 1s 3ms/step - loss: 0.4050 - accuracy: 0.8133\n",
            "Epoch 29/100\n",
            "259/259 [==============================] - 1s 3ms/step - loss: 0.4021 - accuracy: 0.8150\n",
            "Epoch 30/100\n",
            "259/259 [==============================] - 1s 4ms/step - loss: 0.4005 - accuracy: 0.8182\n",
            "Epoch 31/100\n",
            "259/259 [==============================] - 1s 5ms/step - loss: 0.3996 - accuracy: 0.8176\n",
            "Epoch 32/100\n",
            "259/259 [==============================] - 1s 5ms/step - loss: 0.3972 - accuracy: 0.8188\n",
            "Epoch 33/100\n",
            "259/259 [==============================] - 2s 6ms/step - loss: 0.3962 - accuracy: 0.8206\n",
            "Epoch 34/100\n",
            "259/259 [==============================] - 2s 7ms/step - loss: 0.3958 - accuracy: 0.8194\n",
            "Epoch 35/100\n",
            "259/259 [==============================] - 2s 7ms/step - loss: 0.3944 - accuracy: 0.8218\n",
            "Epoch 36/100\n",
            "259/259 [==============================] - 1s 4ms/step - loss: 0.3929 - accuracy: 0.8196\n",
            "Epoch 37/100\n",
            "259/259 [==============================] - 1s 3ms/step - loss: 0.3902 - accuracy: 0.8236\n",
            "Epoch 38/100\n",
            "259/259 [==============================] - 1s 4ms/step - loss: 0.3891 - accuracy: 0.8252\n",
            "Epoch 39/100\n",
            "259/259 [==============================] - 1s 3ms/step - loss: 0.3891 - accuracy: 0.8240\n",
            "Epoch 40/100\n",
            "259/259 [==============================] - 1s 4ms/step - loss: 0.3862 - accuracy: 0.8265\n",
            "Epoch 41/100\n",
            "259/259 [==============================] - 1s 4ms/step - loss: 0.3866 - accuracy: 0.8295\n",
            "Epoch 42/100\n",
            "259/259 [==============================] - 1s 5ms/step - loss: 0.3852 - accuracy: 0.8281\n",
            "Epoch 43/100\n",
            "259/259 [==============================] - 1s 4ms/step - loss: 0.3844 - accuracy: 0.8269\n",
            "Epoch 44/100\n",
            "259/259 [==============================] - 1s 3ms/step - loss: 0.3824 - accuracy: 0.8276\n",
            "Epoch 45/100\n",
            "259/259 [==============================] - 1s 3ms/step - loss: 0.3822 - accuracy: 0.8286\n",
            "Epoch 46/100\n",
            "259/259 [==============================] - 1s 4ms/step - loss: 0.3808 - accuracy: 0.8291\n",
            "Epoch 47/100\n",
            "259/259 [==============================] - 1s 4ms/step - loss: 0.3797 - accuracy: 0.8286\n",
            "Epoch 48/100\n",
            "259/259 [==============================] - 1s 3ms/step - loss: 0.3794 - accuracy: 0.8294\n",
            "Epoch 49/100\n",
            "259/259 [==============================] - 1s 4ms/step - loss: 0.3783 - accuracy: 0.8305\n",
            "Epoch 50/100\n",
            "259/259 [==============================] - 1s 3ms/step - loss: 0.3783 - accuracy: 0.8293\n",
            "Epoch 51/100\n",
            "259/259 [==============================] - 1s 3ms/step - loss: 0.3756 - accuracy: 0.8316\n",
            "Epoch 52/100\n",
            "259/259 [==============================] - 1s 3ms/step - loss: 0.3743 - accuracy: 0.8321\n",
            "Epoch 53/100\n",
            "259/259 [==============================] - 1s 4ms/step - loss: 0.3756 - accuracy: 0.8315\n",
            "Epoch 54/100\n",
            "259/259 [==============================] - 1s 4ms/step - loss: 0.3742 - accuracy: 0.8304\n",
            "Epoch 55/100\n",
            "259/259 [==============================] - 1s 5ms/step - loss: 0.3725 - accuracy: 0.8327\n",
            "Epoch 56/100\n",
            "259/259 [==============================] - 1s 4ms/step - loss: 0.3760 - accuracy: 0.8311\n",
            "Epoch 57/100\n",
            "259/259 [==============================] - 1s 3ms/step - loss: 0.3732 - accuracy: 0.8320\n",
            "Epoch 58/100\n",
            "259/259 [==============================] - 1s 4ms/step - loss: 0.3709 - accuracy: 0.8335\n",
            "Epoch 59/100\n",
            "259/259 [==============================] - 1s 3ms/step - loss: 0.3719 - accuracy: 0.8334\n",
            "Epoch 60/100\n",
            "259/259 [==============================] - 1s 4ms/step - loss: 0.3721 - accuracy: 0.8333\n",
            "Epoch 61/100\n",
            "259/259 [==============================] - 1s 3ms/step - loss: 0.3698 - accuracy: 0.8344\n",
            "Epoch 62/100\n",
            "259/259 [==============================] - 1s 3ms/step - loss: 0.3694 - accuracy: 0.8341\n",
            "Epoch 63/100\n",
            "259/259 [==============================] - 1s 3ms/step - loss: 0.3680 - accuracy: 0.8340\n",
            "Epoch 64/100\n",
            "259/259 [==============================] - 1s 3ms/step - loss: 0.3673 - accuracy: 0.8350\n",
            "Epoch 65/100\n",
            "259/259 [==============================] - 1s 3ms/step - loss: 0.3672 - accuracy: 0.8366\n",
            "Epoch 66/100\n",
            "259/259 [==============================] - 1s 3ms/step - loss: 0.3678 - accuracy: 0.8345\n",
            "Epoch 67/100\n",
            "259/259 [==============================] - 1s 4ms/step - loss: 0.3647 - accuracy: 0.8370\n",
            "Epoch 68/100\n",
            "259/259 [==============================] - 1s 5ms/step - loss: 0.3667 - accuracy: 0.8338\n",
            "Epoch 69/100\n",
            "259/259 [==============================] - 1s 5ms/step - loss: 0.3643 - accuracy: 0.8358\n",
            "Epoch 70/100\n",
            "259/259 [==============================] - 1s 3ms/step - loss: 0.3647 - accuracy: 0.8318\n",
            "Epoch 71/100\n",
            "259/259 [==============================] - 1s 4ms/step - loss: 0.3651 - accuracy: 0.8355\n",
            "Epoch 72/100\n",
            "259/259 [==============================] - 1s 4ms/step - loss: 0.3631 - accuracy: 0.8378\n",
            "Epoch 73/100\n",
            "259/259 [==============================] - 1s 3ms/step - loss: 0.3629 - accuracy: 0.8385\n",
            "Epoch 74/100\n",
            "259/259 [==============================] - 1s 3ms/step - loss: 0.3621 - accuracy: 0.8403\n",
            "Epoch 75/100\n",
            "259/259 [==============================] - 1s 3ms/step - loss: 0.3615 - accuracy: 0.8377\n",
            "Epoch 76/100\n",
            "259/259 [==============================] - 1s 4ms/step - loss: 0.3633 - accuracy: 0.8351\n",
            "Epoch 77/100\n",
            "259/259 [==============================] - 1s 4ms/step - loss: 0.3601 - accuracy: 0.8381\n",
            "Epoch 78/100\n",
            "259/259 [==============================] - 1s 3ms/step - loss: 0.3611 - accuracy: 0.8408\n",
            "Epoch 79/100\n",
            "259/259 [==============================] - 1s 4ms/step - loss: 0.3593 - accuracy: 0.8400\n",
            "Epoch 80/100\n",
            "259/259 [==============================] - 1s 4ms/step - loss: 0.3607 - accuracy: 0.8400\n",
            "Epoch 81/100\n",
            "259/259 [==============================] - 1s 5ms/step - loss: 0.3575 - accuracy: 0.8395\n",
            "Epoch 82/100\n",
            "259/259 [==============================] - 1s 5ms/step - loss: 0.3587 - accuracy: 0.8402\n",
            "Epoch 83/100\n",
            "259/259 [==============================] - 1s 4ms/step - loss: 0.3577 - accuracy: 0.8390\n",
            "Epoch 84/100\n",
            "259/259 [==============================] - 1s 4ms/step - loss: 0.3584 - accuracy: 0.8401\n",
            "Epoch 85/100\n",
            "259/259 [==============================] - 1s 4ms/step - loss: 0.3571 - accuracy: 0.8406\n",
            "Epoch 86/100\n",
            "259/259 [==============================] - 1s 3ms/step - loss: 0.3548 - accuracy: 0.8412\n",
            "Epoch 87/100\n",
            "259/259 [==============================] - 1s 3ms/step - loss: 0.3546 - accuracy: 0.8406\n",
            "Epoch 88/100\n",
            "259/259 [==============================] - 1s 4ms/step - loss: 0.3551 - accuracy: 0.8418\n",
            "Epoch 89/100\n",
            "259/259 [==============================] - 1s 4ms/step - loss: 0.3544 - accuracy: 0.8431\n",
            "Epoch 90/100\n",
            "259/259 [==============================] - 1s 3ms/step - loss: 0.3537 - accuracy: 0.8427\n",
            "Epoch 91/100\n",
            "259/259 [==============================] - 1s 3ms/step - loss: 0.3526 - accuracy: 0.8443\n",
            "Epoch 92/100\n",
            "259/259 [==============================] - 1s 3ms/step - loss: 0.3533 - accuracy: 0.8436\n",
            "Epoch 93/100\n",
            "259/259 [==============================] - 1s 4ms/step - loss: 0.3527 - accuracy: 0.8409\n",
            "Epoch 94/100\n",
            "259/259 [==============================] - 1s 5ms/step - loss: 0.3522 - accuracy: 0.8419\n",
            "Epoch 95/100\n",
            "259/259 [==============================] - 1s 4ms/step - loss: 0.3509 - accuracy: 0.8461\n",
            "Epoch 96/100\n",
            "259/259 [==============================] - 1s 3ms/step - loss: 0.3516 - accuracy: 0.8458\n",
            "Epoch 97/100\n",
            "259/259 [==============================] - 1s 3ms/step - loss: 0.3499 - accuracy: 0.8458\n",
            "Epoch 98/100\n",
            "259/259 [==============================] - 1s 4ms/step - loss: 0.3486 - accuracy: 0.8427\n",
            "Epoch 99/100\n",
            "259/259 [==============================] - 1s 4ms/step - loss: 0.3498 - accuracy: 0.8465\n",
            "Epoch 100/100\n",
            "259/259 [==============================] - 1s 4ms/step - loss: 0.3507 - accuracy: 0.8424\n",
            "65/65 [==============================] - 0s 2ms/step - loss: 0.4249 - accuracy: 0.8030\n",
            "[0.42491641640663147, 0.8030009865760803]\n",
            "65/65 [==============================] - 0s 2ms/step\n",
            "Classification report:\n",
            "               precision    recall  f1-score   support\n",
            "\n",
            "           0       0.83      0.76      0.79      1033\n",
            "           1       0.78      0.85      0.81      1033\n",
            "\n",
            "    accuracy                           0.80      2066\n",
            "   macro avg       0.81      0.80      0.80      2066\n",
            "weighted avg       0.81      0.80      0.80      2066\n",
            "\n"
          ]
        }
      ]
    },
    {
      "cell_type": "code",
      "source": [
        "import seaborn as sns\n",
        "cm= confusion_matrix(y_test, y_pred)\n",
        "\n",
        "sns.heatmap(cm, annot=True, fmt='d');\n",
        "plt.xlabel('Actual')\n",
        "plt.ylabel('Prediction')"
      ],
      "metadata": {
        "colab": {
          "base_uri": "https://localhost:8080/",
          "height": 466
        },
        "id": "AQQR6SyGOiLS",
        "outputId": "4ee6c5a8-1a49-4e05-ae86-fab5cd7dcece"
      },
      "id": "AQQR6SyGOiLS",
      "execution_count": 71,
      "outputs": [
        {
          "output_type": "execute_result",
          "data": {
            "text/plain": [
              "Text(50.722222222222214, 0.5, 'Prediction')"
            ]
          },
          "metadata": {},
          "execution_count": 71
        },
        {
          "output_type": "display_data",
          "data": {
            "text/plain": [
              "<Figure size 640x480 with 2 Axes>"
            ],
            "image/png": "[encoded data removed]"
          },
          "metadata": {}
        }
      ]
    },
    {
      "cell_type": "markdown",
      "source": [
        "# Ensemble method with Undersampling"
      ],
      "metadata": {
        "id": "znwXntd7PE7l"
      },
      "id": "znwXntd7PE7l"
    },
    {
      "cell_type": "code",
      "source": [
        "df2.Churn.value_counts()"
      ],
      "metadata": {
        "colab": {
          "base_uri": "https://localhost:8080/"
        },
        "id": "Ox93xBhoPMhM",
        "outputId": "c5835295-bf94-47a9-9d75-bf5d7b315c2b"
      },
      "id": "Ox93xBhoPMhM",
      "execution_count": 72,
      "outputs": [
        {
          "output_type": "execute_result",
          "data": {
            "text/plain": [
              "0    5163\n",
              "1    1869\n",
              "Name: Churn, dtype: int64"
            ]
          },
          "metadata": {},
          "execution_count": 72
        }
      ]
    },
    {
      "cell_type": "code",
      "source": [
        "X=df2.drop('Churn', axis='columns')\n",
        "y=df2['Churn']"
      ],
      "metadata": {
        "id": "0mjMsDyEPS5l"
      },
      "id": "0mjMsDyEPS5l",
      "execution_count": 73,
      "outputs": []
    },
    {
      "cell_type": "code",
      "source": [
        "X_train, X_test, y_train, y_test = train_test_split(X,y,test_size=0.2,\n",
        "                                                    random_state=99,\n",
        "                                                    stratify=y)"
      ],
      "metadata": {
        "id": "tgoY2F31PeU8"
      },
      "id": "tgoY2F31PeU8",
      "execution_count": 74,
      "outputs": []
    },
    {
      "cell_type": "code",
      "source": [
        "y_train.value_counts()"
      ],
      "metadata": {
        "colab": {
          "base_uri": "https://localhost:8080/"
        },
        "id": "-Gj1HbHZPpd_",
        "outputId": "348dd870-7703-4b62-e0a2-2582e39efdbb"
      },
      "id": "-Gj1HbHZPpd_",
      "execution_count": 75,
      "outputs": [
        {
          "output_type": "execute_result",
          "data": {
            "text/plain": [
              "0    4130\n",
              "1    1495\n",
              "Name: Churn, dtype: int64"
            ]
          },
          "metadata": {},
          "execution_count": 75
        }
      ]
    },
    {
      "cell_type": "code",
      "source": [
        "df3=X_train.copy()\n",
        "df3['Churn']=y_train"
      ],
      "metadata": {
        "id": "TnsOSyWbPtcr"
      },
      "id": "TnsOSyWbPtcr",
      "execution_count": 76,
      "outputs": []
    },
    {
      "cell_type": "code",
      "source": [
        "df3_class0 = df3[df3.Churn==0]\n",
        "df3_class1 = df3[df3.Churn==1]"
      ],
      "metadata": {
        "id": "L6YjqqRXQXM7"
      },
      "id": "L6YjqqRXQXM7",
      "execution_count": 79,
      "outputs": []
    },
    {
      "cell_type": "code",
      "source": [
        "df3_class0.shape, df3_class1.shape"
      ],
      "metadata": {
        "colab": {
          "base_uri": "https://localhost:8080/"
        },
        "id": "-sqXfRUDQobp",
        "outputId": "74356719-2473-4af3-85ff-4afaed58a50a"
      },
      "id": "-sqXfRUDQobp",
      "execution_count": 80,
      "outputs": [
        {
          "output_type": "execute_result",
          "data": {
            "text/plain": [
              "((4130, 27), (1495, 27))"
            ]
          },
          "metadata": {},
          "execution_count": 80
        }
      ]
    },
    {
      "cell_type": "code",
      "source": [
        "def get_train_batch(df_majority, df_minority, start, end):\n",
        "  df_train = pd.concat([df_majority[:1495], df_minority], axis=0)\n",
        "\n",
        "  X_train = df_train.drop(['Churn'], axis='columns')\n",
        "  y_train = df_train['Churn']\n",
        "\n",
        "  return X_train, y_train"
      ],
      "metadata": {
        "id": "qDdv4SVWRueg"
      },
      "id": "qDdv4SVWRueg",
      "execution_count": 86,
      "outputs": []
    },
    {
      "cell_type": "code",
      "source": [
        "X_train, y_train = get_train_batch(df3_class0, df3_class1, 0, 1495)\n",
        "\n",
        "y_pred1 = ANN(X_train, y_train, X_test, y_test, 'binary_crossentropy', -1)"
      ],
      "metadata": {
        "colab": {
          "base_uri": "https://localhost:8080/"
        },
        "id": "2JbMEAy1Sz7E",
        "outputId": "8026c9c6-8f1b-4f95-99f1-acf821d6a6ad"
      },
      "id": "2JbMEAy1Sz7E",
      "execution_count": 87,
      "outputs": [
        {
          "output_type": "stream",
          "name": "stdout",
          "text": [
            "Epoch 1/100\n",
            "94/94 [==============================] - 2s 4ms/step - loss: 0.6175 - accuracy: 0.6773\n",
            "Epoch 2/100\n",
            "94/94 [==============================] - 0s 3ms/step - loss: 0.5219 - accuracy: 0.7512\n",
            "Epoch 3/100\n",
            "94/94 [==============================] - 0s 4ms/step - loss: 0.4941 - accuracy: 0.7672\n",
            "Epoch 4/100\n",
            "94/94 [==============================] - 0s 3ms/step - loss: 0.4864 - accuracy: 0.7706\n",
            "Epoch 5/100\n",
            "94/94 [==============================] - 0s 4ms/step - loss: 0.4788 - accuracy: 0.7719\n",
            "Epoch 6/100\n",
            "94/94 [==============================] - 0s 3ms/step - loss: 0.4757 - accuracy: 0.7749\n",
            "Epoch 7/100\n",
            "94/94 [==============================] - 0s 3ms/step - loss: 0.4738 - accuracy: 0.7736\n",
            "Epoch 8/100\n",
            "94/94 [==============================] - 0s 4ms/step - loss: 0.4731 - accuracy: 0.7716\n",
            "Epoch 9/100\n",
            "94/94 [==============================] - 0s 3ms/step - loss: 0.4681 - accuracy: 0.7742\n",
            "Epoch 10/100\n",
            "94/94 [==============================] - 0s 3ms/step - loss: 0.4682 - accuracy: 0.7793\n",
            "Epoch 11/100\n",
            "94/94 [==============================] - 1s 5ms/step - loss: 0.4662 - accuracy: 0.7753\n",
            "Epoch 12/100\n",
            "94/94 [==============================] - 0s 5ms/step - loss: 0.4654 - accuracy: 0.7769\n",
            "Epoch 13/100\n",
            "94/94 [==============================] - 0s 5ms/step - loss: 0.4633 - accuracy: 0.7779\n",
            "Epoch 14/100\n",
            "94/94 [==============================] - 0s 5ms/step - loss: 0.4639 - accuracy: 0.7736\n",
            "Epoch 15/100\n",
            "94/94 [==============================] - 0s 5ms/step - loss: 0.4610 - accuracy: 0.7732\n",
            "Epoch 16/100\n",
            "94/94 [==============================] - 0s 4ms/step - loss: 0.4614 - accuracy: 0.7796\n",
            "Epoch 17/100\n",
            "94/94 [==============================] - 0s 3ms/step - loss: 0.4587 - accuracy: 0.7756\n",
            "Epoch 18/100\n",
            "94/94 [==============================] - 0s 3ms/step - loss: 0.4592 - accuracy: 0.7793\n",
            "Epoch 19/100\n",
            "94/94 [==============================] - 0s 3ms/step - loss: 0.4578 - accuracy: 0.7773\n",
            "Epoch 20/100\n",
            "94/94 [==============================] - 0s 3ms/step - loss: 0.4569 - accuracy: 0.7799\n",
            "Epoch 21/100\n",
            "94/94 [==============================] - 0s 4ms/step - loss: 0.4568 - accuracy: 0.7773\n",
            "Epoch 22/100\n",
            "94/94 [==============================] - 0s 4ms/step - loss: 0.4555 - accuracy: 0.7793\n",
            "Epoch 23/100\n",
            "94/94 [==============================] - 0s 3ms/step - loss: 0.4546 - accuracy: 0.7846\n",
            "Epoch 24/100\n",
            "94/94 [==============================] - 0s 4ms/step - loss: 0.4538 - accuracy: 0.7816\n",
            "Epoch 25/100\n",
            "94/94 [==============================] - 0s 4ms/step - loss: 0.4536 - accuracy: 0.7856\n",
            "Epoch 26/100\n",
            "94/94 [==============================] - 0s 4ms/step - loss: 0.4507 - accuracy: 0.7839\n",
            "Epoch 27/100\n",
            "94/94 [==============================] - 0s 4ms/step - loss: 0.4504 - accuracy: 0.7860\n",
            "Epoch 28/100\n",
            "94/94 [==============================] - 0s 4ms/step - loss: 0.4504 - accuracy: 0.7853\n",
            "Epoch 29/100\n",
            "94/94 [==============================] - 0s 3ms/step - loss: 0.4495 - accuracy: 0.7856\n",
            "Epoch 30/100\n",
            "94/94 [==============================] - 0s 4ms/step - loss: 0.4473 - accuracy: 0.7836\n",
            "Epoch 31/100\n",
            "94/94 [==============================] - 0s 3ms/step - loss: 0.4487 - accuracy: 0.7873\n",
            "Epoch 32/100\n",
            "94/94 [==============================] - 0s 4ms/step - loss: 0.4474 - accuracy: 0.7853\n",
            "Epoch 33/100\n",
            "94/94 [==============================] - 0s 4ms/step - loss: 0.4456 - accuracy: 0.7863\n",
            "Epoch 34/100\n",
            "94/94 [==============================] - 0s 3ms/step - loss: 0.4442 - accuracy: 0.7890\n",
            "Epoch 35/100\n",
            "94/94 [==============================] - 0s 3ms/step - loss: 0.4442 - accuracy: 0.7870\n",
            "Epoch 36/100\n",
            "94/94 [==============================] - 0s 4ms/step - loss: 0.4441 - accuracy: 0.7923\n",
            "Epoch 37/100\n",
            "94/94 [==============================] - 0s 4ms/step - loss: 0.4427 - accuracy: 0.7910\n",
            "Epoch 38/100\n",
            "94/94 [==============================] - 0s 4ms/step - loss: 0.4410 - accuracy: 0.7933\n",
            "Epoch 39/100\n",
            "94/94 [==============================] - 0s 3ms/step - loss: 0.4397 - accuracy: 0.7940\n",
            "Epoch 40/100\n",
            "94/94 [==============================] - 0s 4ms/step - loss: 0.4399 - accuracy: 0.7930\n",
            "Epoch 41/100\n",
            "94/94 [==============================] - 0s 4ms/step - loss: 0.4401 - accuracy: 0.7913\n",
            "Epoch 42/100\n",
            "94/94 [==============================] - 0s 4ms/step - loss: 0.4399 - accuracy: 0.7890\n",
            "Epoch 43/100\n",
            "94/94 [==============================] - 0s 4ms/step - loss: 0.4387 - accuracy: 0.7920\n",
            "Epoch 44/100\n",
            "94/94 [==============================] - 0s 4ms/step - loss: 0.4387 - accuracy: 0.7923\n",
            "Epoch 45/100\n",
            "94/94 [==============================] - 0s 4ms/step - loss: 0.4377 - accuracy: 0.7923\n",
            "Epoch 46/100\n",
            "94/94 [==============================] - 0s 5ms/step - loss: 0.4358 - accuracy: 0.7957\n",
            "Epoch 47/100\n",
            "94/94 [==============================] - 0s 5ms/step - loss: 0.4358 - accuracy: 0.7960\n",
            "Epoch 48/100\n",
            "94/94 [==============================] - 0s 5ms/step - loss: 0.4365 - accuracy: 0.7940\n",
            "Epoch 49/100\n",
            "94/94 [==============================] - 0s 5ms/step - loss: 0.4362 - accuracy: 0.7990\n",
            "Epoch 50/100\n",
            "94/94 [==============================] - 0s 5ms/step - loss: 0.4333 - accuracy: 0.7953\n",
            "Epoch 51/100\n",
            "94/94 [==============================] - 0s 4ms/step - loss: 0.4342 - accuracy: 0.7950\n",
            "Epoch 52/100\n",
            "94/94 [==============================] - 0s 4ms/step - loss: 0.4323 - accuracy: 0.7987\n",
            "Epoch 53/100\n",
            "94/94 [==============================] - 0s 4ms/step - loss: 0.4332 - accuracy: 0.7977\n",
            "Epoch 54/100\n",
            "94/94 [==============================] - 0s 3ms/step - loss: 0.4319 - accuracy: 0.7957\n",
            "Epoch 55/100\n",
            "94/94 [==============================] - 0s 4ms/step - loss: 0.4321 - accuracy: 0.7967\n",
            "Epoch 56/100\n",
            "94/94 [==============================] - 0s 4ms/step - loss: 0.4302 - accuracy: 0.7960\n",
            "Epoch 57/100\n",
            "94/94 [==============================] - 0s 4ms/step - loss: 0.4286 - accuracy: 0.7980\n",
            "Epoch 58/100\n",
            "94/94 [==============================] - 0s 4ms/step - loss: 0.4291 - accuracy: 0.7997\n",
            "Epoch 59/100\n",
            "94/94 [==============================] - 0s 4ms/step - loss: 0.4281 - accuracy: 0.8003\n",
            "Epoch 60/100\n",
            "94/94 [==============================] - 0s 4ms/step - loss: 0.4291 - accuracy: 0.7960\n",
            "Epoch 61/100\n",
            "94/94 [==============================] - 0s 3ms/step - loss: 0.4281 - accuracy: 0.8037\n",
            "Epoch 62/100\n",
            "94/94 [==============================] - 0s 3ms/step - loss: 0.4267 - accuracy: 0.8013\n",
            "Epoch 63/100\n",
            "94/94 [==============================] - 0s 4ms/step - loss: 0.4272 - accuracy: 0.8000\n",
            "Epoch 64/100\n",
            "94/94 [==============================] - 0s 3ms/step - loss: 0.4262 - accuracy: 0.8027\n",
            "Epoch 65/100\n",
            "94/94 [==============================] - 0s 3ms/step - loss: 0.4253 - accuracy: 0.8003\n",
            "Epoch 66/100\n",
            "94/94 [==============================] - 0s 4ms/step - loss: 0.4250 - accuracy: 0.8000\n",
            "Epoch 67/100\n",
            "94/94 [==============================] - 0s 4ms/step - loss: 0.4244 - accuracy: 0.8003\n",
            "Epoch 68/100\n",
            "94/94 [==============================] - 0s 4ms/step - loss: 0.4234 - accuracy: 0.8037\n",
            "Epoch 69/100\n",
            "94/94 [==============================] - 0s 4ms/step - loss: 0.4265 - accuracy: 0.7963\n",
            "Epoch 70/100\n",
            "94/94 [==============================] - 0s 3ms/step - loss: 0.4219 - accuracy: 0.8027\n",
            "Epoch 71/100\n",
            "94/94 [==============================] - 0s 4ms/step - loss: 0.4239 - accuracy: 0.8043\n",
            "Epoch 72/100\n",
            "94/94 [==============================] - 0s 4ms/step - loss: 0.4209 - accuracy: 0.8017\n",
            "Epoch 73/100\n",
            "94/94 [==============================] - 0s 4ms/step - loss: 0.4241 - accuracy: 0.8043\n",
            "Epoch 74/100\n",
            "94/94 [==============================] - 0s 4ms/step - loss: 0.4203 - accuracy: 0.8017\n",
            "Epoch 75/100\n",
            "94/94 [==============================] - 0s 4ms/step - loss: 0.4202 - accuracy: 0.8050\n",
            "Epoch 76/100\n",
            "94/94 [==============================] - 0s 4ms/step - loss: 0.4191 - accuracy: 0.8027\n",
            "Epoch 77/100\n",
            "94/94 [==============================] - 0s 4ms/step - loss: 0.4193 - accuracy: 0.8054\n",
            "Epoch 78/100\n",
            "94/94 [==============================] - 0s 4ms/step - loss: 0.4223 - accuracy: 0.8003\n",
            "Epoch 79/100\n",
            "94/94 [==============================] - 0s 4ms/step - loss: 0.4186 - accuracy: 0.8017\n",
            "Epoch 80/100\n",
            "94/94 [==============================] - 0s 5ms/step - loss: 0.4201 - accuracy: 0.8043\n",
            "Epoch 81/100\n",
            "94/94 [==============================] - 0s 5ms/step - loss: 0.4152 - accuracy: 0.8080\n",
            "Epoch 82/100\n",
            "94/94 [==============================] - 0s 5ms/step - loss: 0.4159 - accuracy: 0.8114\n",
            "Epoch 83/100\n",
            "94/94 [==============================] - 0s 5ms/step - loss: 0.4174 - accuracy: 0.8067\n",
            "Epoch 84/100\n",
            "94/94 [==============================] - 0s 5ms/step - loss: 0.4148 - accuracy: 0.8080\n",
            "Epoch 85/100\n",
            "94/94 [==============================] - 0s 5ms/step - loss: 0.4140 - accuracy: 0.8100\n",
            "Epoch 86/100\n",
            "94/94 [==============================] - 0s 3ms/step - loss: 0.4151 - accuracy: 0.8104\n",
            "Epoch 87/100\n",
            "94/94 [==============================] - 0s 4ms/step - loss: 0.4136 - accuracy: 0.8084\n",
            "Epoch 88/100\n",
            "94/94 [==============================] - 0s 4ms/step - loss: 0.4134 - accuracy: 0.8080\n",
            "Epoch 89/100\n",
            "94/94 [==============================] - 0s 4ms/step - loss: 0.4122 - accuracy: 0.8127\n",
            "Epoch 90/100\n",
            "94/94 [==============================] - 0s 4ms/step - loss: 0.4110 - accuracy: 0.8107\n",
            "Epoch 91/100\n",
            "94/94 [==============================] - 0s 4ms/step - loss: 0.4121 - accuracy: 0.8114\n",
            "Epoch 92/100\n",
            "94/94 [==============================] - 0s 4ms/step - loss: 0.4110 - accuracy: 0.8054\n",
            "Epoch 93/100\n",
            "94/94 [==============================] - 0s 4ms/step - loss: 0.4111 - accuracy: 0.8067\n",
            "Epoch 94/100\n",
            "94/94 [==============================] - 0s 4ms/step - loss: 0.4115 - accuracy: 0.8134\n",
            "Epoch 95/100\n",
            "94/94 [==============================] - 0s 4ms/step - loss: 0.4100 - accuracy: 0.8100\n",
            "Epoch 96/100\n",
            "94/94 [==============================] - 0s 4ms/step - loss: 0.4094 - accuracy: 0.8110\n",
            "Epoch 97/100\n",
            "94/94 [==============================] - 0s 4ms/step - loss: 0.4078 - accuracy: 0.8151\n",
            "Epoch 98/100\n",
            "94/94 [==============================] - 0s 4ms/step - loss: 0.4067 - accuracy: 0.8151\n",
            "Epoch 99/100\n",
            "94/94 [==============================] - 0s 3ms/step - loss: 0.4084 - accuracy: 0.8077\n",
            "Epoch 100/100\n",
            "94/94 [==============================] - 0s 4ms/step - loss: 0.4080 - accuracy: 0.8094\n",
            "44/44 [==============================] - 0s 3ms/step - loss: 0.5448 - accuracy: 0.7257\n",
            "[0.5448015332221985, 0.7256574034690857]\n",
            "44/44 [==============================] - 0s 2ms/step\n",
            "Classification report:\n",
            "               precision    recall  f1-score   support\n",
            "\n",
            "           0       0.89      0.72      0.79      1033\n",
            "           1       0.49      0.75      0.59       374\n",
            "\n",
            "    accuracy                           0.73      1407\n",
            "   macro avg       0.69      0.73      0.69      1407\n",
            "weighted avg       0.78      0.73      0.74      1407\n",
            "\n"
          ]
        }
      ]
    },
    {
      "cell_type": "code",
      "source": [
        "X_train, y_train = get_train_batch(df3_class0, df3_class1, 1495, 2990)\n",
        "\n",
        "y_pred2 = ANN(X_train, y_train, X_test, y_test, 'binary_crossentropy', -1)"
      ],
      "metadata": {
        "colab": {
          "base_uri": "https://localhost:8080/"
        },
        "id": "EfMvOecdTTTm",
        "outputId": "a59803a1-ccf7-4797-94ff-ef77a4dd0578"
      },
      "id": "EfMvOecdTTTm",
      "execution_count": 88,
      "outputs": [
        {
          "output_type": "stream",
          "name": "stdout",
          "text": [
            "Epoch 1/100\n",
            "94/94 [==============================] - 2s 3ms/step - loss: 0.6466 - accuracy: 0.6124\n",
            "Epoch 2/100\n",
            "94/94 [==============================] - 0s 4ms/step - loss: 0.5113 - accuracy: 0.7622\n",
            "Epoch 3/100\n",
            "94/94 [==============================] - 0s 4ms/step - loss: 0.4879 - accuracy: 0.7716\n",
            "Epoch 4/100\n",
            "94/94 [==============================] - 0s 3ms/step - loss: 0.4826 - accuracy: 0.7739\n",
            "Epoch 5/100\n",
            "94/94 [==============================] - 0s 4ms/step - loss: 0.4791 - accuracy: 0.7726\n",
            "Epoch 6/100\n",
            "94/94 [==============================] - 0s 4ms/step - loss: 0.4760 - accuracy: 0.7726\n",
            "Epoch 7/100\n",
            "94/94 [==============================] - 0s 3ms/step - loss: 0.4748 - accuracy: 0.7716\n",
            "Epoch 8/100\n",
            "94/94 [==============================] - 0s 3ms/step - loss: 0.4741 - accuracy: 0.7672\n",
            "Epoch 9/100\n",
            "94/94 [==============================] - 0s 4ms/step - loss: 0.4695 - accuracy: 0.7726\n",
            "Epoch 10/100\n",
            "94/94 [==============================] - 0s 4ms/step - loss: 0.4700 - accuracy: 0.7799\n",
            "Epoch 11/100\n",
            "94/94 [==============================] - 0s 4ms/step - loss: 0.4674 - accuracy: 0.7729\n",
            "Epoch 12/100\n",
            "94/94 [==============================] - 0s 3ms/step - loss: 0.4660 - accuracy: 0.7746\n",
            "Epoch 13/100\n",
            "94/94 [==============================] - 0s 3ms/step - loss: 0.4647 - accuracy: 0.7756\n",
            "Epoch 14/100\n",
            "94/94 [==============================] - 0s 3ms/step - loss: 0.4653 - accuracy: 0.7789\n",
            "Epoch 15/100\n",
            "94/94 [==============================] - 0s 3ms/step - loss: 0.4633 - accuracy: 0.7799\n",
            "Epoch 16/100\n",
            "94/94 [==============================] - 0s 3ms/step - loss: 0.4609 - accuracy: 0.7789\n",
            "Epoch 17/100\n",
            "94/94 [==============================] - 0s 4ms/step - loss: 0.4603 - accuracy: 0.7799\n",
            "Epoch 18/100\n",
            "94/94 [==============================] - 0s 5ms/step - loss: 0.4599 - accuracy: 0.7813\n",
            "Epoch 19/100\n",
            "94/94 [==============================] - 0s 5ms/step - loss: 0.4582 - accuracy: 0.7839\n",
            "Epoch 20/100\n",
            "94/94 [==============================] - 0s 5ms/step - loss: 0.4573 - accuracy: 0.7793\n",
            "Epoch 21/100\n",
            "94/94 [==============================] - 0s 5ms/step - loss: 0.4560 - accuracy: 0.7819\n",
            "Epoch 22/100\n",
            "94/94 [==============================] - 0s 5ms/step - loss: 0.4556 - accuracy: 0.7839\n",
            "Epoch 23/100\n",
            "94/94 [==============================] - 0s 4ms/step - loss: 0.4543 - accuracy: 0.7886\n",
            "Epoch 24/100\n",
            "94/94 [==============================] - 0s 3ms/step - loss: 0.4543 - accuracy: 0.7846\n",
            "Epoch 25/100\n",
            "94/94 [==============================] - 0s 3ms/step - loss: 0.4538 - accuracy: 0.7833\n",
            "Epoch 26/100\n",
            "94/94 [==============================] - 0s 4ms/step - loss: 0.4512 - accuracy: 0.7856\n",
            "Epoch 27/100\n",
            "94/94 [==============================] - 0s 3ms/step - loss: 0.4509 - accuracy: 0.7870\n",
            "Epoch 28/100\n",
            "94/94 [==============================] - 0s 3ms/step - loss: 0.4495 - accuracy: 0.7893\n",
            "Epoch 29/100\n",
            "94/94 [==============================] - 0s 4ms/step - loss: 0.4480 - accuracy: 0.7903\n",
            "Epoch 30/100\n",
            "94/94 [==============================] - 0s 3ms/step - loss: 0.4481 - accuracy: 0.7910\n",
            "Epoch 31/100\n",
            "94/94 [==============================] - 0s 4ms/step - loss: 0.4471 - accuracy: 0.7910\n",
            "Epoch 32/100\n",
            "94/94 [==============================] - 0s 4ms/step - loss: 0.4466 - accuracy: 0.7890\n",
            "Epoch 33/100\n",
            "94/94 [==============================] - 0s 3ms/step - loss: 0.4450 - accuracy: 0.7873\n",
            "Epoch 34/100\n",
            "94/94 [==============================] - 0s 4ms/step - loss: 0.4452 - accuracy: 0.7833\n",
            "Epoch 35/100\n",
            "94/94 [==============================] - 0s 4ms/step - loss: 0.4434 - accuracy: 0.7866\n",
            "Epoch 36/100\n",
            "94/94 [==============================] - 0s 3ms/step - loss: 0.4423 - accuracy: 0.7870\n",
            "Epoch 37/100\n",
            "94/94 [==============================] - 0s 4ms/step - loss: 0.4420 - accuracy: 0.7903\n",
            "Epoch 38/100\n",
            "94/94 [==============================] - 0s 4ms/step - loss: 0.4409 - accuracy: 0.7906\n",
            "Epoch 39/100\n",
            "94/94 [==============================] - 0s 4ms/step - loss: 0.4412 - accuracy: 0.7853\n",
            "Epoch 40/100\n",
            "94/94 [==============================] - 0s 3ms/step - loss: 0.4398 - accuracy: 0.7900\n",
            "Epoch 41/100\n",
            "94/94 [==============================] - 0s 4ms/step - loss: 0.4384 - accuracy: 0.7906\n",
            "Epoch 42/100\n",
            "94/94 [==============================] - 0s 4ms/step - loss: 0.4369 - accuracy: 0.7896\n",
            "Epoch 43/100\n",
            "94/94 [==============================] - 0s 3ms/step - loss: 0.4366 - accuracy: 0.7890\n",
            "Epoch 44/100\n",
            "94/94 [==============================] - 0s 4ms/step - loss: 0.4354 - accuracy: 0.7933\n",
            "Epoch 45/100\n",
            "94/94 [==============================] - 0s 4ms/step - loss: 0.4354 - accuracy: 0.7943\n",
            "Epoch 46/100\n",
            "94/94 [==============================] - 0s 5ms/step - loss: 0.4345 - accuracy: 0.7903\n",
            "Epoch 47/100\n",
            "94/94 [==============================] - 1s 7ms/step - loss: 0.4328 - accuracy: 0.7933\n",
            "Epoch 48/100\n",
            "94/94 [==============================] - 1s 6ms/step - loss: 0.4338 - accuracy: 0.7943\n",
            "Epoch 49/100\n",
            "94/94 [==============================] - 1s 7ms/step - loss: 0.4309 - accuracy: 0.7987\n",
            "Epoch 50/100\n",
            "94/94 [==============================] - 1s 11ms/step - loss: 0.4305 - accuracy: 0.7963\n",
            "Epoch 51/100\n",
            "94/94 [==============================] - 1s 5ms/step - loss: 0.4297 - accuracy: 0.7963\n",
            "Epoch 52/100\n",
            "94/94 [==============================] - 0s 5ms/step - loss: 0.4284 - accuracy: 0.7963\n",
            "Epoch 53/100\n",
            "94/94 [==============================] - 0s 5ms/step - loss: 0.4280 - accuracy: 0.7987\n",
            "Epoch 54/100\n",
            "94/94 [==============================] - 1s 6ms/step - loss: 0.4279 - accuracy: 0.7970\n",
            "Epoch 55/100\n",
            "94/94 [==============================] - 0s 5ms/step - loss: 0.4253 - accuracy: 0.8003\n",
            "Epoch 56/100\n",
            "94/94 [==============================] - 1s 6ms/step - loss: 0.4256 - accuracy: 0.7987\n",
            "Epoch 57/100\n",
            "94/94 [==============================] - 0s 4ms/step - loss: 0.4261 - accuracy: 0.7957\n",
            "Epoch 58/100\n",
            "94/94 [==============================] - 0s 5ms/step - loss: 0.4224 - accuracy: 0.8010\n",
            "Epoch 59/100\n",
            "94/94 [==============================] - 1s 7ms/step - loss: 0.4221 - accuracy: 0.8040\n",
            "Epoch 60/100\n",
            "94/94 [==============================] - 0s 5ms/step - loss: 0.4225 - accuracy: 0.8027\n",
            "Epoch 61/100\n",
            "94/94 [==============================] - 0s 5ms/step - loss: 0.4213 - accuracy: 0.8054\n",
            "Epoch 62/100\n",
            "94/94 [==============================] - 1s 7ms/step - loss: 0.4210 - accuracy: 0.8054\n",
            "Epoch 63/100\n",
            "94/94 [==============================] - 1s 7ms/step - loss: 0.4201 - accuracy: 0.8023\n",
            "Epoch 64/100\n",
            "94/94 [==============================] - 1s 6ms/step - loss: 0.4208 - accuracy: 0.8007\n",
            "Epoch 65/100\n",
            "94/94 [==============================] - 0s 5ms/step - loss: 0.4181 - accuracy: 0.8067\n",
            "Epoch 66/100\n",
            "94/94 [==============================] - 0s 4ms/step - loss: 0.4174 - accuracy: 0.8087\n",
            "Epoch 67/100\n",
            "94/94 [==============================] - 1s 6ms/step - loss: 0.4149 - accuracy: 0.8020\n",
            "Epoch 68/100\n",
            "94/94 [==============================] - 0s 5ms/step - loss: 0.4169 - accuracy: 0.8047\n",
            "Epoch 69/100\n",
            "94/94 [==============================] - 0s 4ms/step - loss: 0.4159 - accuracy: 0.8030\n",
            "Epoch 70/100\n",
            "94/94 [==============================] - 1s 6ms/step - loss: 0.4139 - accuracy: 0.8033\n",
            "Epoch 71/100\n",
            "94/94 [==============================] - 1s 8ms/step - loss: 0.4141 - accuracy: 0.8060\n",
            "Epoch 72/100\n",
            "94/94 [==============================] - 1s 7ms/step - loss: 0.4133 - accuracy: 0.8080\n",
            "Epoch 73/100\n",
            "94/94 [==============================] - 1s 7ms/step - loss: 0.4130 - accuracy: 0.8084\n",
            "Epoch 74/100\n",
            "94/94 [==============================] - 1s 8ms/step - loss: 0.4116 - accuracy: 0.8094\n",
            "Epoch 75/100\n",
            "94/94 [==============================] - 1s 8ms/step - loss: 0.4110 - accuracy: 0.8087\n",
            "Epoch 76/100\n",
            "94/94 [==============================] - 1s 10ms/step - loss: 0.4104 - accuracy: 0.8087\n",
            "Epoch 77/100\n",
            "94/94 [==============================] - 1s 9ms/step - loss: 0.4101 - accuracy: 0.8023\n",
            "Epoch 78/100\n",
            "94/94 [==============================] - 1s 7ms/step - loss: 0.4095 - accuracy: 0.8084\n",
            "Epoch 79/100\n",
            "94/94 [==============================] - 1s 7ms/step - loss: 0.4077 - accuracy: 0.8057\n",
            "Epoch 80/100\n",
            "94/94 [==============================] - 1s 7ms/step - loss: 0.4075 - accuracy: 0.8114\n",
            "Epoch 81/100\n",
            "94/94 [==============================] - 1s 7ms/step - loss: 0.4079 - accuracy: 0.8090\n",
            "Epoch 82/100\n",
            "94/94 [==============================] - 0s 4ms/step - loss: 0.4068 - accuracy: 0.8104\n",
            "Epoch 83/100\n",
            "94/94 [==============================] - 1s 6ms/step - loss: 0.4072 - accuracy: 0.8077\n",
            "Epoch 84/100\n",
            "94/94 [==============================] - 0s 5ms/step - loss: 0.4048 - accuracy: 0.8114\n",
            "Epoch 85/100\n",
            "94/94 [==============================] - 1s 6ms/step - loss: 0.4058 - accuracy: 0.8084\n",
            "Epoch 86/100\n",
            "94/94 [==============================] - 1s 6ms/step - loss: 0.4048 - accuracy: 0.8114\n",
            "Epoch 87/100\n",
            "94/94 [==============================] - 1s 7ms/step - loss: 0.4045 - accuracy: 0.8094\n",
            "Epoch 88/100\n",
            "94/94 [==============================] - 1s 7ms/step - loss: 0.4028 - accuracy: 0.8110\n",
            "Epoch 89/100\n",
            "94/94 [==============================] - 0s 5ms/step - loss: 0.4011 - accuracy: 0.8154\n",
            "Epoch 90/100\n",
            "94/94 [==============================] - 0s 4ms/step - loss: 0.4026 - accuracy: 0.8074\n",
            "Epoch 91/100\n",
            "94/94 [==============================] - 0s 3ms/step - loss: 0.4009 - accuracy: 0.8144\n",
            "Epoch 92/100\n",
            "94/94 [==============================] - 0s 4ms/step - loss: 0.4007 - accuracy: 0.8134\n",
            "Epoch 93/100\n",
            "94/94 [==============================] - 0s 4ms/step - loss: 0.4017 - accuracy: 0.8114\n",
            "Epoch 94/100\n",
            "94/94 [==============================] - 0s 5ms/step - loss: 0.3980 - accuracy: 0.8097\n",
            "Epoch 95/100\n",
            "94/94 [==============================] - 0s 5ms/step - loss: 0.4005 - accuracy: 0.8127\n",
            "Epoch 96/100\n",
            "94/94 [==============================] - 1s 7ms/step - loss: 0.3980 - accuracy: 0.8107\n",
            "Epoch 97/100\n",
            "94/94 [==============================] - 1s 8ms/step - loss: 0.3976 - accuracy: 0.8114\n",
            "Epoch 98/100\n",
            "94/94 [==============================] - 1s 7ms/step - loss: 0.3962 - accuracy: 0.8120\n",
            "Epoch 99/100\n",
            "94/94 [==============================] - 1s 7ms/step - loss: 0.3957 - accuracy: 0.8151\n",
            "Epoch 100/100\n",
            "94/94 [==============================] - 1s 6ms/step - loss: 0.3985 - accuracy: 0.8100\n",
            "44/44 [==============================] - 0s 3ms/step - loss: 0.5442 - accuracy: 0.7328\n",
            "[0.5441557168960571, 0.732764720916748]\n",
            "44/44 [==============================] - 0s 2ms/step\n",
            "Classification report:\n",
            "               precision    recall  f1-score   support\n",
            "\n",
            "           0       0.88      0.74      0.80      1033\n",
            "           1       0.50      0.72      0.59       374\n",
            "\n",
            "    accuracy                           0.73      1407\n",
            "   macro avg       0.69      0.73      0.70      1407\n",
            "weighted avg       0.78      0.73      0.75      1407\n",
            "\n"
          ]
        }
      ]
    },
    {
      "cell_type": "code",
      "source": [
        "X_train, y_train = get_train_batch(df3_class0, df3_class1, 2990, 4130)\n",
        "\n",
        "y_pred3 = ANN(X_train, y_train, X_test, y_test, 'binary_crossentropy', -1)"
      ],
      "metadata": {
        "colab": {
          "base_uri": "https://localhost:8080/"
        },
        "id": "E5HcCMbKT510",
        "outputId": "d2b360aa-17ca-4152-dee7-2f11fca97595"
      },
      "id": "E5HcCMbKT510",
      "execution_count": 89,
      "outputs": [
        {
          "output_type": "stream",
          "name": "stdout",
          "text": [
            "Epoch 1/100\n",
            "94/94 [==============================] - 1s 3ms/step - loss: 0.6311 - accuracy: 0.6448\n",
            "Epoch 2/100\n",
            "94/94 [==============================] - 0s 4ms/step - loss: 0.5176 - accuracy: 0.7438\n",
            "Epoch 3/100\n",
            "94/94 [==============================] - 0s 3ms/step - loss: 0.4975 - accuracy: 0.7555\n",
            "Epoch 4/100\n",
            "94/94 [==============================] - 0s 3ms/step - loss: 0.4897 - accuracy: 0.7629\n",
            "Epoch 5/100\n",
            "94/94 [==============================] - 0s 5ms/step - loss: 0.4862 - accuracy: 0.7592\n",
            "Epoch 6/100\n",
            "94/94 [==============================] - 0s 5ms/step - loss: 0.4835 - accuracy: 0.7652\n",
            "Epoch 7/100\n",
            "94/94 [==============================] - 0s 5ms/step - loss: 0.4795 - accuracy: 0.7635\n",
            "Epoch 8/100\n",
            "94/94 [==============================] - 1s 5ms/step - loss: 0.4771 - accuracy: 0.7682\n",
            "Epoch 9/100\n",
            "94/94 [==============================] - 0s 5ms/step - loss: 0.4748 - accuracy: 0.7719\n",
            "Epoch 10/100\n",
            "94/94 [==============================] - 0s 4ms/step - loss: 0.4732 - accuracy: 0.7702\n",
            "Epoch 11/100\n",
            "94/94 [==============================] - 0s 3ms/step - loss: 0.4720 - accuracy: 0.7686\n",
            "Epoch 12/100\n",
            "94/94 [==============================] - 0s 3ms/step - loss: 0.4705 - accuracy: 0.7726\n",
            "Epoch 13/100\n",
            "94/94 [==============================] - 0s 4ms/step - loss: 0.4688 - accuracy: 0.7769\n",
            "Epoch 14/100\n",
            "94/94 [==============================] - 0s 3ms/step - loss: 0.4670 - accuracy: 0.7742\n",
            "Epoch 15/100\n",
            "94/94 [==============================] - 0s 3ms/step - loss: 0.4677 - accuracy: 0.7766\n",
            "Epoch 16/100\n",
            "94/94 [==============================] - 0s 3ms/step - loss: 0.4682 - accuracy: 0.7726\n",
            "Epoch 17/100\n",
            "94/94 [==============================] - 0s 3ms/step - loss: 0.4639 - accuracy: 0.7779\n",
            "Epoch 18/100\n",
            "94/94 [==============================] - 0s 3ms/step - loss: 0.4636 - accuracy: 0.7753\n",
            "Epoch 19/100\n",
            "94/94 [==============================] - 0s 3ms/step - loss: 0.4628 - accuracy: 0.7799\n",
            "Epoch 20/100\n",
            "94/94 [==============================] - 0s 3ms/step - loss: 0.4611 - accuracy: 0.7789\n",
            "Epoch 21/100\n",
            "94/94 [==============================] - 0s 3ms/step - loss: 0.4603 - accuracy: 0.7783\n",
            "Epoch 22/100\n",
            "94/94 [==============================] - 0s 3ms/step - loss: 0.4595 - accuracy: 0.7813\n",
            "Epoch 23/100\n",
            "94/94 [==============================] - 0s 3ms/step - loss: 0.4581 - accuracy: 0.7786\n",
            "Epoch 24/100\n",
            "94/94 [==============================] - 0s 3ms/step - loss: 0.4569 - accuracy: 0.7843\n",
            "Epoch 25/100\n",
            "94/94 [==============================] - 0s 4ms/step - loss: 0.4556 - accuracy: 0.7836\n",
            "Epoch 26/100\n",
            "94/94 [==============================] - 0s 3ms/step - loss: 0.4547 - accuracy: 0.7863\n",
            "Epoch 27/100\n",
            "94/94 [==============================] - 0s 3ms/step - loss: 0.4554 - accuracy: 0.7809\n",
            "Epoch 28/100\n",
            "94/94 [==============================] - 0s 3ms/step - loss: 0.4534 - accuracy: 0.7849\n",
            "Epoch 29/100\n",
            "94/94 [==============================] - 0s 3ms/step - loss: 0.4523 - accuracy: 0.7870\n",
            "Epoch 30/100\n",
            "94/94 [==============================] - 0s 3ms/step - loss: 0.4512 - accuracy: 0.7860\n",
            "Epoch 31/100\n",
            "94/94 [==============================] - 0s 4ms/step - loss: 0.4496 - accuracy: 0.7873\n",
            "Epoch 32/100\n",
            "94/94 [==============================] - 0s 3ms/step - loss: 0.4505 - accuracy: 0.7866\n",
            "Epoch 33/100\n",
            "94/94 [==============================] - 0s 3ms/step - loss: 0.4475 - accuracy: 0.7920\n",
            "Epoch 34/100\n",
            "94/94 [==============================] - 0s 4ms/step - loss: 0.4472 - accuracy: 0.7883\n",
            "Epoch 35/100\n",
            "94/94 [==============================] - 0s 3ms/step - loss: 0.4467 - accuracy: 0.7906\n",
            "Epoch 36/100\n",
            "94/94 [==============================] - 0s 3ms/step - loss: 0.4447 - accuracy: 0.7913\n",
            "Epoch 37/100\n",
            "94/94 [==============================] - 0s 4ms/step - loss: 0.4442 - accuracy: 0.7890\n",
            "Epoch 38/100\n",
            "94/94 [==============================] - 0s 4ms/step - loss: 0.4428 - accuracy: 0.7910\n",
            "Epoch 39/100\n",
            "94/94 [==============================] - 0s 4ms/step - loss: 0.4426 - accuracy: 0.7896\n",
            "Epoch 40/100\n",
            "94/94 [==============================] - 0s 4ms/step - loss: 0.4423 - accuracy: 0.7950\n",
            "Epoch 41/100\n",
            "94/94 [==============================] - 0s 5ms/step - loss: 0.4426 - accuracy: 0.7883\n",
            "Epoch 42/100\n",
            "94/94 [==============================] - 0s 5ms/step - loss: 0.4402 - accuracy: 0.7950\n",
            "Epoch 43/100\n",
            "94/94 [==============================] - 0s 5ms/step - loss: 0.4391 - accuracy: 0.7920\n",
            "Epoch 44/100\n",
            "94/94 [==============================] - 0s 5ms/step - loss: 0.4378 - accuracy: 0.7933\n",
            "Epoch 45/100\n",
            "94/94 [==============================] - 0s 5ms/step - loss: 0.4374 - accuracy: 0.7900\n",
            "Epoch 46/100\n",
            "94/94 [==============================] - 0s 4ms/step - loss: 0.4369 - accuracy: 0.7943\n",
            "Epoch 47/100\n",
            "94/94 [==============================] - 0s 3ms/step - loss: 0.4358 - accuracy: 0.7967\n",
            "Epoch 48/100\n",
            "94/94 [==============================] - 0s 3ms/step - loss: 0.4337 - accuracy: 0.7980\n",
            "Epoch 49/100\n",
            "94/94 [==============================] - 0s 4ms/step - loss: 0.4335 - accuracy: 0.7960\n",
            "Epoch 50/100\n",
            "94/94 [==============================] - 0s 3ms/step - loss: 0.4339 - accuracy: 0.7973\n",
            "Epoch 51/100\n",
            "94/94 [==============================] - 0s 4ms/step - loss: 0.4330 - accuracy: 0.7977\n",
            "Epoch 52/100\n",
            "94/94 [==============================] - 0s 3ms/step - loss: 0.4321 - accuracy: 0.7980\n",
            "Epoch 53/100\n",
            "94/94 [==============================] - 0s 4ms/step - loss: 0.4312 - accuracy: 0.7987\n",
            "Epoch 54/100\n",
            "94/94 [==============================] - 0s 3ms/step - loss: 0.4295 - accuracy: 0.7957\n",
            "Epoch 55/100\n",
            "94/94 [==============================] - 0s 4ms/step - loss: 0.4302 - accuracy: 0.7933\n",
            "Epoch 56/100\n",
            "94/94 [==============================] - 0s 3ms/step - loss: 0.4280 - accuracy: 0.7970\n",
            "Epoch 57/100\n",
            "94/94 [==============================] - 0s 4ms/step - loss: 0.4269 - accuracy: 0.8013\n",
            "Epoch 58/100\n",
            "94/94 [==============================] - 0s 4ms/step - loss: 0.4264 - accuracy: 0.8003\n",
            "Epoch 59/100\n",
            "94/94 [==============================] - 0s 3ms/step - loss: 0.4263 - accuracy: 0.8007\n",
            "Epoch 60/100\n",
            "94/94 [==============================] - 0s 4ms/step - loss: 0.4250 - accuracy: 0.7980\n",
            "Epoch 61/100\n",
            "94/94 [==============================] - 0s 3ms/step - loss: 0.4236 - accuracy: 0.8030\n",
            "Epoch 62/100\n",
            "94/94 [==============================] - 0s 3ms/step - loss: 0.4224 - accuracy: 0.7980\n",
            "Epoch 63/100\n",
            "94/94 [==============================] - 0s 3ms/step - loss: 0.4218 - accuracy: 0.7997\n",
            "Epoch 64/100\n",
            "94/94 [==============================] - 0s 4ms/step - loss: 0.4215 - accuracy: 0.8020\n",
            "Epoch 65/100\n",
            "94/94 [==============================] - 0s 3ms/step - loss: 0.4212 - accuracy: 0.8000\n",
            "Epoch 66/100\n",
            "94/94 [==============================] - 0s 4ms/step - loss: 0.4192 - accuracy: 0.8007\n",
            "Epoch 67/100\n",
            "94/94 [==============================] - 0s 4ms/step - loss: 0.4196 - accuracy: 0.8020\n",
            "Epoch 68/100\n",
            "94/94 [==============================] - 0s 4ms/step - loss: 0.4176 - accuracy: 0.8020\n",
            "Epoch 69/100\n",
            "94/94 [==============================] - 0s 4ms/step - loss: 0.4164 - accuracy: 0.8020\n",
            "Epoch 70/100\n",
            "94/94 [==============================] - 0s 3ms/step - loss: 0.4177 - accuracy: 0.8070\n",
            "Epoch 71/100\n",
            "94/94 [==============================] - 0s 3ms/step - loss: 0.4172 - accuracy: 0.8077\n",
            "Epoch 72/100\n",
            "94/94 [==============================] - 0s 3ms/step - loss: 0.4161 - accuracy: 0.8057\n",
            "Epoch 73/100\n",
            "94/94 [==============================] - 0s 3ms/step - loss: 0.4152 - accuracy: 0.8064\n",
            "Epoch 74/100\n",
            "94/94 [==============================] - 0s 3ms/step - loss: 0.4130 - accuracy: 0.8057\n",
            "Epoch 75/100\n",
            "94/94 [==============================] - 0s 3ms/step - loss: 0.4137 - accuracy: 0.8077\n",
            "Epoch 76/100\n",
            "94/94 [==============================] - 0s 5ms/step - loss: 0.4125 - accuracy: 0.8097\n",
            "Epoch 77/100\n",
            "94/94 [==============================] - 0s 5ms/step - loss: 0.4136 - accuracy: 0.8090\n",
            "Epoch 78/100\n",
            "94/94 [==============================] - 0s 4ms/step - loss: 0.4104 - accuracy: 0.8084\n",
            "Epoch 79/100\n",
            "94/94 [==============================] - 0s 5ms/step - loss: 0.4096 - accuracy: 0.8107\n",
            "Epoch 80/100\n",
            "94/94 [==============================] - 0s 5ms/step - loss: 0.4084 - accuracy: 0.8064\n",
            "Epoch 81/100\n",
            "94/94 [==============================] - 0s 4ms/step - loss: 0.4087 - accuracy: 0.8114\n",
            "Epoch 82/100\n",
            "94/94 [==============================] - 0s 3ms/step - loss: 0.4082 - accuracy: 0.8060\n",
            "Epoch 83/100\n",
            "94/94 [==============================] - 0s 3ms/step - loss: 0.4093 - accuracy: 0.8100\n",
            "Epoch 84/100\n",
            "94/94 [==============================] - 0s 3ms/step - loss: 0.4081 - accuracy: 0.8094\n",
            "Epoch 85/100\n",
            "94/94 [==============================] - 0s 4ms/step - loss: 0.4064 - accuracy: 0.8127\n",
            "Epoch 86/100\n",
            "94/94 [==============================] - 0s 3ms/step - loss: 0.4053 - accuracy: 0.8097\n",
            "Epoch 87/100\n",
            "94/94 [==============================] - 0s 3ms/step - loss: 0.4051 - accuracy: 0.8134\n",
            "Epoch 88/100\n",
            "94/94 [==============================] - 0s 3ms/step - loss: 0.4051 - accuracy: 0.8107\n",
            "Epoch 89/100\n",
            "94/94 [==============================] - 0s 3ms/step - loss: 0.4039 - accuracy: 0.8154\n",
            "Epoch 90/100\n",
            "94/94 [==============================] - 0s 3ms/step - loss: 0.4031 - accuracy: 0.8137\n",
            "Epoch 91/100\n",
            "94/94 [==============================] - 0s 3ms/step - loss: 0.4024 - accuracy: 0.8107\n",
            "Epoch 92/100\n",
            "94/94 [==============================] - 0s 3ms/step - loss: 0.4032 - accuracy: 0.8117\n",
            "Epoch 93/100\n",
            "94/94 [==============================] - 0s 3ms/step - loss: 0.4005 - accuracy: 0.8130\n",
            "Epoch 94/100\n",
            "94/94 [==============================] - 0s 3ms/step - loss: 0.3990 - accuracy: 0.8144\n",
            "Epoch 95/100\n",
            "94/94 [==============================] - 0s 3ms/step - loss: 0.4014 - accuracy: 0.8177\n",
            "Epoch 96/100\n",
            "94/94 [==============================] - 0s 3ms/step - loss: 0.4004 - accuracy: 0.8157\n",
            "Epoch 97/100\n",
            "94/94 [==============================] - 0s 3ms/step - loss: 0.3992 - accuracy: 0.8164\n",
            "Epoch 98/100\n",
            "94/94 [==============================] - 0s 3ms/step - loss: 0.3978 - accuracy: 0.8117\n",
            "Epoch 99/100\n",
            "94/94 [==============================] - 0s 3ms/step - loss: 0.3969 - accuracy: 0.8164\n",
            "Epoch 100/100\n",
            "94/94 [==============================] - 0s 3ms/step - loss: 0.3976 - accuracy: 0.8147\n",
            "44/44 [==============================] - 0s 2ms/step - loss: 0.5742 - accuracy: 0.7114\n",
            "[0.5741797685623169, 0.711442768573761]\n",
            "44/44 [==============================] - 0s 2ms/step\n",
            "Classification report:\n",
            "               precision    recall  f1-score   support\n",
            "\n",
            "           0       0.89      0.69      0.78      1033\n",
            "           1       0.47      0.76      0.58       374\n",
            "\n",
            "    accuracy                           0.71      1407\n",
            "   macro avg       0.68      0.73      0.68      1407\n",
            "weighted avg       0.78      0.71      0.73      1407\n",
            "\n"
          ]
        }
      ]
    },
    {
      "cell_type": "code",
      "source": [
        "vote1=0\n",
        "vote2=0\n",
        "vote3=1\n",
        "\n",
        "vote1+vote2+vote3"
      ],
      "metadata": {
        "colab": {
          "base_uri": "https://localhost:8080/"
        },
        "id": "FZtR5Ya_Uby2",
        "outputId": "afedf85a-60fb-470d-c108-3191f7563a00"
      },
      "id": "FZtR5Ya_Uby2",
      "execution_count": 90,
      "outputs": [
        {
          "output_type": "execute_result",
          "data": {
            "text/plain": [
              "1"
            ]
          },
          "metadata": {},
          "execution_count": 90
        }
      ]
    },
    {
      "cell_type": "code",
      "source": [
        "len(y_pred1),len(y_pred2),len(y_pred3)"
      ],
      "metadata": {
        "colab": {
          "base_uri": "https://localhost:8080/"
        },
        "id": "ywgc9u0gUxrU",
        "outputId": "dd22c8b8-3403-40fb-c68c-d128e0b9c0a8"
      },
      "id": "ywgc9u0gUxrU",
      "execution_count": 91,
      "outputs": [
        {
          "output_type": "execute_result",
          "data": {
            "text/plain": [
              "(1407, 1407, 1407)"
            ]
          },
          "metadata": {},
          "execution_count": 91
        }
      ]
    },
    {
      "cell_type": "code",
      "source": [
        "y_pred_final = y_pred1.copy()\n",
        "\n",
        "for i in range(len(y_pred1)):\n",
        "  n_ones = y_pred1[i] + y_pred2[i] + y_pred3[i]\n",
        "  if n_ones>1:\n",
        "    y_pred_final[i]=1\n",
        "  else:\n",
        "    y_pred_final[i]=0"
      ],
      "metadata": {
        "id": "VUyh-QXGU83G"
      },
      "id": "VUyh-QXGU83G",
      "execution_count": 92,
      "outputs": []
    },
    {
      "cell_type": "code",
      "source": [
        "print(classification_report(y_test, y_pred_final))"
      ],
      "metadata": {
        "colab": {
          "base_uri": "https://localhost:8080/"
        },
        "id": "U_ulfVZaWO2Z",
        "outputId": "03c380ed-6b17-43f5-8803-38cdb67da7c0"
      },
      "id": "U_ulfVZaWO2Z",
      "execution_count": 93,
      "outputs": [
        {
          "output_type": "stream",
          "name": "stdout",
          "text": [
            "              precision    recall  f1-score   support\n",
            "\n",
            "           0       0.89      0.72      0.80      1033\n",
            "           1       0.49      0.75      0.59       374\n",
            "\n",
            "    accuracy                           0.73      1407\n",
            "   macro avg       0.69      0.73      0.69      1407\n",
            "weighted avg       0.78      0.73      0.74      1407\n",
            "\n"
          ]
        }
      ]
    },
    {
      "cell_type": "code",
      "source": [],
      "metadata": {
        "id": "1JZUWJQZWWRj"
      },
      "id": "1JZUWJQZWWRj",
      "execution_count": null,
      "outputs": []
    },
    {
      "cell_type": "markdown",
      "source": [
        "# **SMOTE** model worked the best"
      ],
      "metadata": {
        "id": "opTEfsceW0_4"
      },
      "id": "opTEfsceW0_4"
    }
  ],
  "metadata": {
    "kernelspec": {
      "display_name": "Python 3",
      "name": "python3"
    },
    "language_info": {
      "codemirror_mode": {
        "name": "ipython",
        "version": 3
      },
      "file_extension": ".py",
      "mimetype": "text/x-python",
      "name": "python",
      "nbconvert_exporter": "python",
      "pygments_lexer": "ipython3",
      "version": "3.9.16"
    },
    "colab": {
      "provenance": [],
      "gpuType": "T4",
      "include_colab_link": true
    },
    "accelerator": "GPU"
  },
  "nbformat": 4,
  "nbformat_minor": 5
}