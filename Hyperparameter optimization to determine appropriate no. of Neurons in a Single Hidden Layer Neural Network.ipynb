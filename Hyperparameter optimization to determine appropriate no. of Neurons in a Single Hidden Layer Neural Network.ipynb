{
 "cells": [
  {
   "cell_type": "markdown",
   "id": "2e5a7b1e",
   "metadata": {},
   "source": [
    "#  <font color='blue'> Hyperparameter optimization to determine appropriate no. of Neurons in a Single Hidden Layer Neural Network </font>"
   ]
  },
  {
   "cell_type": "markdown",
   "id": "f84cccab",
   "metadata": {},
   "source": [
    "### Importing necessary libraries"
   ]
  },
  {
   "cell_type": "code",
   "execution_count": 1,
   "id": "b60b9fb5",
   "metadata": {},
   "outputs": [],
   "source": [
    "import numpy as np\n",
    "import pandas as pd\n",
    "from sklearn.model_selection import train_test_split"
   ]
  },
  {
   "cell_type": "markdown",
   "id": "d0c60fa3",
   "metadata": {},
   "source": [
    "### Load the dataset"
   ]
  },
  {
   "cell_type": "code",
   "execution_count": 22,
   "id": "2c0cebb1",
   "metadata": {},
   "outputs": [
    {
     "data": {
      "text/html": [
       "<div>\n",
       "<style scoped>\n",
       "    .dataframe tbody tr th:only-of-type {\n",
       "        vertical-align: middle;\n",
       "    }\n",
       "\n",
       "    .dataframe tbody tr th {\n",
       "        vertical-align: top;\n",
       "    }\n",
       "\n",
       "    .dataframe thead th {\n",
       "        text-align: right;\n",
       "    }\n",
       "</style>\n",
       "<table border=\"1\" class=\"dataframe\">\n",
       "  <thead>\n",
       "    <tr style=\"text-align: right;\">\n",
       "      <th></th>\n",
       "      <th>Cement (component 1)(kg in a m^3 mixture)</th>\n",
       "      <th>Blast Furnace Slag (component 2)(kg in a m^3 mixture)</th>\n",
       "      <th>Fly Ash (component 3)(kg in a m^3 mixture)</th>\n",
       "      <th>Water  (component 4)(kg in a m^3 mixture)</th>\n",
       "      <th>Superplasticizer (component 5)(kg in a m^3 mixture)</th>\n",
       "      <th>Coarse Aggregate  (component 6)(kg in a m^3 mixture)</th>\n",
       "      <th>Fine Aggregate (component 7)(kg in a m^3 mixture)</th>\n",
       "      <th>Age (day)</th>\n",
       "      <th>Concrete compressive strength(MPa, megapascals)</th>\n",
       "    </tr>\n",
       "  </thead>\n",
       "  <tbody>\n",
       "    <tr>\n",
       "      <th>0</th>\n",
       "      <td>540.0</td>\n",
       "      <td>0.0</td>\n",
       "      <td>0.0</td>\n",
       "      <td>162.0</td>\n",
       "      <td>2.5</td>\n",
       "      <td>1040.0</td>\n",
       "      <td>676.0</td>\n",
       "      <td>28</td>\n",
       "      <td>79.986111</td>\n",
       "    </tr>\n",
       "    <tr>\n",
       "      <th>1</th>\n",
       "      <td>540.0</td>\n",
       "      <td>0.0</td>\n",
       "      <td>0.0</td>\n",
       "      <td>162.0</td>\n",
       "      <td>2.5</td>\n",
       "      <td>1055.0</td>\n",
       "      <td>676.0</td>\n",
       "      <td>28</td>\n",
       "      <td>61.887366</td>\n",
       "    </tr>\n",
       "    <tr>\n",
       "      <th>2</th>\n",
       "      <td>332.5</td>\n",
       "      <td>142.5</td>\n",
       "      <td>0.0</td>\n",
       "      <td>228.0</td>\n",
       "      <td>0.0</td>\n",
       "      <td>932.0</td>\n",
       "      <td>594.0</td>\n",
       "      <td>270</td>\n",
       "      <td>40.269535</td>\n",
       "    </tr>\n",
       "    <tr>\n",
       "      <th>3</th>\n",
       "      <td>332.5</td>\n",
       "      <td>142.5</td>\n",
       "      <td>0.0</td>\n",
       "      <td>228.0</td>\n",
       "      <td>0.0</td>\n",
       "      <td>932.0</td>\n",
       "      <td>594.0</td>\n",
       "      <td>365</td>\n",
       "      <td>41.052780</td>\n",
       "    </tr>\n",
       "    <tr>\n",
       "      <th>4</th>\n",
       "      <td>198.6</td>\n",
       "      <td>132.4</td>\n",
       "      <td>0.0</td>\n",
       "      <td>192.0</td>\n",
       "      <td>0.0</td>\n",
       "      <td>978.4</td>\n",
       "      <td>825.5</td>\n",
       "      <td>360</td>\n",
       "      <td>44.296075</td>\n",
       "    </tr>\n",
       "  </tbody>\n",
       "</table>\n",
       "</div>"
      ],
      "text/plain": [
       "   Cement (component 1)(kg in a m^3 mixture)  \\\n",
       "0                                      540.0   \n",
       "1                                      540.0   \n",
       "2                                      332.5   \n",
       "3                                      332.5   \n",
       "4                                      198.6   \n",
       "\n",
       "   Blast Furnace Slag (component 2)(kg in a m^3 mixture)  \\\n",
       "0                                                0.0       \n",
       "1                                                0.0       \n",
       "2                                              142.5       \n",
       "3                                              142.5       \n",
       "4                                              132.4       \n",
       "\n",
       "   Fly Ash (component 3)(kg in a m^3 mixture)  \\\n",
       "0                                         0.0   \n",
       "1                                         0.0   \n",
       "2                                         0.0   \n",
       "3                                         0.0   \n",
       "4                                         0.0   \n",
       "\n",
       "   Water  (component 4)(kg in a m^3 mixture)  \\\n",
       "0                                      162.0   \n",
       "1                                      162.0   \n",
       "2                                      228.0   \n",
       "3                                      228.0   \n",
       "4                                      192.0   \n",
       "\n",
       "   Superplasticizer (component 5)(kg in a m^3 mixture)  \\\n",
       "0                                                2.5     \n",
       "1                                                2.5     \n",
       "2                                                0.0     \n",
       "3                                                0.0     \n",
       "4                                                0.0     \n",
       "\n",
       "   Coarse Aggregate  (component 6)(kg in a m^3 mixture)  \\\n",
       "0                                             1040.0      \n",
       "1                                             1055.0      \n",
       "2                                              932.0      \n",
       "3                                              932.0      \n",
       "4                                              978.4      \n",
       "\n",
       "   Fine Aggregate (component 7)(kg in a m^3 mixture)  Age (day)  \\\n",
       "0                                              676.0         28   \n",
       "1                                              676.0         28   \n",
       "2                                              594.0        270   \n",
       "3                                              594.0        365   \n",
       "4                                              825.5        360   \n",
       "\n",
       "   Concrete compressive strength(MPa, megapascals)   \n",
       "0                                         79.986111  \n",
       "1                                         61.887366  \n",
       "2                                         40.269535  \n",
       "3                                         41.052780  \n",
       "4                                         44.296075  "
      ]
     },
     "execution_count": 22,
     "metadata": {},
     "output_type": "execute_result"
    }
   ],
   "source": [
    "df = pd.read_excel('Concrete_Data.xls')\n",
    "df.head()"
   ]
  },
  {
   "cell_type": "markdown",
   "id": "e7e25740",
   "metadata": {},
   "source": [
    "### Split the dataset into training, validation, and testing sets"
   ]
  },
  {
   "cell_type": "code",
   "execution_count": 5,
   "id": "8b0afec7",
   "metadata": {},
   "outputs": [],
   "source": [
    "# 60% train, 20% validation, 20% test\n",
    "\n",
    "train_val_df, test_df = train_test_split(df, test_size=0.2, random_state=0)\n",
    "train_df, val_df = train_test_split(train_val_df, test_size=0.25, random_state=0)"
   ]
  },
  {
   "cell_type": "markdown",
   "id": "fe1893b0",
   "metadata": {},
   "source": [
    "### Normalize the datasets"
   ]
  },
  {
   "cell_type": "code",
   "execution_count": 6,
   "id": "7a3ceec6",
   "metadata": {},
   "outputs": [],
   "source": [
    "train_df_norm = (train_df - train_df.mean()) / train_df.std()\n",
    "val_df_norm   = (val_df - train_df.mean()) / train_df.std()\n",
    "test_df_norm  = (test_df - train_df.mean()) / train_df.std()"
   ]
  },
  {
   "cell_type": "markdown",
   "id": "e644bdcb",
   "metadata": {},
   "source": [
    "### Convert the datasets to numpy arrays"
   ]
  },
  {
   "cell_type": "code",
   "execution_count": 7,
   "id": "435ca413",
   "metadata": {},
   "outputs": [],
   "source": [
    "train_data = train_df_norm.values\n",
    "val_data   = val_df_norm.values\n",
    "test_data  = test_df_norm.values"
   ]
  },
  {
   "cell_type": "markdown",
   "id": "6c7a2429",
   "metadata": {},
   "source": [
    "### Model"
   ]
  },
  {
   "cell_type": "code",
   "execution_count": 8,
   "id": "3633a64f",
   "metadata": {},
   "outputs": [],
   "source": [
    "class NeuralNetwork:\n",
    "    \n",
    "    def __init__(self, input_dim, hidden_dim, output_dim):\n",
    "        self.input_dim = input_dim\n",
    "        self.hidden_dim = hidden_dim\n",
    "        self.output_dim = output_dim\n",
    "        self.weights1 = np.random.randn(input_dim, hidden_dim)\n",
    "        self.bias1 = np.zeros((1, hidden_dim))\n",
    "        self.weights2 = np.random.randn(hidden_dim, output_dim)\n",
    "        self.bias2 = np.zeros((1, output_dim))\n",
    "    \n",
    "    def sigmoid(self, x):\n",
    "        return 1 / (1 + np.exp(-x))\n",
    "    \n",
    "    def sigmoid_derivative(self, x):\n",
    "        return x * (1 - x)\n",
    "    \n",
    "    def forward(self, X):\n",
    "        self.hidden_layer = self.sigmoid(np.dot(X, self.weights1) + self.bias1)\n",
    "        self.output_layer = np.dot(self.hidden_layer, self.weights2) + self.bias2\n",
    "        return self.output_layer\n",
    "    \n",
    "    def backward(self, X, y, learning_rate):\n",
    "        d_output_layer = y - self.output_layer\n",
    "        d_weights2 = np.dot(self.hidden_layer.T, d_output_layer)\n",
    "        d_bias2 = np.sum(d_output_layer, axis=0, keepdims=True)\n",
    "        d_hidden_layer = np.dot(d_output_layer, self.weights2.T) * self.sigmoid_derivative(self.hidden_layer)\n",
    "        d_weights1 = np.dot(X.T, d_hidden_layer)\n",
    "        d_bias1 = np.sum(d_hidden_layer, axis=0, keepdims=True)\n",
    "        \n",
    "        self.weights1 += learning_rate * d_weights1\n",
    "        self.bias1 += learning_rate * d_bias1\n",
    "        self.weights2 += learning_rate * d_weights2\n",
    "        self.bias2 += learning_rate * d_bias2\n",
    "    \n",
    "    def train(self, X, y, num_epochs, learning_rate):\n",
    "        for epoch in range(num_epochs):\n",
    "            for i in range(len(X)):\n",
    "                xi = X[i].reshape(1, -1)\n",
    "                yi = y[i].reshape(1, -1)\n",
    "                output = self.forward(xi)\n",
    "                self.backward(xi, yi, learning_rate)\n",
    "    def predict(self, X):\n",
    "        return self.forward(X)"
   ]
  },
  {
   "cell_type": "markdown",
   "id": "a23acff9",
   "metadata": {},
   "source": [
    "### Define the input and output dimensions"
   ]
  },
  {
   "cell_type": "code",
   "execution_count": 9,
   "id": "b0af7ca1",
   "metadata": {},
   "outputs": [],
   "source": [
    "input_dim = 8\n",
    "output_dim = 1"
   ]
  },
  {
   "cell_type": "markdown",
   "id": "a5949f2b",
   "metadata": {},
   "source": [
    "### Finding the appropriate number of neurons"
   ]
  },
  {
   "cell_type": "code",
   "execution_count": 10,
   "id": "0f826b99",
   "metadata": {},
   "outputs": [],
   "source": [
    "# Define the range of possible values for the number of neurons in the hidden layer\n",
    "neuron_range = range(1, 5)\n",
    "\n",
    "# Train and validate a neural network for each value of neurons in the range\n",
    "best_mse = float('inf')\n",
    "best_neuron = None\n",
    "for n in neuron_range:\n",
    "    # Define the neural network architecture\n",
    "    hidden_dim = n\n",
    "    model = NeuralNetwork(input_dim=input_dim, hidden_dim=hidden_dim, output_dim=output_dim)\n",
    "\n",
    "    # Train the neural network on the training set and validate on the validation set\n",
    "    model.train(train_data[:, :input_dim], train_data[:, -1].reshape(-1, 1), num_epochs=1000, learning_rate=0.1)\n",
    "    predictions = model.predict(val_data[:, :input_dim])\n",
    "    mse = np.mean((predictions - val_data[:, -1].reshape(-1, 1)) ** 2)\n",
    "\n",
    "    # Keep track of the best neural network based on validation set performance\n",
    "    if mse < best_mse:\n",
    "        best_mse = mse\n",
    "        best_neuron = n"
   ]
  },
  {
   "cell_type": "markdown",
   "id": "7bf8d95e",
   "metadata": {},
   "source": [
    "### Train the best neural network on the combined training and validation sets"
   ]
  },
  {
   "cell_type": "code",
   "execution_count": 11,
   "id": "ecfe25ed",
   "metadata": {},
   "outputs": [],
   "source": [
    "model = NeuralNetwork(input_dim=input_dim, hidden_dim=best_neuron, output_dim=output_dim)\n",
    "model.train(np.concatenate([train_data[:, :input_dim], val_data[:, :input_dim]]),\n",
    "            np.concatenate([train_data[:, -1].reshape(-1, 1), val_data[:, -1].reshape(-1, 1)]),\n",
    "            num_epochs=1000, learning_rate=0.1)"
   ]
  },
  {
   "cell_type": "markdown",
   "id": "7c528662",
   "metadata": {},
   "source": [
    "### Test the best neural network on the testing set"
   ]
  },
  {
   "cell_type": "code",
   "execution_count": 12,
   "id": "55922703",
   "metadata": {},
   "outputs": [
    {
     "name": "stdout",
     "output_type": "stream",
     "text": [
      "Best number of neurons: 4\n",
      "Mean Squared Error: 0.15219889074985293\n"
     ]
    }
   ],
   "source": [
    "predictions = model.predict(test_data[:, :input_dim])\n",
    "mse = np.mean((predictions - test_data[:, -1].reshape(-1, 1)) ** 2)\n",
    "print('Best number of neurons:', best_neuron)\n",
    "print('Mean Squared Error:', mse)"
   ]
  },
  {
   "cell_type": "markdown",
   "id": "00a667c8",
   "metadata": {},
   "source": [
    "#  <font color='blue'> Comparing this Optimal Single Layer Neural Network with Linear and Quadratic Regression :</font>"
   ]
  },
  {
   "cell_type": "markdown",
   "id": "9d8b0f03",
   "metadata": {},
   "source": [
    "### Importing LinearRegression Model from SkLearn. And spliting the data into train (80%) and test (20%) and normalizing."
   ]
  },
  {
   "cell_type": "code",
   "execution_count": 13,
   "id": "4045f9c9",
   "metadata": {},
   "outputs": [
    {
     "data": {
      "text/html": [
       "<style>#sk-container-id-1 {color: black;background-color: white;}#sk-container-id-1 pre{padding: 0;}#sk-container-id-1 div.sk-toggleable {background-color: white;}#sk-container-id-1 label.sk-toggleable__label {cursor: pointer;display: block;width: 100%;margin-bottom: 0;padding: 0.3em;box-sizing: border-box;text-align: center;}#sk-container-id-1 label.sk-toggleable__label-arrow:before {content: \"▸\";float: left;margin-right: 0.25em;color: #696969;}#sk-container-id-1 label.sk-toggleable__label-arrow:hover:before {color: black;}#sk-container-id-1 div.sk-estimator:hover label.sk-toggleable__label-arrow:before {color: black;}#sk-container-id-1 div.sk-toggleable__content {max-height: 0;max-width: 0;overflow: hidden;text-align: left;background-color: #f0f8ff;}#sk-container-id-1 div.sk-toggleable__content pre {margin: 0.2em;color: black;border-radius: 0.25em;background-color: #f0f8ff;}#sk-container-id-1 input.sk-toggleable__control:checked~div.sk-toggleable__content {max-height: 200px;max-width: 100%;overflow: auto;}#sk-container-id-1 input.sk-toggleable__control:checked~label.sk-toggleable__label-arrow:before {content: \"▾\";}#sk-container-id-1 div.sk-estimator input.sk-toggleable__control:checked~label.sk-toggleable__label {background-color: #d4ebff;}#sk-container-id-1 div.sk-label input.sk-toggleable__control:checked~label.sk-toggleable__label {background-color: #d4ebff;}#sk-container-id-1 input.sk-hidden--visually {border: 0;clip: rect(1px 1px 1px 1px);clip: rect(1px, 1px, 1px, 1px);height: 1px;margin: -1px;overflow: hidden;padding: 0;position: absolute;width: 1px;}#sk-container-id-1 div.sk-estimator {font-family: monospace;background-color: #f0f8ff;border: 1px dotted black;border-radius: 0.25em;box-sizing: border-box;margin-bottom: 0.5em;}#sk-container-id-1 div.sk-estimator:hover {background-color: #d4ebff;}#sk-container-id-1 div.sk-parallel-item::after {content: \"\";width: 100%;border-bottom: 1px solid gray;flex-grow: 1;}#sk-container-id-1 div.sk-label:hover label.sk-toggleable__label {background-color: #d4ebff;}#sk-container-id-1 div.sk-serial::before {content: \"\";position: absolute;border-left: 1px solid gray;box-sizing: border-box;top: 0;bottom: 0;left: 50%;z-index: 0;}#sk-container-id-1 div.sk-serial {display: flex;flex-direction: column;align-items: center;background-color: white;padding-right: 0.2em;padding-left: 0.2em;position: relative;}#sk-container-id-1 div.sk-item {position: relative;z-index: 1;}#sk-container-id-1 div.sk-parallel {display: flex;align-items: stretch;justify-content: center;background-color: white;position: relative;}#sk-container-id-1 div.sk-item::before, #sk-container-id-1 div.sk-parallel-item::before {content: \"\";position: absolute;border-left: 1px solid gray;box-sizing: border-box;top: 0;bottom: 0;left: 50%;z-index: -1;}#sk-container-id-1 div.sk-parallel-item {display: flex;flex-direction: column;z-index: 1;position: relative;background-color: white;}#sk-container-id-1 div.sk-parallel-item:first-child::after {align-self: flex-end;width: 50%;}#sk-container-id-1 div.sk-parallel-item:last-child::after {align-self: flex-start;width: 50%;}#sk-container-id-1 div.sk-parallel-item:only-child::after {width: 0;}#sk-container-id-1 div.sk-dashed-wrapped {border: 1px dashed gray;margin: 0 0.4em 0.5em 0.4em;box-sizing: border-box;padding-bottom: 0.4em;background-color: white;}#sk-container-id-1 div.sk-label label {font-family: monospace;font-weight: bold;display: inline-block;line-height: 1.2em;}#sk-container-id-1 div.sk-label-container {text-align: center;}#sk-container-id-1 div.sk-container {/* jupyter's `normalize.less` sets `[hidden] { display: none; }` but bootstrap.min.css set `[hidden] { display: none !important; }` so we also need the `!important` here to be able to override the default hidden behavior on the sphinx rendered scikit-learn.org. See: https://github.com/scikit-learn/scikit-learn/issues/21755 */display: inline-block !important;position: relative;}#sk-container-id-1 div.sk-text-repr-fallback {display: none;}</style><div id=\"sk-container-id-1\" class=\"sk-top-container\"><div class=\"sk-text-repr-fallback\"><pre>LinearRegression()</pre><b>In a Jupyter environment, please rerun this cell to show the HTML representation or trust the notebook. <br />On GitHub, the HTML representation is unable to render, please try loading this page with nbviewer.org.</b></div><div class=\"sk-container\" hidden><div class=\"sk-item\"><div class=\"sk-estimator sk-toggleable\"><input class=\"sk-toggleable__control sk-hidden--visually\" id=\"sk-estimator-id-1\" type=\"checkbox\" checked><label for=\"sk-estimator-id-1\" class=\"sk-toggleable__label sk-toggleable__label-arrow\">LinearRegression</label><div class=\"sk-toggleable__content\"><pre>LinearRegression()</pre></div></div></div></div></div>"
      ],
      "text/plain": [
       "LinearRegression()"
      ]
     },
     "execution_count": 13,
     "metadata": {},
     "output_type": "execute_result"
    }
   ],
   "source": [
    "from sklearn.linear_model import LinearRegression\n",
    "from sklearn.model_selection import train_test_split\n",
    "df_norm = (df - df.mean()) / df.std()\n",
    "X=df_norm.drop('Concrete compressive strength(MPa, megapascals) ',axis=1)\n",
    "y=df_norm['Concrete compressive strength(MPa, megapascals) ']\n",
    "train_X, test_X, train_y, test_y = train_test_split(X, y, test_size=0.2, random_state=42)"
   ]
  },
  {
   "cell_type": "markdown",
   "id": "3b2963ea",
   "metadata": {},
   "source": [
    "### Linear regression model"
   ]
  },
  {
   "cell_type": "code",
   "execution_count": null,
   "id": "4d0d6f8e",
   "metadata": {},
   "outputs": [],
   "source": [
    "linear_model=LinearRegression()\n",
    "linear_model.fit(train_X,train_y)"
   ]
  },
  {
   "cell_type": "markdown",
   "id": "9ebb49fc",
   "metadata": {},
   "source": [
    "###  Quadratic regression model"
   ]
  },
  {
   "cell_type": "code",
   "execution_count": 14,
   "id": "0e3e931a",
   "metadata": {},
   "outputs": [
    {
     "data": {
      "text/html": [
       "<style>#sk-container-id-2 {color: black;background-color: white;}#sk-container-id-2 pre{padding: 0;}#sk-container-id-2 div.sk-toggleable {background-color: white;}#sk-container-id-2 label.sk-toggleable__label {cursor: pointer;display: block;width: 100%;margin-bottom: 0;padding: 0.3em;box-sizing: border-box;text-align: center;}#sk-container-id-2 label.sk-toggleable__label-arrow:before {content: \"▸\";float: left;margin-right: 0.25em;color: #696969;}#sk-container-id-2 label.sk-toggleable__label-arrow:hover:before {color: black;}#sk-container-id-2 div.sk-estimator:hover label.sk-toggleable__label-arrow:before {color: black;}#sk-container-id-2 div.sk-toggleable__content {max-height: 0;max-width: 0;overflow: hidden;text-align: left;background-color: #f0f8ff;}#sk-container-id-2 div.sk-toggleable__content pre {margin: 0.2em;color: black;border-radius: 0.25em;background-color: #f0f8ff;}#sk-container-id-2 input.sk-toggleable__control:checked~div.sk-toggleable__content {max-height: 200px;max-width: 100%;overflow: auto;}#sk-container-id-2 input.sk-toggleable__control:checked~label.sk-toggleable__label-arrow:before {content: \"▾\";}#sk-container-id-2 div.sk-estimator input.sk-toggleable__control:checked~label.sk-toggleable__label {background-color: #d4ebff;}#sk-container-id-2 div.sk-label input.sk-toggleable__control:checked~label.sk-toggleable__label {background-color: #d4ebff;}#sk-container-id-2 input.sk-hidden--visually {border: 0;clip: rect(1px 1px 1px 1px);clip: rect(1px, 1px, 1px, 1px);height: 1px;margin: -1px;overflow: hidden;padding: 0;position: absolute;width: 1px;}#sk-container-id-2 div.sk-estimator {font-family: monospace;background-color: #f0f8ff;border: 1px dotted black;border-radius: 0.25em;box-sizing: border-box;margin-bottom: 0.5em;}#sk-container-id-2 div.sk-estimator:hover {background-color: #d4ebff;}#sk-container-id-2 div.sk-parallel-item::after {content: \"\";width: 100%;border-bottom: 1px solid gray;flex-grow: 1;}#sk-container-id-2 div.sk-label:hover label.sk-toggleable__label {background-color: #d4ebff;}#sk-container-id-2 div.sk-serial::before {content: \"\";position: absolute;border-left: 1px solid gray;box-sizing: border-box;top: 0;bottom: 0;left: 50%;z-index: 0;}#sk-container-id-2 div.sk-serial {display: flex;flex-direction: column;align-items: center;background-color: white;padding-right: 0.2em;padding-left: 0.2em;position: relative;}#sk-container-id-2 div.sk-item {position: relative;z-index: 1;}#sk-container-id-2 div.sk-parallel {display: flex;align-items: stretch;justify-content: center;background-color: white;position: relative;}#sk-container-id-2 div.sk-item::before, #sk-container-id-2 div.sk-parallel-item::before {content: \"\";position: absolute;border-left: 1px solid gray;box-sizing: border-box;top: 0;bottom: 0;left: 50%;z-index: -1;}#sk-container-id-2 div.sk-parallel-item {display: flex;flex-direction: column;z-index: 1;position: relative;background-color: white;}#sk-container-id-2 div.sk-parallel-item:first-child::after {align-self: flex-end;width: 50%;}#sk-container-id-2 div.sk-parallel-item:last-child::after {align-self: flex-start;width: 50%;}#sk-container-id-2 div.sk-parallel-item:only-child::after {width: 0;}#sk-container-id-2 div.sk-dashed-wrapped {border: 1px dashed gray;margin: 0 0.4em 0.5em 0.4em;box-sizing: border-box;padding-bottom: 0.4em;background-color: white;}#sk-container-id-2 div.sk-label label {font-family: monospace;font-weight: bold;display: inline-block;line-height: 1.2em;}#sk-container-id-2 div.sk-label-container {text-align: center;}#sk-container-id-2 div.sk-container {/* jupyter's `normalize.less` sets `[hidden] { display: none; }` but bootstrap.min.css set `[hidden] { display: none !important; }` so we also need the `!important` here to be able to override the default hidden behavior on the sphinx rendered scikit-learn.org. See: https://github.com/scikit-learn/scikit-learn/issues/21755 */display: inline-block !important;position: relative;}#sk-container-id-2 div.sk-text-repr-fallback {display: none;}</style><div id=\"sk-container-id-2\" class=\"sk-top-container\"><div class=\"sk-text-repr-fallback\"><pre>LinearRegression()</pre><b>In a Jupyter environment, please rerun this cell to show the HTML representation or trust the notebook. <br />On GitHub, the HTML representation is unable to render, please try loading this page with nbviewer.org.</b></div><div class=\"sk-container\" hidden><div class=\"sk-item\"><div class=\"sk-estimator sk-toggleable\"><input class=\"sk-toggleable__control sk-hidden--visually\" id=\"sk-estimator-id-2\" type=\"checkbox\" checked><label for=\"sk-estimator-id-2\" class=\"sk-toggleable__label sk-toggleable__label-arrow\">LinearRegression</label><div class=\"sk-toggleable__content\"><pre>LinearRegression()</pre></div></div></div></div></div>"
      ],
      "text/plain": [
       "LinearRegression()"
      ]
     },
     "execution_count": 14,
     "metadata": {},
     "output_type": "execute_result"
    }
   ],
   "source": [
    "# Generating polynomial features \n",
    "from sklearn.preprocessing import PolynomialFeatures\n",
    "poly=PolynomialFeatures(degree=2)\n",
    "quadratic_X_train=poly.fit_transform(train_X)\n",
    "quadratic_X_test=poly.transform(test_X)\n",
    "\n",
    "quadratic_model=LinearRegression()\n",
    "quadratic_model.fit(quadratic_X_train,train_y)"
   ]
  },
  {
   "cell_type": "markdown",
   "id": "2e265308",
   "metadata": {},
   "source": [
    "### Computing \"Mean Squared Error\" for all the models"
   ]
  },
  {
   "cell_type": "code",
   "execution_count": 15,
   "id": "098596c6",
   "metadata": {},
   "outputs": [],
   "source": [
    "# Compute the MSE for linear regression\n",
    "linear_predictions = linear_model.predict(test_X)\n",
    "linear_mse = np.mean((linear_predictions - test_y) ** 2)\n",
    "\n",
    "# Compute the MSE for quadratic regression\n",
    "quadratic_predictions = quadratic_model.predict(quadratic_X_test)\n",
    "quadratic_mse = np.mean((quadratic_predictions - test_y) ** 2)\n",
    "\n",
    "# Compute the MSE for the optimal neural network\n",
    "nn_predictions = model.predict(test_data[:, :input_dim])\n",
    "nn_mse = np.mean((predictions - test_data[:, -1].reshape(-1, 1)) ** 2)"
   ]
  },
  {
   "cell_type": "code",
   "execution_count": 16,
   "id": "342b29c8",
   "metadata": {},
   "outputs": [
    {
     "name": "stdout",
     "output_type": "stream",
     "text": [
      "MSE using Linear Regression:\t 0.3438998917242788\n",
      "================================================================================\n",
      "MSE using Quadratic Regression:\t 0.19919013475199904\n",
      "================================================================================\n",
      "MSE using Optimal Neural Network:\t 0.15219889074985293\n"
     ]
    }
   ],
   "source": [
    "print(\"MSE using Linear Regression:\\t\",linear_mse)\n",
    "print(\"=\"*80)\n",
    "print(\"MSE using Quadratic Regression:\\t\",quadratic_mse)\n",
    "print(\"=\"*80)\n",
    "print(\"MSE using Optimal Neural Network:\\t\",nn_mse)"
   ]
  },
  {
   "cell_type": "markdown",
   "id": "9796f599",
   "metadata": {},
   "source": [
    "### Compute \" r<sup>2</sup> \" score"
   ]
  },
  {
   "cell_type": "code",
   "execution_count": 19,
   "id": "984b4742",
   "metadata": {},
   "outputs": [],
   "source": [
    "from sklearn.metrics import r2_score\n",
    "\n",
    "# Compute the R2 error for linear regression\n",
    "linear_r2 = r2_score(test_y, linear_predictions)\n",
    "\n",
    "# Compute the R2 error for quadratic regression\n",
    "quadratic_r2 = r2_score(test_y, quadratic_predictions)\n",
    "\n",
    "# Compute the R2 error for the neural network\n",
    "nn_r2 = r2_score(test_data[:, -1], nn_predictions)\n"
   ]
  },
  {
   "cell_type": "code",
   "execution_count": 20,
   "id": "27e67f36",
   "metadata": {},
   "outputs": [
    {
     "name": "stdout",
     "output_type": "stream",
     "text": [
      "r2_score using Linear Regression:\t 0.627541605542902\n",
      "================================================================================\n",
      "r2_score using Quadratic Regression:\t 0.7842685049726497\n",
      "================================================================================\n",
      "r2_score using Optimal Neural Network:\t 0.8377960159207484\n"
     ]
    }
   ],
   "source": [
    "print(\"r2_score using Linear Regression:\\t\",linear_r2)\n",
    "print(\"=\"*80)\n",
    "print(\"r2_score using Quadratic Regression:\\t\",quadratic_r2)\n",
    "print(\"=\"*80)\n",
    "print(\"r2_score using Optimal Neural Network:\\t\",nn_r2)"
   ]
  },
  {
   "cell_type": "markdown",
   "id": "f5ab3d42",
   "metadata": {},
   "source": [
    " * A higher R2 score is generally considered better in the context of regression models. The R2 score, also known as the coefficient of determination, measures the proportion  of the variance in the dependent variable that can be explained by the independent variables."
   ]
  },
  {
   "cell_type": "markdown",
   "id": "f7d0eca4",
   "metadata": {},
   "source": [
    "### Plotting results for  <font color='red'>Linear Regression</font>  , <font color='blue'>Quadratic Regression</font> and <font color='green'>Neural Network</font>"
   ]
  },
  {
   "cell_type": "code",
   "execution_count": 17,
   "id": "5d564010",
   "metadata": {},
   "outputs": [
    {
     "data": {
      "image/png": "[encoded data removed]",
      "text/plain": [
       "<Figure size 1200x400 with 3 Axes>"
      ]
     },
     "metadata": {},
     "output_type": "display_data"
    }
   ],
   "source": [
    "import matplotlib.pyplot as plt\n",
    "\n",
    "fig, axes = plt.subplots(nrows=1, ncols=3, figsize=(12, 4))\n",
    "\n",
    "# Plot the predictions and actual values for linear regression\n",
    "axes[0].scatter(test_y, linear_predictions,color='red')\n",
    "axes[0].set_xlabel('Actual Values')\n",
    "axes[0].set_ylabel('Predictions')\n",
    "axes[0].set_title('Linear Regression')\n",
    "\n",
    "# Plot the predictions and actual values for quadratic regression\n",
    "axes[1].scatter(test_y, quadratic_predictions,color='blue')\n",
    "axes[1].set_xlabel('Actual Values')\n",
    "axes[1].set_ylabel('Predictions')\n",
    "axes[1].set_title('Quadratic Regression')\n",
    "\n",
    "# Plot the predictions and actual values for the optimal neural network\n",
    "axes[2].scatter(test_data[:, -1].reshape(-1, 1), nn_predictions,color='green')\n",
    "axes[2].set_xlabel('Actual Values')\n",
    "axes[2].set_ylabel('Predictions')\n",
    "axes[2].set_title('Neural Network')\n",
    "\n",
    "plt.tight_layout()\n",
    "plt.show()\n"
   ]
  },
  {
   "cell_type": "markdown",
   "id": "3175ac83",
   "metadata": {},
   "source": []
  }
 ],
 "metadata": {
  "kernelspec": {
   "display_name": "Python 3 (ipykernel)",
   "language": "python",
   "name": "python3"
  },
  "language_info": {
   "codemirror_mode": {
    "name": "ipython",
    "version": 3
   },
   "file_extension": ".py",
   "mimetype": "text/x-python",
   "name": "python",
   "nbconvert_exporter": "python",
   "pygments_lexer": "ipython3",
   "version": "3.9.16"
  }
 },
 "nbformat": 4,
 "nbformat_minor": 5
}
